{
 "cells": [
  {
   "cell_type": "markdown",
   "metadata": {},
   "source": [
    "## 練習\n",
    "アイリスデータセットの2つの特徴量、`petal_length` と` petal_width`、から2つの花の種類、`versicolor` か `virginica`、を予測するモデルをロジスティック回帰を用いて学習し、その予測精度を評価してください。以下では `pandas` データフレームの `values` 属性を用いてNumPy配列を取得しています。"
   ]
  },
  {
   "cell_type": "code",
   "execution_count": null,
   "metadata": {},
   "outputs": [],
   "source": [
    "from sklearn.linear_model import LogisticRegression\n",
    "from sklearn.model_selection import train_test_split\n",
    "from sklearn.metrics import accuracy_score\n",
    "\n",
    "iris = pd.read_csv('iris.csv')\n",
    "iris2=iris[(iris['species']=='versicolor')|(iris['species']=='virginica')]\n",
    "X_iris=iris2[['petal_length','petal_width']].values\n",
    "y_iris=iris2['species'].values\n",
    "\n",
    "###  your code here"
   ]
  },
  {
   "cell_type": "markdown",
   "metadata": {},
   "source": [
    "上記のコードが完成したら、以下のコードを実行して、2つの特徴量、`petal_length` と `petal_width`、から2つの花の種類、`versicolor` か `virginica`、を分類するための決定境界を可視化してみてください。`model` は上記の練習で学習されたモデルとします。決定境界は、学習の結果得られた、特徴量の空間においてラベル（クラス）間を分離する境界を表しています。"
   ]
  },
  {
   "cell_type": "code",
   "execution_count": null,
   "metadata": {},
   "outputs": [],
   "source": [
    "import numpy as np\n",
    "import matplotlib.pyplot as plt\n",
    "%matplotlib inline\n",
    " \n",
    "w2 = model.coef_[0,1]\n",
    "w1 = model.coef_[0,0]\n",
    "w0 = model.intercept_[0]\n",
    "\n",
    "line=np.linspace(3,7)\n",
    "plt.plot(line, -(w1*line+w0)/w2)\n",
    "y_c = (y_iris=='versicolor').astype(np.int)\n",
    "plt.scatter(iris2['petal_length'],iris2['petal_width'],c=y_c);"
   ]
  },
  {
   "cell_type": "markdown",
   "metadata": {},
   "source": [
    "## 練習\n",
    "アイリスデータセットの2つの特徴量、`sepal_length` と `sepal_width`、を元に、`KMeans` モデルを用いて花のデータをクラスタリングしてください。クラスタの数は任意に設定してください。"
   ]
  },
  {
   "cell_type": "code",
   "execution_count": null,
   "metadata": {},
   "outputs": [],
   "source": [
    "from sklearn.cluster import KMeans\n",
    "import pandas as pd\n",
    "import matplotlib.pyplot as plt\n",
    "%matplotlib inline\n",
    "\n",
    "iris = pd.read_csv('iris.csv')\n",
    "X_iris=iris[['sepal_length', 'sepal_width']].values\n",
    "\n",
    "### your code here"
   ]
  },
  {
   "cell_type": "markdown",
   "metadata": {},
   "source": [
    "## 練習の解答例"
   ]
  },
  {
   "cell_type": "code",
   "execution_count": null,
   "metadata": {},
   "outputs": [],
   "source": [
    "from sklearn.linear_model import LogisticRegression\n",
    "from sklearn.model_selection import train_test_split\n",
    "from sklearn.metrics import accuracy_score\n",
    "\n",
    "iris = pd.read_csv('iris.csv')\n",
    "iris2=iris[(iris['species']=='versicolor')|(iris['species']=='virginica')]\n",
    "X_iris=iris2[['petal_length','petal_width']].values\n",
    "y_iris=iris2['species'].values\n",
    "\n",
    "X_train, X_test, y_train, y_test = train_test_split(X_iris, y_iris, test_size=0.3, random_state=1, stratify=y_iris)\n",
    "\n",
    "model=LogisticRegression(solver='lbfgs',  multi_class='auto')\n",
    "# ***scikit-leranのバージョンが0.19以前の環境ではこちらを実行してください***\n",
    "# model=LogisticRegression() \n",
    "model.fit(X_train, y_train)\n",
    "y_model=model.predict(X_test)\n",
    "accuracy_score(y_test, y_model)"
   ]
  },
  {
   "cell_type": "code",
   "execution_count": null,
   "metadata": {},
   "outputs": [],
   "source": [
    "from sklearn.cluster import KMeans\n",
    "import pandas as pd\n",
    "import matplotlib.pyplot as plt\n",
    "%matplotlib inline\n",
    "\n",
    "iris = pd.read_csv('iris.csv')\n",
    "X_iris=iris[['sepal_length', 'sepal_width']].values\n",
    "\n",
    "model = KMeans(n_clusters=3)\n",
    "model.fit(X_iris)\n",
    "y_km=model.predict(X_iris)\n",
    "\n",
    "iris['cluster']=y_km\n",
    "iris.plot.scatter(x='sepal_length', y='sepal_width', c='cluster', colormap='viridis');"
   ]
  }
 ],
 "metadata": {
  "kernelspec": {
   "display_name": "Python 3",
   "language": "python",
   "name": "python3"
  },
  "language_info": {
   "codemirror_mode": {
    "name": "ipython",
    "version": 3
   },
   "file_extension": ".py",
   "mimetype": "text/x-python",
   "name": "python",
   "nbconvert_exporter": "python",
   "pygments_lexer": "ipython3",
   "version": "3.6.7"
  }
 },
 "nbformat": 4,
 "nbformat_minor": 2
}
