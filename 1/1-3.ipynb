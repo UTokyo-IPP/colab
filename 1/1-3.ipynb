{
 "cells": [
  {
   "cell_type": "code",
   "execution_count": null,
   "metadata": {},
   "outputs": [],
   "source": [
    "# MASTER ONLY\n",
    "\n",
    "%load_ext prog_edu_assistant_tools.magics\n",
    "from prog_edu_assistant_tools.magics import report, autotest"
   ]
  },
  {
   "cell_type": "markdown",
   "metadata": {
    "slideshow": {
     "slide_type": "slide"
    }
   },
   "source": [
    "```\n",
    "# ASSIGNMENT METADATA\n",
    "assignment_id: \"3\"\n",
    "```\n",
    "## 練習\n",
    "\n",
    "1. 数値 `x` の絶対値を求める関数 `absolute(x)` を定義してください。\n",
    "   （Pythonには `abs` という組み込み関数が用意されていますが。）\n",
    "\n",
    "定義ができたら、その次のセルを実行して、`True` のみが表示されることを確認してください。\n",
    "\n",
    "```\n",
    "# EXERCISE METADATA\n",
    "exercise_id: \"Absolute\"\n",
    "```"
   ]
  },
  {
   "cell_type": "code",
   "execution_count": null,
   "metadata": {},
   "outputs": [],
   "source": [
    "%%solution\n",
    "def absolute(x):\n",
    "    \"\"\" # BEGIN PROMPT\n",
    "    return ...\n",
    "    \"\"\" # END PROMPT\n",
    "    # BEGIN SOLUTION\n",
    "    if x<0:\n",
    "        return -x\n",
    "    else:\n",
    "        return x\n",
    "    # END SOLUTION"
   ]
  },
  {
   "cell_type": "code",
   "execution_count": null,
   "metadata": {
    "tags": []
   },
   "outputs": [],
   "source": [
    "%%inlinetest AutograderTest_Absolute\n",
    "assert 'absolute' in globals(), \"Did you define a function named 'absolute' in the solution cell?\"\n",
    "assert str(absolute.__class__) == \"<class 'function'>\", f\"Did you define 'absolute' as a function? There was a {absolute.__class__} instead\"\n",
    "\n",
    "assert absolute(1) == 1, f\"Did you handle positive numbers correctly? absolute(1) is {absolute(1)}\"\n",
    "assert absolute(2) == 2, f\"Did you handle positive numbers correctly? absolute(2) is {absolute(2)}\"\n",
    "assert absolute(-1) == 1, f\"Did you handle negative numbers correctly? absolute(-1) is {absolute(-1)}\"\n",
    "assert absolute(-2) == 2, f\"Did you handle positive numbers correctly? absolute(-2) is {absolute(-2)}\"\n",
    "assert absolute(0) == 0, f\"Did you handle zero correctly? absolute(0) is {absolute(0)}\"\n",
    "assert absolute(3.1415) == 3.1415, f\"Did you handle non-integer numbers correctly? absolute(3.1415) is {absolute(3.1415)}\"\n",
    "assert absolute(-3.1415) == 3.1415, f\"Did you handle non-integer numbers correctly? absolute(-3.1415) is {absolute(-3.1415)}\""
   ]
  },
  {
   "cell_type": "code",
   "execution_count": null,
   "metadata": {},
   "outputs": [],
   "source": [
    "print(absolute(5) == 5)\n",
    "print(absolute(-5) == 5)\n",
    "print(absolute(0) == 0)"
   ]
  },
  {
   "cell_type": "code",
   "execution_count": null,
   "metadata": {},
   "outputs": [],
   "source": [
    "results, log = %autotest AutograderTest_Absolute\n",
    "assert results.results['passed']\n",
    "report(AutograderTest_Absolute, results=results.results, source=submission_source.source)"
   ]
  },
  {
   "cell_type": "code",
   "execution_count": null,
   "metadata": {},
   "outputs": [],
   "source": [
    "%%submission\n",
    "def absolute(x):\n",
    "    return x"
   ]
  },
  {
   "cell_type": "code",
   "execution_count": null,
   "metadata": {},
   "outputs": [],
   "source": [
    "results, log = %autotest AutograderTest_Absolute\n",
    "assert not results.results['passed']\n",
    "report(AutograderTest_Absolute, results=results.results, source=submission_source.source)"
   ]
  },
  {
   "cell_type": "code",
   "execution_count": null,
   "metadata": {},
   "outputs": [],
   "source": [
    "%%submission\n",
    "def absolute(x):\n",
    "    if x < 0:\n",
    "        return -x\n",
    "    return x"
   ]
  },
  {
   "cell_type": "code",
   "execution_count": null,
   "metadata": {},
   "outputs": [],
   "source": [
    "results, log = %autotest AutograderTest_Absolute\n",
    "assert results.results['passed']\n",
    "report(AutograderTest_Absolute, results=results.results, source=submission_source.source)"
   ]
  },
  {
   "cell_type": "markdown",
   "metadata": {},
   "source": [
    "## 練習\n",
    "\n",
    "1. `x` が正ならば 1、負ならば -1、ゼロならば 0 を返す `sign(x)` という関数を定義してください。\n",
    "\n",
    "定義ができたら、その次のセルを実行して、`True` のみが表示されることを確認してください。\n",
    "```\n",
    "# EXERCISE METADATA\n",
    "exercise_id: \"Sign\"\n",
    "```"
   ]
  },
  {
   "cell_type": "code",
   "execution_count": null,
   "metadata": {},
   "outputs": [],
   "source": [
    "%%solution\n",
    "def sign(x):\n",
    "    \"\"\" # BEGIN PROMPT\n",
    "    return ...\n",
    "    \"\"\" # END PROMPT\n",
    "    # BEGIN SOLUTION\n",
    "    if x<0:\n",
    "        return -1\n",
    "    if x>0:\n",
    "        return 1\n",
    "    return 0\n",
    "    # END SOLUTION"
   ]
  },
  {
   "cell_type": "code",
   "execution_count": null,
   "metadata": {},
   "outputs": [],
   "source": [
    "%%inlinetest AutograderTest_Sign\n",
    "assert 'sign' in globals(), \"Did you define a function named 'sign' in the solution cell?\"\n",
    "assert str(sign.__class__) == \"<class 'function'>\", f\"Did you define 'sign' as a function? There was a {sign.__class__} instead\"\n",
    "\n",
    "assert sign(1) is not None, f\"Did you return a value from the function?\"\n",
    "assert sign(1) == 1, f\"Did you handle positive number correctly? sign(1) returned {sign(1)}\"\n",
    "assert sign(2) == 1, f\"Did you handle positive number correctly? sign(2) returned {sign(2)}\"\n",
    "assert sign(-1) == -1, f\"Did you handle positive number correctly? sign(-1) is {sign(-1)}\"\n",
    "assert sign(-2) == -1, f\"Did you handle positive number correctly? sign(-2) is {sign(-2)}\"\n",
    "assert sign(0) == 0, f\"Did you handle zero correctly? sign(0) returned {sign(0)}\"\n",
    "assert sign(3.1415) == 1, f\"Did you handle non-integer numbers correctly? sign(3.1415) is {sign(3.1415)}\"\n",
    "assert sign(-3.1415) == -1, f\"Did you handle non-integer numbers correctly? sign(3.1415) is {sign(3.1415)}\""
   ]
  },
  {
   "cell_type": "code",
   "execution_count": null,
   "metadata": {
    "tags": [
     "raises-exception"
    ]
   },
   "outputs": [],
   "source": [
    "print(sign(5) == 1)\n",
    "print(sign(-5) == -1)\n",
    "print(sign(0) == 0)"
   ]
  },
  {
   "cell_type": "code",
   "execution_count": null,
   "metadata": {},
   "outputs": [],
   "source": [
    "results, log = %autotest AutograderTest_Sign\n",
    "assert results.results['passed']\n",
    "report(AutograderTest_Sign, results=results.results, source=submission_source.source)"
   ]
  },
  {
   "cell_type": "code",
   "execution_count": null,
   "metadata": {},
   "outputs": [],
   "source": [
    "%%submission\n",
    "def sign(x):\n",
    "    if x<0:\n",
    "        return -1\n",
    "    else:\n",
    "        return 1"
   ]
  },
  {
   "cell_type": "code",
   "execution_count": null,
   "metadata": {},
   "outputs": [],
   "source": [
    "results, log = %autotest AutograderTest_Sign\n",
    "print(results.results)\n",
    "assert not results.results['passed']\n",
    "report(AutograderTest_Sign, results=results.results, source=submission_source.source)"
   ]
  },
  {
   "cell_type": "markdown",
   "metadata": {},
   "source": [
    "## 練習の解答"
   ]
  },
  {
   "cell_type": "code",
   "execution_count": null,
   "metadata": {},
   "outputs": [],
   "source": [
    "def absolute(x):\n",
    "    if x<0:\n",
    "        return -x\n",
    "    else:\n",
    "        return x"
   ]
  },
  {
   "cell_type": "code",
   "execution_count": null,
   "metadata": {},
   "outputs": [],
   "source": [
    "def sign(x):\n",
    "    if x<0:\n",
    "        return -1\n",
    "    if x>0:\n",
    "        return 1\n",
    "    return 0"
   ]
  },
  {
   "cell_type": "code",
   "execution_count": null,
   "metadata": {},
   "outputs": [],
   "source": [
    "%%inlinetest AutograderTest_Sign\n",
    "\n",
    "assert 'sign' in globals(), \"Did you define a function named 'sign' in the solution cell?\"\n",
    "assert str(sign.__class__) == \"<class 'function'>\", f\"Did you define 'absolute' as a function? There was a {sign.__class__} instead\"\n",
    "\n",
    "def test_sign(x, expected, hint):\n",
    "    actual = sign(x)\n",
    "    assert actual is not None, f\"Did you return a value from the function? Got {actual}\"\n",
    "    try:\n",
    "        float(actual)\n",
    "    except ValueError:\n",
    "        assert False, f\"Did you return a number from the function? Got {actual}\"\n",
    "    assert actual == expected, f\"{hint} Expected {expected}, but got {actual}\"\n",
    "\n",
    "test_sign(x=1, expected=1, hint=\"Does the function return 1 for positive numbers?\")\n",
    "test_sign(x=-1, expected=-1, hint=\"Does the function return -1 for negative numbers?\")\n",
    "test_sign(x=0, expected=0, hint=\"Does the function return 0 for 0?\")\n",
    "test_sign(x=0.5, expected=1, hint=\"Does the function return 1 for positive numbers less than 1?\")\n",
    "test_sign(x=21345, expected=1, hint=\"Does the function return 1 for positive numbers greater than 1?\")\n",
    "test_sign(x=-0.5, expected=-1, hint=\"Does the function return 1 for negative numbers greater than -1?\")\n",
    "test_sign(x=-21345, expected=-1, hint=\"Does the function return 1 for negative numbers less than -1?\")"
   ]
  }
 ],
 "metadata": {
  "kernelspec": {
   "display_name": "Python 3",
   "language": "python",
   "name": "python3"
  },
  "language_info": {
   "codemirror_mode": {
    "name": "ipython",
    "version": 3
   },
   "file_extension": ".py",
   "mimetype": "text/x-python",
   "name": "python",
   "nbconvert_exporter": "python",
   "pygments_lexer": "ipython3",
   "version": "3.7.3"
  }
 },
 "nbformat": 4,
 "nbformat_minor": 2
}
