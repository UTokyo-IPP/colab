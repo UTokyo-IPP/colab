{
 "cells": [
  {
   "cell_type": "markdown",
   "metadata": {
    "slideshow": {
     "slide_type": "slide"
    }
   },
   "source": [
    "## 練習\n",
    "\n",
    "1. 数値 `x` の絶対値を求める関数 `absolute(x)` を定義してください。\n",
    "   （Pythonには `abs` という組み込み関数が用意されていますが。）\n",
    "2. `x` が正ならば 1、負ならば -1、ゼロならば 0 を返す `sign(x)` という関数を定義してください。\n",
    "\n",
    "定義ができたら、その次のセルを実行して、`True` のみが表示されることを確認してください。"
   ]
  },
  {
   "cell_type": "code",
   "execution_count": null,
   "metadata": {},
   "outputs": [],
   "source": [
    "def absolute(x):\n",
    "    ..."
   ]
  },
  {
   "cell_type": "code",
   "execution_count": null,
   "metadata": {},
   "outputs": [],
   "source": [
    "def sign(x):\n",
    "    ..."
   ]
  },
  {
   "cell_type": "code",
   "execution_count": null,
   "metadata": {
    "tags": [
     "raises-exception"
    ]
   },
   "outputs": [],
   "source": [
    "print(absolute(5) == 5)\n",
    "print(absolute(-5) == 5)\n",
    "print(absolute(0) == 0)\n",
    "print(sign(5) == 1)\n",
    "print(sign(-5) == -1)\n",
    "print(sign(0) == 0)"
   ]
  },
  {
   "cell_type": "markdown",
   "metadata": {},
   "source": [
    "## 練習の解答"
   ]
  },
  {
   "cell_type": "code",
   "execution_count": null,
   "metadata": {},
   "outputs": [],
   "source": [
    "%%solution\n",
    "def absolute(x):\n",
    "    if x<0:\n",
    "        return -x\n",
    "    else:\n",
    "        return x"
   ]
  },
  {
   "cell_type": "code",
   "execution_count": null,
   "metadata": {
    "tags": []
   },
   "outputs": [],
   "source": [
    "%%inlinetest AutograderTest_Absolute\n",
    "assert 'absolute' in globals(), \"Did you define a function named 'absolute' in the solution cell?\"\n",
    "assert str(absolute.__class__) == \"<class 'function'>\", f\"Did you define 'absolute' as a function? There was a {absolute.__class__} instead\"\n",
    "\n",
    "def test_absolute(x, expected, hint):\n",
    "    actual = absolute(x)\n",
    "    assert actual is not None, f\"Did you return a value from the function? Got {actual}\"\n",
    "    try:\n",
    "        float(actual)\n",
    "    except ValueError:\n",
    "        assert False, f\"Did you return a number from the function? Got {actual}\"\n",
    "    assert actual == expected, f\"{hint} Expected {expected}, but got {actual}\"\n",
    "\n",
    "test_absolute(x=1, expected=1, hint=\"Did you handle positive numbers correctly?\")\n",
    "test_absolute(x=-1, expected=1, hint=\"Did you handle negative numbers correctly?\")\n",
    "test_absolute(x=0, expected=0, hint=\"Did you handle 0 correctly?\")\n",
    "test_absolute(x=3.1415, expected=3.1415, hint=\"Did you handle non-integer numbers correctly?\")\n",
    "test_absolute(x=-3.1415, expected=3.1415, hint=\"Did you handle non-integer numbers correctly?\")"
   ]
  },
  {
   "cell_type": "code",
   "execution_count": null,
   "metadata": {},
   "outputs": [],
   "source": [
    "%%solution\n",
    "def sign(x):\n",
    "    if x<0:\n",
    "        return -1\n",
    "    if x>0:\n",
    "        return 1\n",
    "    return 0"
   ]
  },
  {
   "cell_type": "code",
   "execution_count": null,
   "metadata": {},
   "outputs": [],
   "source": [
    "%%inlinetest AutograderTest_Sign\n",
    "\n",
    "assert 'sign' in globals(), \"Did you define a function named 'sign' in the solution cell?\"\n",
    "assert str(sign.__class__) == \"<class 'function'>\", f\"Did you define 'absolute' as a function? There was a {sign.__class__} instead\"\n",
    "\n",
    "def test_sign(x, expected, hint):\n",
    "    actual = sign(x)\n",
    "    assert actual is not None, f\"Did you return a value from the function? Got {actual}\"\n",
    "    try:\n",
    "        float(actual)\n",
    "    except ValueError:\n",
    "        assert False, f\"Did you return a number from the function? Got {actual}\"\n",
    "    assert actual == expected, f\"{hint} Expected {expected}, but got {actual}\"\n",
    "\n",
    "test_sign(x=1, expected=1, hint=\"Does the function return 1 for positive numbers?\")\n",
    "test_sign(x=-1, expected=-1, hint=\"Does the function return -1 for negative numbers?\")\n",
    "test_sign(x=0, expected=0, hint=\"Does the function return 0 for 0?\")\n",
    "test_sign(x=0.5, expected=1, hint=\"Does the function return 1 for positive numbers less than 1?\")\n",
    "test_sign(x=21345, expected=1, hint=\"Does the function return 1 for positive numbers greater than 1?\")\n",
    "test_sign(x=-0.5, expected=-1, hint=\"Does the function return 1 for negative numbers greater than -1?\")\n",
    "test_sign(x=-21345, expected=-1, hint=\"Does the function return 1 for negative numbers less than -1?\")"
   ]
  }
 ],
 "metadata": {
  "kernelspec": {
   "display_name": "Python 3",
   "language": "python",
   "name": "python3"
  },
  "language_info": {
   "codemirror_mode": {
    "name": "ipython",
    "version": 3
   },
   "file_extension": ".py",
   "mimetype": "text/x-python",
   "name": "python",
   "nbconvert_exporter": "python",
   "pygments_lexer": "ipython3",
   "version": "3.6.7"
  }
 },
 "nbformat": 4,
 "nbformat_minor": 2
}
