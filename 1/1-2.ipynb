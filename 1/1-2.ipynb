{
 "cells": [
  {
   "cell_type": "markdown",
   "metadata": {
    "slideshow": {
     "slide_type": "slide"
    }
   },
   "source": [
    "## 練習\n",
    "次のような関数を定義してください。\n",
    "\n",
    "1. `f` フィート `i` インチをセンチメートルに変換する `feet_to_cm(f,i)`\n",
    "（ただし、1 フィート = 12 イン チ = 30.48 cm である。 ）\n",
    "2. 二次関数 $f(x) = ax^2+bx+c$ の値を求める `quadratic(a,b,c,x)`"
   ]
  },
  {
   "cell_type": "markdown",
   "metadata": {},
   "source": [
    "定義ができたら、その次のセルを実行して、`True` のみが表示されることを確認してください。"
   ]
  },
  {
   "cell_type": "code",
   "execution_count": null,
   "metadata": {},
   "outputs": [],
   "source": [
    "def feet_to_cm(f,i):\n",
    "    return ..."
   ]
  },
  {
   "cell_type": "code",
   "execution_count": null,
   "metadata": {
    "tags": [
     "raises-exception"
    ]
   },
   "outputs": [],
   "source": [
    "def check_similar(x,y):\n",
    "    print(abs(x-y)<0.000001)\n",
    "check_similar(feet_to_cm(5,2),157.48)\n",
    "check_similar(feet_to_cm(6,5),195.58)"
   ]
  },
  {
   "cell_type": "code",
   "execution_count": null,
   "metadata": {},
   "outputs": [],
   "source": [
    "def quadratic(a,b,c,x):\n",
    "    return ..."
   ]
  },
  {
   "cell_type": "code",
   "execution_count": null,
   "metadata": {},
   "outputs": [],
   "source": [
    "print(quadratic(1,2,1,3) == 16)\n",
    "print(quadratic(1,-5,-2,7) == 12)"
   ]
  },
  {
   "cell_type": "markdown",
   "metadata": {
    "slideshow": {
     "slide_type": "slide"
    }
   },
   "source": [
    "## 練習\n",
    "二次方程式 $ax^2 + bx + c = 0$ に関して以下のような関数を定義してください。\n",
    "\n",
    "1. 判別式 $b^2 - 4ac$ を求める `det(a,b,c)`\n",
    "2. 解のうち、大きくない方を求める `solution1(a,b,c)`\n",
    "3. 解のうち、小さくない方を求める `solution2(a,b,c)`\n",
    "\n",
    "2.と3.は `det` を使って定義してください。解が実数になる場合のみを想定して構いません。\n",
    "\n",
    "定義ができたら、その次のセルを実行して、`True` のみが表示されることを確認してください。"
   ]
  },
  {
   "cell_type": "code",
   "execution_count": null,
   "metadata": {},
   "outputs": [],
   "source": [
    "def det(a, b, c):\n",
    "    return"
   ]
  },
  {
   "cell_type": "code",
   "execution_count": null,
   "metadata": {},
   "outputs": [],
   "source": [
    "def solution1(a, b, c):\n",
    "    return"
   ]
  },
  {
   "cell_type": "code",
   "execution_count": null,
   "metadata": {},
   "outputs": [],
   "source": [
    "def solution2(a, b, c):\n",
    "    return"
   ]
  },
  {
   "cell_type": "code",
   "execution_count": null,
   "metadata": {
    "tags": [
     "raises-exception"
    ]
   },
   "outputs": [],
   "source": [
    "print(det(1,-2,1) == 0)\n",
    "print(det(1,-5,6) == 1)\n",
    "def check_similar(x,y):\n",
    "    print(abs(x-y)<0.000001)\n",
    "check_similar(solution1(1,-2,1),1.0)\n",
    "check_similar(solution2(1,-2,1),1.0)\n",
    "check_similar(solution1(1,-5,6),2.0)\n",
    "check_similar(solution2(1,-5,6),3.0)"
   ]
  },
  {
   "cell_type": "markdown",
   "metadata": {},
   "source": [
    "## 練習の解答"
   ]
  },
  {
   "cell_type": "code",
   "execution_count": null,
   "metadata": {},
   "outputs": [],
   "source": [
    "def feet_to_cm(f,i):\n",
    "    return 30.48*f + (30.48/12)*i"
   ]
  },
  {
   "cell_type": "code",
   "execution_count": null,
   "metadata": {},
   "outputs": [],
   "source": [
    "def quadratic(a,b,c,x):\n",
    "    return a*x*x + b*x + c"
   ]
  },
  {
   "cell_type": "code",
   "execution_count": null,
   "metadata": {},
   "outputs": [],
   "source": [
    "import math\n",
    "def det(a,b,c):\n",
    "    return b*b - 4*a*c\n",
    "def solution1(a,b,c):\n",
    "    return (-b - math.sqrt(det(a,b,c)))/(2*a)\n",
    "def solution2(a,b,c):\n",
    "    return (-b + math.sqrt(det(a,b,c)))/(2*a)"
   ]
  }
 ],
 "metadata": {
  "kernelspec": {
   "display_name": "Python 3",
   "language": "python",
   "name": "python3"
  },
  "language_info": {
   "codemirror_mode": {
    "name": "ipython",
    "version": 3
   },
   "file_extension": ".py",
   "mimetype": "text/x-python",
   "name": "python",
   "nbconvert_exporter": "python",
   "pygments_lexer": "ipython3",
   "version": "3.6.7"
  }
 },
 "nbformat": 4,
 "nbformat_minor": 2
}
