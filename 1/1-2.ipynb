{
 "cells": [
  {
   "cell_type": "code",
   "execution_count": 12,
   "metadata": {},
   "outputs": [
    {
     "name": "stdout",
     "output_type": "stream",
     "text": [
      "The prog_edu_assistant_tools.magics extension is already loaded. To reload it, use:\n",
      "  %reload_ext prog_edu_assistant_tools.magics\n"
     ]
    }
   ],
   "source": [
    "# MASTER ONLY\n",
    "\n",
    "%load_ext prog_edu_assistant_tools.magics\n",
    "from prog_edu_assistant_tools.magics import report, autotest"
   ]
  },
  {
   "cell_type": "markdown",
   "metadata": {},
   "source": [
    "```\n",
    "# ASSIGNMENT METADATA\n",
    "assignment_id: \"ex2.\"\n",
    "```"
   ]
  },
  {
   "cell_type": "markdown",
   "metadata": {
    "slideshow": {
     "slide_type": "slide"
    }
   },
   "source": [
    "## 練習\n",
    "次のような関数を定義してください。\n",
    "\n",
    "1. `f` フィート `i` インチをセンチメートルに変換する `feet_to_cm(f,i)`\n",
    "（ただし、1 フィート = 12 イン チ = 30.48 cm である。 ）\n",
    "2. 二次関数 $f(x) = ax^2+bx+c$ の値を求める `quadratic(a,b,c,x)`"
   ]
  },
  {
   "cell_type": "markdown",
   "metadata": {},
   "source": [
    "定義ができたら、その次のセルを実行して、`True` のみが表示されることを確認してください。\n",
    "```\n",
    "# EXERCISE METADATA\n",
    "exercise_id: \"feet_to_cm\"\n",
    "```"
   ]
  },
  {
   "cell_type": "code",
   "execution_count": 13,
   "metadata": {},
   "outputs": [],
   "source": [
    "%%solution\n",
    "def feet_to_cm(f,i):\n",
    "    \"\"\" # BEGIN PROMPT\n",
    "    return ...\n",
    "    \"\"\" # END PROMPT\n",
    "    # BEGIN SOLUTION\n",
    "    return 30.48*f + (30.48/12)*i\n",
    "    # END SOLUTION"
   ]
  },
  {
   "cell_type": "code",
   "execution_count": 14,
   "metadata": {},
   "outputs": [
    {
     "name": "stdout",
     "output_type": "stream",
     "text": [
      "True\n",
      "True\n"
     ]
    }
   ],
   "source": [
    "def check_similar(x,y):\n",
    "    print(abs(x-y)<0.000001)\n",
    "check_similar(feet_to_cm(5,2),157.48)\n",
    "check_similar(feet_to_cm(6,5),195.58)"
   ]
  },
  {
   "cell_type": "code",
   "execution_count": 15,
   "metadata": {
    "tags": []
   },
   "outputs": [],
   "source": [
    "%%inlinetest AutograderTest_FeetToCm\n",
    "assert 'feet_to_cm' in globals(), \"Did you define a function named 'feet_to_cm' in the solution cell?\"\n",
    "assert str(feet_to_cm.__class__) == \"<class 'function'>\", f\"Did you define 'feet_to_cm' as a function? There was a {feet_to_cm.__class__} instead\"\n",
    "\n",
    "def test_feet_to_cm(f, i, expected, hint):\n",
    "    actual = feet_to_cm(f, i)\n",
    "    assert actual is not None, f\"Did you return a value from the function? Got {actual}\"\n",
    "    similar = abs(actual - expected) < 0.000001\n",
    "    assert similar, f\"{hint} Expected {expected}, but got {actual}\"\n",
    "\n",
    "test_feet_to_cm(f=0, i=0, expected=0, hint=\"Does the function handle 0 foot and 0 inch correctly?\")\n",
    "test_feet_to_cm(f=1, i=0, expected=30.48, hint=\"Does the function handle feet correctly? 1 foot is 30.48cm.\")\n",
    "test_feet_to_cm(f=5, i=0, expected=152.4, hint=\"Does the function handle more than one foot correctly? 1 foot is 30.48cm.\")\n",
    "test_feet_to_cm(f=0, i=1, expected=2.54, hint=\"Does the function handle inches correctly? 12 inches are 30.48cm.\")\n",
    "test_feet_to_cm(f=0, i=5, expected=12.7, hint=\"Does the function handle more than one inch correctly? 12 inches are 30.48cm.\")\n",
    "test_feet_to_cm(f=15, i=3, expected=464.82, hint=\"Does the function handle multiple feet and inches correctly?\")"
   ]
  },
  {
   "cell_type": "markdown",
   "metadata": {},
   "source": [
    "```\n",
    "# EXERCISE METADATA\n",
    "exercise_id: \"quadratic\"\n",
    "```"
   ]
  },
  {
   "cell_type": "code",
   "execution_count": 16,
   "metadata": {},
   "outputs": [],
   "source": [
    "%%solution\n",
    "def quadratic(a,b,c,x):\n",
    "    \"\"\" # BEGIN PROMPT\n",
    "    return ...\n",
    "    \"\"\" # END PROMPT\n",
    "    # BEGIN SOLUTION\n",
    "    return a*x*x + b*x + c\n",
    "    # END SOLUTION"
   ]
  },
  {
   "cell_type": "code",
   "execution_count": 17,
   "metadata": {},
   "outputs": [
    {
     "name": "stdout",
     "output_type": "stream",
     "text": [
      "True\n",
      "True\n"
     ]
    }
   ],
   "source": [
    "print(quadratic(1,2,1,3) == 16)\n",
    "print(quadratic(1,-5,-2,7) == 12)"
   ]
  },
  {
   "cell_type": "code",
   "execution_count": 18,
   "metadata": {},
   "outputs": [],
   "source": [
    "%%inlinetest AutograderTest_Quadratic\n",
    "assert 'quadratic' in globals(), \"Did you define a function named 'quadratic' in the solution cell?\"\n",
    "assert str(quadratic.__class__) == \"<class 'function'>\", f\"Did you define 'quadratic' as a function? There was a {quadratic.__class__} instead\"\n",
    "\n",
    "def test_quadratic(a, b, c, x, expected, hint):\n",
    "    actual = quadratic(a, b, c, x)\n",
    "    assert actual is not None, f\"Did you return a value from the function? Got {actual}\"\n",
    "    assert actual == expected, f\"{hint} Expected {expected}, but got {actual}\"\n",
    "\n",
    "test_quadratic(a=0, b=0, c=0, x=123, expected=0, hint=\"Does the function work if a, b or c is 0?\")\n",
    "test_quadratic(a=1, b=0, c=0, x=12, expected=144, hint=\"Did you add the 'ax^2' part to the result?\")\n",
    "test_quadratic(a=0, b=1, c=0, x=12, expected=12, hint=\"Did you add the 'bx' part to the result?\")\n",
    "test_quadratic(a=0, b=0, c=5, x=12, expected=5, hint=\"Did you add the 'c' part to the result?\")\n",
    "test_quadratic(a=6, b=30, c=15, x=0, expected=15, hint=\"Does the function work if x is 0?\")\n",
    "test_quadratic(a=-6, b=-30, c=-15, x=5, expected=-315, hint=\"Does the function work if a, b or c is less than 0?\")\n",
    "test_quadratic(a=6, b=30, c=15, x=-2, expected=-21, hint=\"Does the function work if x is less than 0?\")"
   ]
  },
  {
   "cell_type": "markdown",
   "metadata": {
    "slideshow": {
     "slide_type": "slide"
    }
   },
   "source": [
    "\n",
    "## 練習\n",
    "二次方程式 $ax^2 + bx + c = 0$ に関して以下のような関数を定義してください。\n",
    "\n",
    "1. 判別式 $b^2 - 4ac$ を求める `det(a,b,c)`\n",
    "2. 解のうち、大きくない方を求める `solution1(a,b,c)`\n",
    "3. 解のうち、小さくない方を求める `solution2(a,b,c)`\n",
    "\n",
    "2.と3.は `det` を使って定義してください。解が実数になる場合のみを想定して構いません。\n",
    "\n",
    "定義ができたら、その次のセルを実行して、`True` のみが表示されることを確認してください。\n",
    "```\n",
    "# EXERCISE_METADATA\n",
    "exercise_id: 'quadratic_solution'\n",
    "```"
   ]
  },
  {
   "cell_type": "code",
   "execution_count": 19,
   "metadata": {},
   "outputs": [],
   "source": [
    "%%solution\n",
    "import math\n",
    "def det(a,b,c):\n",
    "    \"\"\" # BEGIN PROMPT\n",
    "    return ...\n",
    "    \"\"\" # END PROMPT\n",
    "    # BEGIN SOLUTION\n",
    "    return b*b - 4*a*c\n",
    "    # END SOLUTION\n",
    "    \n",
    "def solution1(a,b,c):\n",
    "    \"\"\" # BEGIN PROMPT\n",
    "    return ...\n",
    "    \"\"\" # END PROMPT\n",
    "    # BEGIN SOLUTION\n",
    "    return (-b - math.sqrt(det(a,b,c)))/(2*a)\n",
    "    # END SOLUTION\n",
    "    \n",
    "def solution2(a,b,c):\n",
    "    \"\"\" # BEGIN PROMPT\n",
    "    return ...\n",
    "    \"\"\" # END PROMPT\n",
    "    # BEGIN SOLUTION\n",
    "    return (-b + math.sqrt(det(a,b,c)))/(2*a)\n",
    "    # END SOLUTION"
   ]
  },
  {
   "cell_type": "code",
   "execution_count": 20,
   "metadata": {
    "tags": [
     "raises-exception"
    ]
   },
   "outputs": [
    {
     "name": "stdout",
     "output_type": "stream",
     "text": [
      "True\n",
      "True\n",
      "True\n",
      "True\n",
      "True\n",
      "True\n"
     ]
    }
   ],
   "source": [
    "print(det(1,-2,1) == 0)\n",
    "print(det(1,-5,6) == 1)\n",
    "def check_similar(x,y):\n",
    "    print(abs(x-y)<0.000001)\n",
    "check_similar(solution1(1,-2,1),1.0)\n",
    "check_similar(solution2(1,-2,1),1.0)\n",
    "check_similar(solution1(1,-5,6),2.0)\n",
    "check_similar(solution2(1,-5,6),3.0)"
   ]
  },
  {
   "cell_type": "code",
   "execution_count": 24,
   "metadata": {
    "tags": []
   },
   "outputs": [],
   "source": [
    "%%inlinetest AutograderTest_Det_And_Solutions\n",
    "variableNames = ('det', 'solution1', 'solution2')\n",
    "for name in variableNames:\n",
    "    assert name in globals(), f\"Did you define a function named '{name}' in the solution cell?\"\n",
    "variablesAndNames = zip((det, solution1, solution2), variableNames)\n",
    "for variable, name in variablesAndNames:\n",
    "    assert str(variable.__class__) == \"<class 'function'>\", f\"Did you define '{name}' as a function? There was a {variable.__class__} instead\"\n",
    "\n",
    "def test_det(a, b, c, expected, hint):\n",
    "    actual = det(a, b, c)\n",
    "    assert actual is not None, f\"Did you return a value from the 'det' function? Got {actual}\"\n",
    "    try:\n",
    "        float(actual)\n",
    "    except ValueError:\n",
    "        assert False, f\"Did you return a number from the 'det' function? Got {actual}\"\n",
    "    assert actual == expected, f\"{hint} Expected {expected}, but got {actual}\"\n",
    "\n",
    "test_det(a=0, b=0, c=0, expected=0, hint=\"Does the 'det' function work if a, b or c is 0?\")\n",
    "test_det(a=0, b=4, c=0, expected=16, hint=\"Did you add the 'b^2' part to the result of 'det'?\")\n",
    "test_det(a=3, b=0, c=4, expected=-48, hint=\"Did you add the '-4ac' part to the result of 'det'?\")\n",
    "test_det(a=3, b=6, c=3, expected=0, hint=\"Does 'det' return 0 when 'b^2 - 4ac' is 0?\")\n",
    "test_det(a=2, b=6, c=2, expected=20, hint=\"Does 'det' work properly 0 when 'b^2 - 4ac' is a positive number?\")\n",
    "test_det(a=4, b=6, c=3, expected=-12, hint=\"Does 'det' work properly 0 when 'b^2 - 4ac' is a negative number?\")\n",
    "\n",
    "def test_solutions(a, b, c, expected, hint):\n",
    "    sol1, sol2 = solution1(a, b, c), solution2(a, b, c)\n",
    "    assert sol1 is not None, f\"Did you return a value from the 'solution1' function? Got {sol1}\"\n",
    "    assert sol2 is not None, f\"Did you return a value from the 'solution2' function? Got {sol2}\"\n",
    "    try:\n",
    "        float(sol1)\n",
    "    except ValueError:\n",
    "        assert False, f\"Did you return a number from the 'solution1' function? Got {sol1}\"\n",
    "    try:\n",
    "        float(sol2)\n",
    "    except ValueError:\n",
    "        assert False, f\"Did you return a number from the 'solution2' function? Got {sol2}\"\n",
    "    assert sol1 <= sol2, f\"Did solution1 return a smaller or equal value to solution2? Got {sol1} for solution1, {sol2} for solution 2\"\n",
    "    exp1, exp2 = expected\n",
    "    assert abs(sol1 - exp1) < 0.000001 and abs(sol2 - exp2) < 0.000001, f\"{hint} Expected {exp1} for solution1, {exp2} for solution2, but got {sol1} for solution1, {sol2} for solution 2\"\n",
    "\n",
    "test_solutions(a=2, b=0, c=-8, expected=(-2, 2), hint=\"Do solution1 and solution2 return the correct answer if b is 0?\")\n",
    "test_solutions(a=2, b=8, c=8, expected=(-2, -2), hint=\"Do solution1 and solution2 return the correct answer if det is 0?\")\n",
    "test_solutions(a=2, b=10, c=8, expected=(-4, -1), hint=\"Do solution1 and solution2 return the correct answer if det is greater than 0?\")\n",
    "test_solutions(a=2, b=12, c=8, expected=(-5.23606797749979, -0.7639320225002102), hint=\"Do solution1 and solution2 return the correct answer when they are not integers?\")"
   ]
  },
  {
   "cell_type": "markdown",
   "metadata": {},
   "source": [
    "## 練習の解答"
   ]
  },
  {
   "cell_type": "code",
   "execution_count": 21,
   "metadata": {},
   "outputs": [],
   "source": [
    "def feet_to_cm(f,i):\n",
    "    return 30.48*f + (30.48/12)*i"
   ]
  },
  {
   "cell_type": "code",
   "execution_count": 22,
   "metadata": {},
   "outputs": [],
   "source": [
    "def quadratic(a,b,c,x):\n",
    "    return a*x*x + b*x + c"
   ]
  },
  {
   "cell_type": "code",
   "execution_count": 23,
   "metadata": {},
   "outputs": [],
   "source": [
    "import math\n",
    "def det(a,b,c):\n",
    "    return b*b - 4*a*c\n",
    "def solution1(a,b,c):\n",
    "    return (-b - math.sqrt(det(a,b,c)))/(2*a)\n",
    "def solution2(a,b,c):\n",
    "    return (-b + math.sqrt(det(a,b,c)))/(2*a)"
   ]
  }
 ],
 "metadata": {
  "kernelspec": {
   "display_name": "Python 3",
   "language": "python",
   "name": "python3"
  },
  "language_info": {
   "codemirror_mode": {
    "name": "ipython",
    "version": 3
   },
   "file_extension": ".py",
   "mimetype": "text/x-python",
   "name": "python",
   "nbconvert_exporter": "python",
   "pygments_lexer": "ipython3",
   "version": "3.7.3"
  }
 },
 "nbformat": 4,
 "nbformat_minor": 2
}
