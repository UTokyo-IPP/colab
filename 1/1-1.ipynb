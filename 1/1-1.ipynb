{
 "cells": [
  {
   "cell_type": "code",
   "execution_count": null,
   "metadata": {},
   "outputs": [],
   "source": [
    "# MASTER ONLY\n",
    "\n",
    "%load_ext prog_edu_assistant_tools.magics\n",
    "from prog_edu_assistant_tools.magics import report, autotest"
   ]
  },
  {
   "cell_type": "markdown",
   "metadata": {},
   "source": [
    "```\n",
    "# ASSIGNMENT METADATA\n",
    "assignment_id: \"ex1.\"\n",
    "```"
   ]
  },
  {
   "cell_type": "markdown",
   "metadata": {
    "slideshow": {
     "slide_type": "slide"
    }
   },
   "source": [
    "## 練習"
   ]
  },
  {
   "cell_type": "markdown",
   "metadata": {
    "slideshow": {
     "slide_type": "-"
    }
   },
   "source": [
    "黄金比を求めてください。黄金比とは、5 の平方根に 1 を加えて 2 で割ったものです。約 1.618 になるはずです。\n",
    "\n",
    "```\n",
    "# EXERCISE METADATA\n",
    "exercise_id: \"GoldenRatio\"\n",
    "```\n"
   ]
  },
  {
   "cell_type": "code",
   "execution_count": null,
   "metadata": {},
   "outputs": [],
   "source": [
    "%%solution\n",
    "\"\"\" # BEGIN PROMPT\n",
    "golden_ratio = ....\n",
    "print(golden_ratio)\n",
    "\"\"\" # END PROMPT\n",
    "# BEGIN SOLUTION\n",
    "golden_ratio = (math.sqrt(5.) + 1)/2\n",
    "print(golden_ratio)\n",
    "# END SOLUTION"
   ]
  },
  {
   "cell_type": "code",
   "execution_count": null,
   "metadata": {},
   "outputs": [],
   "source": [
    "%%studenttest StudentTest_GoldenRatio\n",
    "assert abs(golden_ratio - 1.618) < 0.001"
   ]
  },
  {
   "cell_type": "code",
   "execution_count": null,
   "metadata": {},
   "outputs": [],
   "source": [
    "%%inlinetest AutograderTest_GoldenRatio\n",
    "assert 'golden_ratio' in globals(), \"Did you define the variable golden_ratio?\"\n",
    "assert str(golden_ratio.__class__) == \"<class 'float'>\", f\"Did you compute a number? Found {golden_ratio.__class__}\"\n",
    "assert abs(golden_ratio - 1.618) < 0.001, f\"Did you compute golden ratio correctly? Expected a number close to 1.618, but got {golden_ratio}\"\n",
    "assert golden_ratio != 1.618, f\"Did you use math.sqrt() to compute the golden ratio? Expected a number with many digits after the point, but got exactly 1.618\""
   ]
  },
  {
   "cell_type": "code",
   "execution_count": null,
   "metadata": {},
   "outputs": [],
   "source": [
    "%%submission\n",
    "# Incorrect submission\n",
    "golden_ratio = 1.618"
   ]
  },
  {
   "cell_type": "code",
   "execution_count": null,
   "metadata": {},
   "outputs": [],
   "source": [
    "# Test the incorrect submission against an autograder test\n",
    "result, log = %autotest AutograderTest_GoldenRatio\n",
    "assert not result.results['passed']\n",
    "assert 'got exactly 1.618' in str(result.results['error'])"
   ]
  },
  {
   "cell_type": "code",
   "execution_count": null,
   "metadata": {},
   "outputs": [],
   "source": [
    "report(AutograderTest_GoldenRatio, results=result.results)"
   ]
  }
 ],
 "metadata": {
  "kernelspec": {
   "display_name": "Python 3",
   "language": "python",
   "name": "python3"
  },
  "language_info": {
   "codemirror_mode": {
    "name": "ipython",
    "version": 3
   },
   "file_extension": ".py",
   "mimetype": "text/x-python",
   "name": "python",
   "nbconvert_exporter": "python",
   "pygments_lexer": "ipython3",
   "version": "3.6.7"
  }
 },
 "nbformat": 4,
 "nbformat_minor": 2
}
