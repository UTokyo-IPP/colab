{
 "cells": [
  {
   "cell_type": "code",
   "execution_count": null,
   "metadata": {},
   "outputs": [],
   "source": [
    "# MASTER ONLY\n",
    "\n",
    "%load_ext prog_edu_assistant_tools.magics\n",
    "from prog_edu_assistant_tools.magics import report, autotest"
   ]
  },
  {
   "cell_type": "markdown",
   "metadata": {},
   "source": [
    "```\n",
    "# ASSIGNMENT METADATA\n",
    "assignment_id: \"6-2\"\n",
    "```\n",
    "## 練習\n",
    "\n",
    "辞書 `d` が与えられたとき、\n",
    "最大の値を持つキー（複数個ならばそのいずれか）を返す関数 `max_value_key(d)` を、\n",
    "`max` を使って定義してください。\n",
    "\n",
    "ヒント：辞書 `d` のキー `k` に対して、`k` に対応する値を返す関数は `lambda k: d[k]` という式で表すことができます。\n",
    "\n",
    "```\n",
    "# EXERCISE METADATA\n",
    "exercise_id: \"MaxValueKey\"\n",
    "```"
   ]
  },
  {
   "cell_type": "code",
   "execution_count": null,
   "metadata": {},
   "outputs": [],
   "source": [
    "%%solution\n",
    "def max_value_key(d):\n",
    "    # BEGIN SOLUTION\n",
    "    return max(d, key=lambda k: d[k])\n",
    "    # END SOLUTION"
   ]
  },
  {
   "cell_type": "markdown",
   "metadata": {},
   "source": [
    "上のセルで解答を作成した後、以下のセルを実行し、実行結果が `True` になることを確認してください。"
   ]
  },
  {
   "cell_type": "code",
   "execution_count": null,
   "metadata": {
    "tags": [
     "raises-exception"
    ]
   },
   "outputs": [],
   "source": [
    "print(max_value_key({3:10, 5:2, 9:1}) == 3)"
   ]
  },
  {
   "cell_type": "code",
   "execution_count": null,
   "metadata": {},
   "outputs": [],
   "source": [
    "%%inlinetest AutograderTest_MaxValueKey\n",
    "\n",
    "assert 'max_value_key' in globals(), \"Did you define 'max_value_key' in the solution cell?\"\n",
    "assert str(max_value_key.__class__) == \"<class 'function'>\", f\"Did you define 'max_value_key' as a function? There was a {max_value_key.__class__} instead\"\n",
    "assert max_value_key({1:2}) is not None, \"Did you forget to return a value?\"\n",
    "\n",
    "assert max_value_key({1:2}) != 2, \"Did you return value instead of key?\"\n",
    "assert max_value_key({1:2, 3:4}) not in [2,4], \"Did you return C?\"\n",
    "assert max_value_key({1:10, 2:0}) != 2, \"Did you return max key instead of max-value key?\"\n",
    "assert max_value_key({1:2}) == 1, \"Did you handle single element correctly?\"\n",
    "assert max_value_key({1:10, 2:0}) == 1, \"Did you return max key instead of max-value key?\"\n",
    "assert max_value_key({3:10, 5:2, 9:1}) == 3, \"Did you try to run the example? Try max_value_key({3:10, 5:2, 9:1})\"\n",
    "assert max_value_key({3:-10, 5:-2, 9:-1}) == 9, \"Did you handle negative numbers correctly? Try max_value_key({3:10, 5:2, 9:1})\"\n",
    "assert max_value_key({'a':10, 'b':2, 'c':1}) == 'a', \"Did you handle non-numeric keys correctly?\""
   ]
  },
  {
   "cell_type": "code",
   "execution_count": null,
   "metadata": {},
   "outputs": [],
   "source": [
    "# Check the canonical solution\n",
    "result, log = %autotest AutograderTest_MaxValueKey\n",
    "assert result.results['passed']\n",
    "report(AutograderTest_MaxValueKey, results=result.results)"
   ]
  },
  {
   "cell_type": "code",
   "execution_count": null,
   "metadata": {},
   "outputs": [],
   "source": [
    "%%submission\n",
    "def max_value_key(d):\n",
    "    return max(d.keys())"
   ]
  },
  {
   "cell_type": "code",
   "execution_count": null,
   "metadata": {},
   "outputs": [],
   "source": [
    "result, log = %autotest AutograderTest_MaxValueKey\n",
    "print(result.results)\n",
    "assert not result.results['passed']\n",
    "import re\n",
    "assert re.search(r'max key', str(result.results['error']))\n",
    "report(AutograderTest_MaxValueKey, results=result.results)"
   ]
  },
  {
   "cell_type": "code",
   "execution_count": null,
   "metadata": {},
   "outputs": [],
   "source": [
    "%%submission\n",
    "def max_value_key(d):\n",
    "    return max(d.values())"
   ]
  },
  {
   "cell_type": "code",
   "execution_count": null,
   "metadata": {},
   "outputs": [],
   "source": [
    "result, log = %autotest AutograderTest_MaxValueKey\n",
    "print(result.results)\n",
    "assert not result.results['passed']\n",
    "import re\n",
    "assert re.search(r'value instead of key', str(result.results['error']))\n",
    "report(AutograderTest_MaxValueKey, results=result.results)"
   ]
  },
  {
   "cell_type": "code",
   "execution_count": null,
   "metadata": {},
   "outputs": [],
   "source": [
    "%%submission\n",
    "def max_value_key(d):\n",
    "    # Note: this will break on negative numbers.\n",
    "    max_val = 0\n",
    "    max_key = None\n",
    "    for k in d:\n",
    "        if d[k] > max_val:\n",
    "            max_val = d[k]\n",
    "            max_key = k\n",
    "    return max_key"
   ]
  },
  {
   "cell_type": "code",
   "execution_count": null,
   "metadata": {},
   "outputs": [],
   "source": [
    "result, log = %autotest AutograderTest_MaxValueKey\n",
    "print(result.results)\n",
    "assert not result.results['passed']\n",
    "import re\n",
    "assert re.search(r'negative numbers', str(result.results['error']))\n",
    "report(AutograderTest_MaxValueKey, results=result.results)"
   ]
  },
  {
   "cell_type": "code",
   "execution_count": null,
   "metadata": {},
   "outputs": [],
   "source": [
    "%%submission\n",
    "def max_value_key(d):\n",
    "    # Note: this will break on negative numbers.\n",
    "    max_val = None\n",
    "    max_key = None\n",
    "    for k in d:\n",
    "        if max_val is None:\n",
    "            max_val = d[k]\n",
    "            max_key = k\n",
    "            continue\n",
    "        if d[k] > max_val:\n",
    "            max_val = d[k]\n",
    "            max_key = k\n",
    "    return max_key"
   ]
  },
  {
   "cell_type": "code",
   "execution_count": null,
   "metadata": {},
   "outputs": [],
   "source": [
    "result, log = %autotest AutograderTest_MaxValueKey\n",
    "print(result.results)\n",
    "assert result.results['passed']\n",
    "report(AutograderTest_MaxValueKey, results=result.results)"
   ]
  },
  {
   "cell_type": "markdown",
   "metadata": {},
   "source": [
    "## 練習\n",
    "\n",
    "数のリストが与えられたとき、その要素の絶対値の最大値を返す関数 `max_abs` を、\n",
    "`map` と `max` を使って定義してください。\n",
    "\n",
    "    \n",
    "```\n",
    "# EXERCISE METADATA\n",
    "exercise_id: \"MaxAbs\"\n",
    "```"
   ]
  },
  {
   "cell_type": "code",
   "execution_count": null,
   "metadata": {},
   "outputs": [],
   "source": [
    "%%solution\n",
    "def max_abs(ln):\n",
    "    \"\"\" # BEGIN PROMPT\n",
    "    ...\n",
    "    \"\"\" # END PROMPT\n",
    "    # BEGIN SOLUTION\n",
    "    return max(map(abs, ln))\n",
    "    # END SOLUTION"
   ]
  },
  {
   "cell_type": "markdown",
   "metadata": {},
   "source": [
    "上のセルで解答を作成した後、以下のセルを実行し、実行結果が `True` になることを確認してください。"
   ]
  },
  {
   "cell_type": "code",
   "execution_count": null,
   "metadata": {
    "tags": [
     "raises-exception"
    ]
   },
   "outputs": [],
   "source": [
    "print(max_abs([3,-8,1,0,7,-5]) == 8)"
   ]
  },
  {
   "cell_type": "code",
   "execution_count": null,
   "metadata": {},
   "outputs": [],
   "source": [
    "%%inlinetest AutograderTest_MaxAbs\n",
    "\n",
    "assert 'max_abs' in globals(), \"Did you define 'max_abs' in the solution cell?\"\n",
    "assert str(max_abs.__class__) == \"<class 'function'>\", f\"Did you define 'max_abs' as a function? There was a {max_abs.__class__} instead\"\n",
    "assert max_abs([0]) is not None, \"Did you forget to return a value?\"\n",
    "\n",
    "assert max_abs([0]) == 0, \"Did you return the value correctly? Try max_abs([0])\"\n",
    "assert max_abs([-3]) != -3, \"Did you forget to take the abs value? Try max_abs([-3])\"\n",
    "assert max_abs([-3, -5]) != 3, \"Did you take abs after max? Try max_abs([-3, -5])\"\n",
    "assert max_abs([-3, -5]) == 5, \"Did you compute max abs correctly? Try max_abs([-3, -5])\"\n",
    "assert max_abs([-3, -5, 4, 6]) == 6, \"Did you compute max abs correctly? Try max_abs([-3, -5, 4, 6])\"\n",
    "assert max_abs([-3, -50, 4, 6]) == 50, \"Did you compute max abs correctly? Try max_abs([-3, -50, 4, 6])\"\n",
    "assert max_abs([0, 0, -0, 0, 0]) == 0, \"Did you compute max abs correctly? Try max_abs([0, 0, -0, 0, 0])\"\n",
    "\n",
    "try:\n",
    "    submission_source\n",
    "except NameError:\n",
    "    import submission_source\n",
    "import re\n",
    "assert re.search(r'map *\\(', submission_source.source), \"Did you use map() function, as requested?\"\n",
    "assert re.search(r'max *\\(', submission_source.source), \"Did you use max() function, as requested?\""
   ]
  },
  {
   "cell_type": "code",
   "execution_count": null,
   "metadata": {},
   "outputs": [],
   "source": [
    "# Check the canonical solution\n",
    "result, log = %autotest AutograderTest_MaxAbs\n",
    "assert result.results['passed']\n",
    "report(AutograderTest_MaxAbs, results=result.results)"
   ]
  },
  {
   "cell_type": "code",
   "execution_count": null,
   "metadata": {},
   "outputs": [],
   "source": [
    "%%submission\n",
    "def max_abs(ln):\n",
    "    return abs(max(ln))"
   ]
  },
  {
   "cell_type": "code",
   "execution_count": null,
   "metadata": {},
   "outputs": [],
   "source": [
    "result, log = %autotest AutograderTest_MaxAbs\n",
    "print(result.results)\n",
    "assert not result.results['passed']\n",
    "import re\n",
    "assert re.search(r'abs after max', str(result.results['error']))\n",
    "report(AutograderTest_MaxAbs, results=result.results)"
   ]
  },
  {
   "cell_type": "code",
   "execution_count": null,
   "metadata": {},
   "outputs": [],
   "source": [
    "%%submission\n",
    "def max_abs(ln):\n",
    "    return max([-x for x in ln])"
   ]
  },
  {
   "cell_type": "code",
   "execution_count": null,
   "metadata": {},
   "outputs": [],
   "source": [
    "result, log = %autotest AutograderTest_MaxAbs\n",
    "print(result.results)\n",
    "assert not result.results['passed']\n",
    "report(AutograderTest_MaxAbs, results=result.results)"
   ]
  },
  {
   "cell_type": "code",
   "execution_count": null,
   "metadata": {},
   "outputs": [],
   "source": [
    "%%submission\n",
    "def max_abs(ln):\n",
    "    max_val = None\n",
    "    for x in ln:\n",
    "        if max_val is None:\n",
    "            max_val = abs(x)\n",
    "            continue\n",
    "        if abs(x) > max_val:\n",
    "            max_val = abs(x)\n",
    "    return max_val"
   ]
  },
  {
   "cell_type": "code",
   "execution_count": null,
   "metadata": {},
   "outputs": [],
   "source": [
    "result, log = %autotest AutograderTest_MaxAbs\n",
    "print(result.results)\n",
    "assert not result.results['passed']\n",
    "import re\n",
    "assert re.search(r'use map', str(result.results['error']))\n",
    "report(AutograderTest_MaxAbs, results=result.results)"
   ]
  },
  {
   "cell_type": "markdown",
   "metadata": {},
   "source": [
    "## 練習\n",
    "\n",
    "数のリスト `ln` と数 `n` を受け取って、`ln` の要素のうち、`n` より大きい個数を返す関数\n",
    "`number_of_big_numbers(ln, n)` を、for文やwhile文を用いずに、`filter` を用いて定義してください。\n",
    "\n",
    "```\n",
    "# EXERCISE METADATA\n",
    "exercise_id: \"NumberOfBigNumbers\"\n",
    "```"
   ]
  },
  {
   "cell_type": "code",
   "execution_count": null,
   "metadata": {},
   "outputs": [],
   "source": [
    "%%solution\n",
    "def number_of_big_numbers(ln, n):\n",
    "    \"\"\" # BEGIN PROMPT\n",
    "    ...\n",
    "    \"\"\" # END PROMPT\n",
    "    # BEGIN SOLUTION\n",
    "    return len(list(filter(lambda x: x > n, ln)))\n",
    "    # END SOLUTION"
   ]
  },
  {
   "cell_type": "markdown",
   "metadata": {},
   "source": [
    "上のセルで解答を作成した後、以下のセルを実行し、実行結果が `True` になることを確認してください。"
   ]
  },
  {
   "cell_type": "code",
   "execution_count": null,
   "metadata": {
    "tags": [
     "raises-exception"
    ]
   },
   "outputs": [],
   "source": [
    "print(number_of_big_numbers([10, 0, 7, 1, 5, 2, 9], 5) == 3)"
   ]
  },
  {
   "cell_type": "code",
   "execution_count": null,
   "metadata": {},
   "outputs": [],
   "source": [
    "%%inlinetest AutograderTest_NumberOfBigNumbers\n",
    "\n",
    "assert 'number_of_big_numbers' in globals(), \"Did you define 'number_of_big_numbers' in the solution cell?\"\n",
    "assert str(number_of_big_numbers.__class__) == \"<class 'function'>\", f\"Did you define 'number_of_big_numbers' as a function? There was a {number_of_big_numbers.__class__} instead\"\n",
    "assert number_of_big_numbers([0],0) is not None, \"Did you forget to return a value?\"\n",
    "\n",
    "assert number_of_big_numbers([0],0) == 0, \"Did you count with '>=' ? Problem asked to use strict '>'.\"\n",
    "assert number_of_big_numbers([0,1,2],0) == 2, \"Did you counted the numbers correctly? Try number_of_big_numbers([0,1,2],0)\"\n",
    "assert number_of_big_numbers([0,1,2],2) == 0, \"Did you counted the numbers correctly? Try number_of_big_numbers([0,1,2],2)\"\n",
    "assert number_of_big_numbers([0,-1,-2],-2) == 2, \"Did you counted the numbers correctly? Try number_of_big_numbers([0,-1,-2],-2)\"\n",
    "assert number_of_big_numbers([10, 0, 7, 1, 5, 2, 9], 5) == 3, \"Did you try to run the example?\"\n",
    "\n",
    "try:\n",
    "    submission_source\n",
    "except NameError:\n",
    "    import submission_source\n",
    "import re\n",
    "assert re.search(r'filter *\\(', submission_source.source), \"Did you use filter() function, as requested?\"\n",
    "assert re.search(r'\\n *for ', submission_source.source) is None, \"You used 'for', but problem requested not to use 'for'\"\n",
    "assert re.search(r'while ', submission_source.source) is None, \"You used 'while', but problem requested not to use 'while'\"\n",
    "assert re.search(r'(\\(|\\[)[a-zA-Z_0-9]+ for ', submission_source.source) is None, \"You used 'for' in comprehension, which is probably okay, because the problem requested not to use 'for' loop. But can you find a solution without using 'for' and without list comprehensions? \""
   ]
  },
  {
   "cell_type": "code",
   "execution_count": null,
   "metadata": {},
   "outputs": [],
   "source": [
    "# Check the canonical solution\n",
    "result, log = %autotest AutograderTest_NumberOfBigNumbers\n",
    "assert result.results['passed']\n",
    "report(AutograderTest_NumberOfBigNumbers, results=result.results)"
   ]
  },
  {
   "cell_type": "code",
   "execution_count": null,
   "metadata": {},
   "outputs": [],
   "source": [
    "%%submission\n",
    "def number_of_big_numbers(ln, n):\n",
    "    return sum(1 for _ in filter(lambda x: x > n, ln))"
   ]
  },
  {
   "cell_type": "code",
   "execution_count": null,
   "metadata": {},
   "outputs": [],
   "source": [
    "result, log = %autotest AutograderTest_NumberOfBigNumbers\n",
    "print(result.results)\n",
    "assert not result.results['passed']\n",
    "import re\n",
    "assert re.search(r'comprehension', str(result.results['error']))\n",
    "report(AutograderTest_NumberOfBigNumbers, results=result.results)"
   ]
  },
  {
   "cell_type": "code",
   "execution_count": null,
   "metadata": {},
   "outputs": [],
   "source": [
    "def number_of_big_numbers(ln, n):\n",
    "    return sum([1 for _ in filter(lambda x: x > n, ln)])"
   ]
  },
  {
   "cell_type": "code",
   "execution_count": null,
   "metadata": {},
   "outputs": [],
   "source": [
    "result, log = %autotest AutograderTest_NumberOfBigNumbers\n",
    "print(result.results)\n",
    "assert not result.results['passed']\n",
    "import re\n",
    "assert re.search(r'comprehension', str(result.results['error']))\n",
    "report(AutograderTest_NumberOfBigNumbers, results=result.results)"
   ]
  },
  {
   "cell_type": "markdown",
   "metadata": {},
   "source": [
    "## 練習\n",
    "ファイル名 `file` と整数 `n` を受け取って、そのファイルをオープンし、\n",
    "（改行文字も含めて）長さが `n` より長い行の数を返す関数 `number_of_long_lines(file,n)` を定義してください。\n",
    "（ファイルは `encoding='utf-8'` でオープンしてください。）\n",
    "\n",
    "```\n",
    "# EXERCISE METADATA\n",
    "exercise_id: \"NumberOfLongLines\"\n",
    "```"
   ]
  },
  {
   "cell_type": "code",
   "execution_count": null,
   "metadata": {},
   "outputs": [],
   "source": [
    "%%solution\n",
    "def number_of_long_lines(file, n):\n",
    "    \"\"\" # BEGIN PROMPT\n",
    "    ...\n",
    "    \"\"\" # END PROMPT\n",
    "    # BEGIN SOLUTION\n",
    "    with open(file, 'r', encoding='utf-8') as f:\n",
    "        return len(list(filter(lambda line: len(line) > n, f)))\n",
    "    # END SOLUTION"
   ]
  },
  {
   "cell_type": "markdown",
   "metadata": {},
   "source": [
    "上のセルで解答を作成した後、以下のセルを実行し、実行結果が `True` になることを確認してください。"
   ]
  },
  {
   "cell_type": "code",
   "execution_count": null,
   "metadata": {
    "tags": [
     "raises-exception"
    ]
   },
   "outputs": [],
   "source": [
    "print(number_of_long_lines('jugemu.txt', 10) == 9)"
   ]
  },
  {
   "cell_type": "markdown",
   "metadata": {},
   "source": [
    "`jugemu.txt`の内容はこちらです\n",
    "```\n",
    "じゅげむ　じゅげむ　ごこうのすりきれ\n",
    "かいじゃりすいぎょの　すいぎょうまつ\n",
    "\n",
    "うんらいまつ　ふうらいまつ\n",
    "\n",
    "くうねるところに　すむところ\n",
    "\n",
    "やぶらこうじの　ぶらこうじ\n",
    "\n",
    "パイポパイポ\n",
    "\n",
    "パイポのシューリンガン\n",
    "\n",
    "シューリンガンのグーリンダイ\n",
    "\n",
    "グーリンダイのポンポコピーのポンポコナーの\n",
    "\n",
    "ちょうきゅうめいのちょうすけ\n",
    "```"
   ]
  },
  {
   "cell_type": "code",
   "execution_count": null,
   "metadata": {},
   "outputs": [],
   "source": [
    "number_of_long_lines('jugemu.txt', 0)"
   ]
  },
  {
   "cell_type": "code",
   "execution_count": null,
   "metadata": {},
   "outputs": [],
   "source": [
    "%%inlinetest AutograderTest_NumberOfLongLines\n",
    "\n",
    "assert 'number_of_long_lines' in globals(), \"Did you define 'number_of_long_lines' in the solution cell?\"\n",
    "assert str(number_of_long_lines.__class__) == \"<class 'function'>\", f\"Did you define 'number_of_long_lines' as a function? There was a {number_of_long_lines.__class__} instead\"\n",
    "assert number_of_long_lines('abcde.txt', 3) is not None, \"Did you forget to return a value?\"\n",
    "\n",
    "assert number_of_long_lines('abcde.txt', 3) > 0, \"Did you count any lines at all?\"\n",
    "assert number_of_long_lines('abcde.txt', 3) < 10, \"Did you count too many lines?\"\n",
    "assert number_of_long_lines('abcde.txt', 3) in [5,6], \"Did you count lines correctly? Try with abcde.txt\"\n",
    "assert number_of_long_lines('abcde.txt', 3) == 6, \"Did you forget to include '\\\\n' at the end of the line into line length?\"\n",
    "assert number_of_long_lines('abcde-noeol.txt', 3) > 0, \"Did you count any lines at all?\"\n",
    "assert number_of_long_lines('abcde-noeol.txt', 3) < 10, \"Did you count too many lines?\"\n",
    "assert number_of_long_lines('abcde-noeol.txt', 3) in [5,6], \"Did you count lines correctly? Try with abcde.txt\"\n",
    "assert number_of_long_lines('abcde-noeol.txt', 3) == 6, \"Did you forget to include '\\\\n' at the end of the line into line length?\"\n",
    "assert number_of_long_lines('empty.txt', 0) == 0, \"Did you handle empty file correctly? Expected 0 answer.\"\n",
    "assert number_of_long_lines('jugemu.txt', 0) >= 18, \"Did you try the jugemu.txt example?\"\n",
    "assert number_of_long_lines('jugemu.txt', 0) == 18, \"Did you try the jugemu.txt example? Try with n=0\"\n",
    "assert number_of_long_lines('jugemu.txt', 10) < 10, \"Did you read the file with encoding='utf-8'?\"\n",
    "assert number_of_long_lines('jugemu.txt', 10) == 9, \"Did you try the jugemu.txt example? Try with n=9\""
   ]
  },
  {
   "cell_type": "code",
   "execution_count": null,
   "metadata": {},
   "outputs": [],
   "source": [
    "# Check the canonical solution\n",
    "result, log = %autotest AutograderTest_NumberOfLongLines\n",
    "assert result.results['passed']\n",
    "report(AutograderTest_NumberOfLongLines, results=result.results)"
   ]
  },
  {
   "cell_type": "code",
   "execution_count": null,
   "metadata": {},
   "outputs": [],
   "source": [
    "%%submission\n",
    "def number_of_long_lines(file, n):\n",
    "    count = 0\n",
    "    for line in open(file, encoding='utf8'):\n",
    "        if len(line) > n:\n",
    "            count += 1\n",
    "    return count"
   ]
  },
  {
   "cell_type": "code",
   "execution_count": null,
   "metadata": {},
   "outputs": [],
   "source": [
    "result, log = %autotest AutograderTest_NumberOfLongLines\n",
    "print(result.results)\n",
    "assert result.results['passed']\n",
    "report(AutograderTest_NumberOfLongLines, results=result.results)"
   ]
  },
  {
   "cell_type": "code",
   "execution_count": null,
   "metadata": {},
   "outputs": [],
   "source": [
    "%%submission\n",
    "def number_of_long_lines(file, n):\n",
    "    count = 0\n",
    "    with open(file) as f:\n",
    "        for line in f:\n",
    "            if len(line) > n:\n",
    "                count += 1\n",
    "    return count"
   ]
  },
  {
   "cell_type": "code",
   "execution_count": null,
   "metadata": {},
   "outputs": [],
   "source": [
    "result, log = %autotest AutograderTest_NumberOfLongLines\n",
    "print(result.results)\n",
    "assert result.results['passed']\n",
    "report(AutograderTest_NumberOfLongLines, results=result.results)"
   ]
  },
  {
   "cell_type": "code",
   "execution_count": null,
   "metadata": {},
   "outputs": [],
   "source": [
    "%%submission\n",
    "def number_of_long_lines(file, n):\n",
    "    count = 0\n",
    "    with open(file) as f:\n",
    "        for line in f.readlines():\n",
    "            if len(line) > n:\n",
    "                count += 1\n",
    "    return count"
   ]
  },
  {
   "cell_type": "code",
   "execution_count": null,
   "metadata": {},
   "outputs": [],
   "source": [
    "result, log = %autotest AutograderTest_NumberOfLongLines\n",
    "print(result.results)\n",
    "assert result.results['passed']\n",
    "report(AutograderTest_NumberOfLongLines, results=result.results)"
   ]
  },
  {
   "cell_type": "code",
   "execution_count": null,
   "metadata": {},
   "outputs": [],
   "source": [
    "%%submission\n",
    "def number_of_long_lines(file, n):\n",
    "    count = 0\n",
    "    with open(file) as f:\n",
    "        # Note: this will fail to count '\\n' chars.\n",
    "        for line in f.read().split('\\n'):\n",
    "            if len(line) > n:\n",
    "                count += 1\n",
    "    return count"
   ]
  },
  {
   "cell_type": "code",
   "execution_count": null,
   "metadata": {},
   "outputs": [],
   "source": [
    "result, log = %autotest AutograderTest_NumberOfLongLines\n",
    "print(result.results)\n",
    "assert not result.results['passed']\n",
    "report(AutograderTest_NumberOfLongLines, results=result.results)"
   ]
  },
  {
   "cell_type": "code",
   "execution_count": 4,
   "metadata": {},
   "outputs": [
    {
     "name": "stdout",
     "output_type": "stream",
     "text": [
      "1: 19 > 10: じゅげむ　じゅげむ　ごこうのすりきれ\n",
      "\n",
      "2: 19 > 10: かいじゃりすいぎょの　すいぎょうまつ\n",
      "\n",
      "3: 14 > 10: うんらいまつ　ふうらいまつ\n",
      "\n",
      "4: 15 > 10: くうねるところに　すむところ\n",
      "\n",
      "5: 14 > 10: やぶらこうじの　ぶらこうじ\n",
      "\n",
      "6: 12 > 10: パイポのシューリンガン\n",
      "\n",
      "7: 15 > 10: シューリンガンのグーリンダイ\n",
      "\n",
      "8: 22 > 10: グーリンダイのポンポコピーのポンポコナーの\n",
      "\n",
      "9: 15 > 10: ちょうきゅうめいのちょうすけ\n",
      "\n"
     ]
    }
   ],
   "source": [
    "# MASTER ONLY\n",
    "def find_long_lines(file, n):\n",
    "    count = 0\n",
    "    with open(file, encoding='utf8') as f:\n",
    "        for line in f:\n",
    "            if len(line) > n:\n",
    "                count += 1\n",
    "                print(f\"{count}: {len(line)} > {n}: {line}\")\n",
    "\n",
    "find_long_lines(\"jugemu.txt\", 10)"
   ]
  },
  {
   "cell_type": "markdown",
   "metadata": {},
   "source": [
    "## 練習の解答"
   ]
  },
  {
   "cell_type": "code",
   "execution_count": null,
   "metadata": {},
   "outputs": [],
   "source": [
    "def max_value_key(d):\n",
    "    return max(d, key=lambda k: d[k])"
   ]
  },
  {
   "cell_type": "code",
   "execution_count": null,
   "metadata": {},
   "outputs": [],
   "source": [
    "def max_abs(ln):\n",
    "    return max(map(abs, ln))"
   ]
  },
  {
   "cell_type": "code",
   "execution_count": null,
   "metadata": {},
   "outputs": [],
   "source": [
    "def number_of_big_numbers(ln, n):\n",
    "    return sum(1 for _ in filter(lambda x: x > n, ln))"
   ]
  },
  {
   "cell_type": "code",
   "execution_count": null,
   "metadata": {},
   "outputs": [],
   "source": [
    "def number_of_long_lines(file, n):\n",
    "    with open(file, 'r', encoding='utf-8') as f:\n",
    "        return sum(1 for _ in filter(lambda line: len(line) > n, f))"
   ]
  }
 ],
 "metadata": {
  "kernelspec": {
   "display_name": "Python 3",
   "language": "python",
   "name": "python3"
  },
  "language_info": {
   "codemirror_mode": {
    "name": "ipython",
    "version": 3
   },
   "file_extension": ".py",
   "mimetype": "text/x-python",
   "name": "python",
   "nbconvert_exporter": "python",
   "pygments_lexer": "ipython3",
   "version": "3.7.3"
  }
 },
 "nbformat": 4,
 "nbformat_minor": 2
}
