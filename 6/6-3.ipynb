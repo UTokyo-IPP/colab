{
 "cells": [
  {
   "cell_type": "markdown",
   "metadata": {},
   "source": [
    "## 練習\n",
    "\n",
    "`'Hello.\\n'` ではなくて、初期時に指定された文字列を繰り返し返すように、\n",
    "新たなクラス `StringFileIterator` を定義してください。\n",
    "\n",
    "`StringFileIterator` は `HelloFileIterator` を継承し、\n",
    "初期化メソッドには、文字列と回数を指定します。"
   ]
  },
  {
   "cell_type": "code",
   "execution_count": null,
   "metadata": {},
   "outputs": [],
   "source": [
    "class StringFileIterator(HelloFileIterator):\n",
    "    def __init__(self, s, n):\n",
    "        ...\n",
    "    ...        "
   ]
  },
  {
   "cell_type": "markdown",
   "metadata": {},
   "source": [
    "上のセルで解答を作成した後、以下のセルを実行し、実行結果が `True` になることを確認してください。"
   ]
  },
  {
   "cell_type": "code",
   "execution_count": null,
   "metadata": {
    "tags": [
     "raises-exception"
    ]
   },
   "outputs": [],
   "source": [
    "f = StringFileIterator('abc', 3)\n",
    "print(list(f) == ['abc','abc','abc'])"
   ]
  },
  {
   "cell_type": "markdown",
   "metadata": {},
   "source": [
    "## 練習の解答"
   ]
  },
  {
   "cell_type": "code",
   "execution_count": null,
   "metadata": {},
   "outputs": [],
   "source": [
    "class StringFileIterator(HelloFileIterator):\n",
    "    def __init__(self, s, n):\n",
    "        self.s = s\n",
    "        self.n = n\n",
    "    def readline(self):\n",
    "        if self.n == 0:\n",
    "            return ''\n",
    "        self.n = self.n - 1\n",
    "        return self.s"
   ]
  },
  {
   "cell_type": "code",
   "execution_count": null,
   "metadata": {},
   "outputs": [],
   "source": []
  }
 ],
 "metadata": {
  "kernelspec": {
   "display_name": "Python 3",
   "language": "python",
   "name": "python3"
  },
  "language_info": {
   "codemirror_mode": {
    "name": "ipython",
    "version": 3
   },
   "file_extension": ".py",
   "mimetype": "text/x-python",
   "name": "python",
   "nbconvert_exporter": "python",
   "pygments_lexer": "ipython3",
   "version": "3.6.7"
  }
 },
 "nbformat": 4,
 "nbformat_minor": 2
}
