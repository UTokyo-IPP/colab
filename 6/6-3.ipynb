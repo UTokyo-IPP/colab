{
 "cells": [
  {
   "cell_type": "code",
   "execution_count": null,
   "metadata": {},
   "outputs": [],
   "source": [
    "# MASTER ONLY\n",
    "\n",
    "%load_ext prog_edu_assistant_tools.magics\n",
    "from prog_edu_assistant_tools.magics import report, autotest"
   ]
  },
  {
   "cell_type": "markdown",
   "metadata": {},
   "source": [
    "```\n",
    "# ASSIGNMENT METADATA\n",
    "assignment_id: \"6-3\"\n",
    "```\n",
    "\n",
    "## 練習\n",
    "\n",
    "`'Hello.\\n'` ではなくて、初期時に指定された文字列を繰り返し返すように、\n",
    "新たなクラス `StringFileIterator` を定義してください。\n",
    "\n",
    "`StringFileIterator` は `HelloFileIterator` を継承し、\n",
    "初期化メソッドには、文字列と回数を指定します。\n",
    "\n",
    "```\n",
    "# EXERCISE METADATA\n",
    "exercise_id: \"StringFileIterator\"\n",
    "```"
   ]
  },
  {
   "cell_type": "code",
   "execution_count": null,
   "metadata": {},
   "outputs": [],
   "source": [
    "%%solution\n",
    "class HelloFileIterator:\n",
    "    def __iter__(self):\n",
    "        return self\n",
    "    \n",
    "    def __next__(self):\n",
    "        line = self.readline()\n",
    "        if line == '':\n",
    "            raise StopIteration\n",
    "        return line\n",
    "\n",
    "class StringFileIterator(HelloFileIterator):\n",
    "    def __init__(self, s, n):\n",
    "        # BEGIN SOLUTION\n",
    "        self.s = s\n",
    "        self.n = n\n",
    "        # END SOLUTION\n",
    "\n",
    "    # BEGIN SOLUTION\n",
    "    def readline(self):\n",
    "        if self.n == 0:\n",
    "            return ''\n",
    "        self.n = self.n - 1\n",
    "        return self.s  \n",
    "    # END SOLUTION"
   ]
  },
  {
   "cell_type": "markdown",
   "metadata": {},
   "source": [
    "上のセルで解答を作成した後、以下のセルを実行し、実行結果が `True` になることを確認してください。"
   ]
  },
  {
   "cell_type": "code",
   "execution_count": null,
   "metadata": {
    "tags": [
     "raises-exception"
    ]
   },
   "outputs": [],
   "source": [
    "f = StringFileIterator('abc', 3)\n",
    "print(list(f) == ['abc','abc','abc'])"
   ]
  },
  {
   "cell_type": "code",
   "execution_count": null,
   "metadata": {},
   "outputs": [],
   "source": [
    "%%inlinetest AutograderTest_HelloFileIterator\n",
    "\n",
    "assert 'StringFileIterator' in globals(), \"Did you define 'StringFileIterator' in the solution cell?\"\n",
    "assert str(StringFileIterator.__class__) == \"<class 'type'>\", f\"Did you define 'StringFileIterator' as a class? Found {StringFileIterator.__class__}\"\n",
    "\n",
    "try:\n",
    "    it = StringFileIterator('abc', 3)\n",
    "except Exception as e:\n",
    "    assert False, f\"Did you define the __init__ method of StringFileIterator to take arguments (self, s, n)? Got {e}\"\n",
    "try:\n",
    "    assert(callable(getattr(it, \"__next__\"))), \"Did you define a __next__ method on HelloFileIterator?\"\n",
    "    vals = []\n",
    "    for i in range(4):\n",
    "        vals.append(next(it, None))\n",
    "    assert vals[0] is not None, \"Did you return any values from iterator? Double check your __next__ method\"\n",
    "    vals = list(filter(lambda x: x is not None, vals))\n",
    "    assert len(vals) not in [2,4], \"Did you raise StopIteration at the correct iteration?\"\n",
    "    assert vals == ['abc', 'abc', 'abc'], f\"Did you return the correct values? Expected ['abc','abc','abc'], but got {vals}\"\n",
    "except AssertionError as e:\n",
    "    raise e\n",
    "except TypeError as e:\n",
    "    assert False, f\"Did you define all necessary methods of StringFileIterator? {e}\"\n",
    "except Exception as e:\n",
    "    assert False, f\"Did you define StringFileIterator correctly? {e}\""
   ]
  },
  {
   "cell_type": "code",
   "execution_count": null,
   "metadata": {},
   "outputs": [],
   "source": [
    "# Check the canonical solution\n",
    "result, log = %autotest AutograderTest_HelloFileIterator\n",
    "assert result.results['passed']\n",
    "report(AutograderTest_HelloFileIterator, results=result.results)"
   ]
  },
  {
   "cell_type": "code",
   "execution_count": null,
   "metadata": {},
   "outputs": [],
   "source": [
    "%%submission\n",
    "class StringFileIterator:\n",
    "    def __init__(self, s, n):\n",
    "        self.s = s\n",
    "        self.n = n\n",
    "        \n",
    "    def __iter__(self):\n",
    "        return self\n",
    "    \n",
    "    def __next__(self):\n",
    "        line = self.readline()\n",
    "        if line == '':\n",
    "            raise StopIteration\n",
    "        return line\n",
    "\n",
    "    def readline(self):\n",
    "        # NOTE: incorrect termination condition\n",
    "        if self.n == 1:\n",
    "            return ''\n",
    "        self.n = self.n - 1\n",
    "        return self.s  "
   ]
  },
  {
   "cell_type": "code",
   "execution_count": null,
   "metadata": {},
   "outputs": [],
   "source": [
    "result, log = %autotest AutograderTest_HelloFileIterator\n",
    "assert not result.results['passed']\n",
    "import re\n",
    "assert re.search(r'StopIteration at the correct iteration', str(result.results['error']))\n",
    "report(AutograderTest_HelloFileIterator, results=result.results)"
   ]
  },
  {
   "cell_type": "code",
   "execution_count": null,
   "metadata": {},
   "outputs": [],
   "source": [
    "%%submission\n",
    "class StringFileIterator:\n",
    "    def __init__(self, s, n):\n",
    "        self.s = s\n",
    "        self.n = n\n",
    "        \n",
    "    def __iter__(self):\n",
    "        return self\n",
    "    \n",
    "    # NOTE: missing __next__()\n",
    "\n",
    "    def readline(self):\n",
    "        if self.n == 0:\n",
    "            return ''\n",
    "        self.n = self.n - 1\n",
    "        return self.s"
   ]
  },
  {
   "cell_type": "code",
   "execution_count": null,
   "metadata": {},
   "outputs": [],
   "source": [
    "result, log = %autotest AutograderTest_HelloFileIterator\n",
    "print(result.results)\n",
    "assert not result.results['passed']\n",
    "import re\n",
    "#ssert re.search(r'StopIteration at the correct iteration', str(result.results['error']))\n",
    "report(AutograderTest_HelloFileIterator, results=result.results)"
   ]
  },
  {
   "cell_type": "code",
   "execution_count": null,
   "metadata": {},
   "outputs": [],
   "source": [
    "%%submission\n",
    "class StringFileIterator:\n",
    "    def __init__(self, s, n):\n",
    "        self.s = s\n",
    "        self.n = n\n",
    "        \n",
    "    def __iter__(self):\n",
    "        return self\n",
    "    \n",
    "    def __next__(self):\n",
    "        line = self.readline()\n",
    "        if line == '':\n",
    "            raise StopIteration\n",
    "        return line\n",
    "\n",
    "    def readline(self):\n",
    "        if self.n == 0:\n",
    "            return ''\n",
    "        self.n = self.n - 1\n",
    "        return self.s+self.s  "
   ]
  },
  {
   "cell_type": "code",
   "execution_count": null,
   "metadata": {},
   "outputs": [],
   "source": [
    "result, log = %autotest AutograderTest_HelloFileIterator\n",
    "print(result.results)\n",
    "assert not result.results['passed']\n",
    "import re\n",
    "#ssert re.search(r'StopIteration at the correct iteration', str(result.results['error']))\n",
    "report(AutograderTest_HelloFileIterator, results=result.results)"
   ]
  },
  {
   "cell_type": "markdown",
   "metadata": {},
   "source": [
    "## 練習の解答"
   ]
  },
  {
   "cell_type": "code",
   "execution_count": null,
   "metadata": {},
   "outputs": [],
   "source": [
    "class StringFileIterator(HelloFileIterator):\n",
    "    def __init__(self, s, n):\n",
    "        self.s = s\n",
    "        self.n = n\n",
    "    def readline(self):\n",
    "        if self.n == 0:\n",
    "            return ''\n",
    "        self.n = self.n - 1\n",
    "        return self.s"
   ]
  }
 ],
 "metadata": {
  "kernelspec": {
   "display_name": "Python 3",
   "language": "python",
   "name": "python3"
  },
  "language_info": {
   "codemirror_mode": {
    "name": "ipython",
    "version": 3
   },
   "file_extension": ".py",
   "mimetype": "text/x-python",
   "name": "python",
   "nbconvert_exporter": "python",
   "pygments_lexer": "ipython3",
   "version": "3.7.3"
  }
 },
 "nbformat": 4,
 "nbformat_minor": 2
}
