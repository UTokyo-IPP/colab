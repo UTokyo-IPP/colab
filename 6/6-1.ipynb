{
 "cells": [
  {
   "cell_type": "code",
   "execution_count": null,
   "metadata": {},
   "outputs": [],
   "source": [
    "# MASTER ONLY\n",
    "\n",
    "%load_ext prog_edu_assistant_tools.magics\n",
    "from prog_edu_assistant_tools.magics import report, autotest"
   ]
  },
  {
   "cell_type": "markdown",
   "metadata": {},
   "source": [
    "```\n",
    "# ASSIGNMENT METADATA\n",
    "assignment_id: \"6-1\"\n",
    "```\n",
    "\n",
    "## 練習\n",
    "文字列のリストが変数 `strings` に与えられたとき、\n",
    "それぞれの文字列の長さからなるリストを返す内包表記を記述してください。\n",
    "\n",
    "`strings = ['The', 'quick', 'brown']` のとき、結果は `[3, 5, 5]` となります。\n",
    "\n",
    "```\n",
    "# EXERCISE METADATA\n",
    "exercise_id: \"StringLengths\"\n",
    "```"
   ]
  },
  {
   "cell_type": "code",
   "execution_count": null,
   "metadata": {
    "scrolled": true,
    "tags": [
     "raises-exception"
    ]
   },
   "outputs": [],
   "source": [
    "%%solution\n",
    "strings = ['The', 'quick', 'brown']\n",
    "def string_lengths(strings):\n",
    "    \"\"\" # BEGIN PROMPT\n",
    "    return [ここに内包表記を書く]\n",
    "    \"\"\" # END PROMPT\n",
    "    # BEGIN SOLUTION\n",
    "    return [len(s) for s in strings]\n",
    "    # END SOLUTION"
   ]
  },
  {
   "cell_type": "markdown",
   "metadata": {},
   "source": [
    "以下のセルを実行して、True が表示されることを確認してください。"
   ]
  },
  {
   "cell_type": "code",
   "execution_count": null,
   "metadata": {},
   "outputs": [],
   "source": [
    "print(string_lengths(['The', 'quick', 'brown']) == [3, 5, 5])"
   ]
  },
  {
   "cell_type": "code",
   "execution_count": null,
   "metadata": {},
   "outputs": [],
   "source": [
    "%%inlinetest AutograderTest_StringLenghts\n",
    "\n",
    "assert 'string_lengths' in globals(), \"Did you define 'string_length' in the solution cell?\"\n",
    "assert str(string_lengths.__class__) == \"<class 'function'>\", f\"Did you define 'string_lengths' as a function? There was a {string_lengths.__class__} instead\"\n",
    "assert string_lengths(['abc']) is not None, \"Did you forget to return a value?\"\n",
    "\n",
    "assert len(string_lengths(['abc'])) == 1, \"Did you return a list of correct length?\"\n",
    "assert len(string_lengths(['abc', 'abcde', 'a'])) == 3, \"Did you return a list of correct length?\"\n",
    "assert len(string_lengths([])) == 0, \"Did you handle empty list correctly?\"\n",
    "\n",
    "assert string_lengths([]) == [], \"Did you handle empty list correctly?\"\n",
    "assert string_lengths(['']) != [1], \"Did you computed length of the strings correctly?\"\n",
    "assert string_lengths(['']) == [0], \"Did you handle empty string correctly?\"\n",
    "assert string_lengths(['abc']) == [3], \"Did you handle single string correctly?\"\n",
    "assert string_lengths(['abc', 'abc']) == [3, 3], \"Did you handle single string correctly?\"\n",
    "\n",
    "assert string_lengths(['The', 'quick', 'brown']) == [3, 5, 5], \"Did you try the example? Try string_lengths(['The', 'quick', 'brown'])\""
   ]
  },
  {
   "cell_type": "code",
   "execution_count": null,
   "metadata": {},
   "outputs": [],
   "source": [
    "# Check the canonical solution\n",
    "result, log = %autotest AutograderTest_StringLenghts\n",
    "assert result.results['passed']\n",
    "report(AutograderTest_StringLenghts, results=result.results)"
   ]
  },
  {
   "cell_type": "code",
   "execution_count": null,
   "metadata": {},
   "outputs": [],
   "source": [
    "%%submission\n",
    "def string_lengths(strings):\n",
    "    return [len(strings) for s in strings]"
   ]
  },
  {
   "cell_type": "code",
   "execution_count": null,
   "metadata": {},
   "outputs": [],
   "source": [
    "result, log = %autotest AutograderTest_StringLenghts\n",
    "assert not result.results['passed']\n",
    "report(AutograderTest_StringLenghts, results=result.results)"
   ]
  },
  {
   "cell_type": "markdown",
   "metadata": {},
   "source": [
    "## 練習\n",
    "\n",
    "コンマで区切られた10進数からなる文字列が変数 `str1` に与えられたとき、\n",
    "それぞれの10進数を数に変換して得られるリストを返す内包表記を記述してください。\n",
    "\n",
    "`str1 = '123,45,-3'` のとき、結果は `[123, 45, -3]` となります。\n",
    "\n",
    "なお、コンマで区切られた10進数からなる文字列を、10進数の文字列のリストに変換するには、メソッド `split` を用いることができます。\n",
    "また、10進数の文字列を数に変換するには、**`int`** を関数として用いることができます。\n",
    "\n",
    "```\n",
    "# EXERCISE METADATA\n",
    "exercise_id: \"ParseInt\"\n",
    "```"
   ]
  },
  {
   "cell_type": "code",
   "execution_count": null,
   "metadata": {
    "tags": [
     "raises-exception"
    ]
   },
   "outputs": [],
   "source": [
    "%%solution\n",
    "str1 = '123,45,-3'\n",
    "def parse_ints(str1):\n",
    "    \"\"\" # BEGIN PROMPT\n",
    "    return [ここに内包表記を書く]\n",
    "    \"\"\" # END PROMPT\n",
    "    # BEGIN SOLUTION\n",
    "    return [int(x) for x in str1.split(',')]\n",
    "    # END SOLUTION"
   ]
  },
  {
   "cell_type": "markdown",
   "metadata": {},
   "source": [
    "以下のセルを実行して、True が表示されることを確認してください。"
   ]
  },
  {
   "cell_type": "code",
   "execution_count": null,
   "metadata": {},
   "outputs": [],
   "source": [
    "print(parse_ints('123,45,-3') == [123, 45, -3])"
   ]
  },
  {
   "cell_type": "code",
   "execution_count": null,
   "metadata": {},
   "outputs": [],
   "source": [
    "%%inlinetest AutograderTest_ParseInts\n",
    "\n",
    "assert \"parse_ints\" in globals(), \"Did you define a function named 'parse_ints'?\"\n",
    "assert str(parse_ints.__class__) == \"<class 'function'>\", f\"Did you define 'parse_ints' as a function? There was a {parse_ints.__class__} instead\"\n",
    "assert parse_ints('0') is not None, \"Did you forget to return a value?\"\n",
    "\n",
    "assert len(parse_ints('0,0')) == 2, \"Did you split the string correctly? Try parse_ints('0,0').\"\n",
    "assert len(parse_ints('0,0,0')) == 3, \"Did you split the string correctly? Try parse_ints('0,0,0').\"\n",
    "assert parse_ints('0,0') == [0,0], \"Did you convert the integers correctly? Try parse_ints('0,0').\"\n",
    "assert len(parse_ints('0')) == 1, \"Did you handle a string without commas? Try parse_ints('0').\"\n",
    "assert parse_ints('0') == [0], \"Did you convert the integers correctly? Try parse_ints('0').\"\n",
    "assert parse_ints('123') == [123], \"Did you hanle bigger numbers correctly? Try parse_ints('123').\"\n",
    "assert parse_ints('123,0,0') == [123,0,0], \"Did you hanle bigger numbers correctly? Try parse_ints('123,0,0').\"\n",
    "assert parse_ints('-123') == [-123], \"Did you hanle negative numbers correctly? Try parse_ints('-123').\"\n",
    "assert parse_ints('-123,0,0') == [-123,0,0], \"Did you hanle negative numbers correctly? Try parse_ints('-123,0,0').\"\n",
    "assert parse_ints('123,45,-3') == [123,45,-3], \"Did you tried the example? Try parse_ints('123,45,-3').\"\n",
    "assert parse_ints('1,2,3,4,5,6,7,88,9') == [1,2,3,4,5,6,7,88,9], \"Did you handle many elements correctly? Try a longer string\""
   ]
  },
  {
   "cell_type": "code",
   "execution_count": null,
   "metadata": {},
   "outputs": [],
   "source": [
    "# Check the canonical solution\n",
    "result, log = %autotest AutograderTest_ParseInts\n",
    "assert result.results['passed']\n",
    "report(AutograderTest_ParseInts, results=result.results)"
   ]
  },
  {
   "cell_type": "code",
   "execution_count": null,
   "metadata": {},
   "outputs": [],
   "source": [
    "%%submission\n",
    "def parse_ints(str):\n",
    "    result = []\n",
    "    for s in str.split(','):\n",
    "        if s:\n",
    "            result.append(int(s))\n",
    "    return result"
   ]
  },
  {
   "cell_type": "code",
   "execution_count": null,
   "metadata": {},
   "outputs": [],
   "source": [
    "result, log = %autotest AutograderTest_ParseInts\n",
    "assert result.results['passed']\n",
    "report(AutograderTest_ParseInts, results=result.results)"
   ]
  },
  {
   "cell_type": "code",
   "execution_count": null,
   "metadata": {},
   "outputs": [],
   "source": [
    "%%submission\n",
    "import re\n",
    "def parse_ints(str):\n",
    "    return [int(s) for s in re.findall(r'[0-9]+', str)]"
   ]
  },
  {
   "cell_type": "code",
   "execution_count": null,
   "metadata": {},
   "outputs": [],
   "source": [
    "result, log = %autotest AutograderTest_ParseInts\n",
    "print(result.results)\n",
    "assert not result.results['passed']\n",
    "import re\n",
    "assert re.search(r'negative', str(result.results['error']))\n",
    "report(AutograderTest_ParseInts, results=result.results)"
   ]
  },
  {
   "cell_type": "code",
   "execution_count": null,
   "metadata": {},
   "outputs": [],
   "source": [
    "%%submission\n",
    "import re\n",
    "def parse_ints(str):\n",
    "    return [int(s) for s in re.findall(r'-?[0-9]+', str)]"
   ]
  },
  {
   "cell_type": "code",
   "execution_count": null,
   "metadata": {},
   "outputs": [],
   "source": [
    "result, log = %autotest AutograderTest_ParseInts\n",
    "assert result.results['passed']\n",
    "report(AutograderTest_ParseInts, results=result.results)"
   ]
  },
  {
   "cell_type": "markdown",
   "metadata": {},
   "source": [
    "## 練習\n",
    "\n",
    "数のリストが与えらえたとき、リストの要素の分散を求める関数 `var` を\n",
    "内包表記と関数 `sum` を用いて定義してください。\n",
    "以下のセルの `...` のところを書き換えて `var` を作成してください。\n",
    "\n",
    "```\n",
    "# EXERCISE METADATA\n",
    "exercise_id: \"Variance\"\n",
    "```"
   ]
  },
  {
   "cell_type": "code",
   "execution_count": null,
   "metadata": {},
   "outputs": [],
   "source": [
    "%%solution\n",
    "import math\n",
    "def var(lst):\n",
    "    # BEGIN SOLUTION\n",
    "    ex = sum(lst)/len(lst)\n",
    "    return sum((x-ex)*(x-ex) for x in lst)/len(lst)\n",
    "    # END SOLUTION"
   ]
  },
  {
   "cell_type": "markdown",
   "metadata": {},
   "source": [
    "上のセルで解答を作成した後、以下のセルを実行し、実行結果が `True` になることを確認してください。"
   ]
  },
  {
   "cell_type": "code",
   "execution_count": null,
   "metadata": {
    "tags": [
     "raises-exception"
    ]
   },
   "outputs": [],
   "source": [
    "print(var([3,4,1,2]) == 1.25)"
   ]
  },
  {
   "cell_type": "code",
   "execution_count": null,
   "metadata": {},
   "outputs": [],
   "source": [
    "%%inlinetest AutograderTest_Var\n",
    "\n",
    "assert \"var\" in globals(), \"Did you define a function named 'var'?\"\n",
    "assert str(var.__class__) == \"<class 'function'>\", f\"Did you define 'var' as a function? There was a {var.__class__} instead\"\n",
    "assert var([0,1,2]) is not None, \"Did you forget to return a value?\"\n",
    "\n",
    "assert abs(var([1,2]) - 0.25) < 0.0001, \"Did you compute variance correctly? Try var([1,2])\"\n",
    "assert abs(var([3,4,1,2]) - 1.25) < 0.0001, \"Did you compute variance correctly? Try var([3,4,1,2])\"\n",
    "assert abs(var([3]) - 0) < 0.0001, \"Did you handle 1-element list correctly? Try var([3])\""
   ]
  },
  {
   "cell_type": "code",
   "execution_count": null,
   "metadata": {},
   "outputs": [],
   "source": [
    "# Check the canonical solution\n",
    "result, log = %autotest AutograderTest_Var\n",
    "assert result.results['passed']\n",
    "report(AutograderTest_Var, results=result.results)"
   ]
  },
  {
   "cell_type": "code",
   "execution_count": null,
   "metadata": {},
   "outputs": [],
   "source": [
    "%%submission\n",
    "def var(lst):\n",
    "    n = len(lst)\n",
    "    av = sum(lst)/n\n",
    "    return sum([(x - av)*(x - av) for x in lst])/n"
   ]
  },
  {
   "cell_type": "code",
   "execution_count": null,
   "metadata": {},
   "outputs": [],
   "source": [
    "result, log = %autotest AutograderTest_Var\n",
    "assert result.results['passed']\n",
    "report(AutograderTest_Var, results=result.results)"
   ]
  },
  {
   "cell_type": "code",
   "execution_count": null,
   "metadata": {},
   "outputs": [],
   "source": [
    "%%submission\n",
    "def var(lst):\n",
    "    n = len(lst)\n",
    "    av = sum(lst)/n\n",
    "    return sum([x*x for x in lst])/n - av*av"
   ]
  },
  {
   "cell_type": "code",
   "execution_count": null,
   "metadata": {},
   "outputs": [],
   "source": [
    "result, log = %autotest AutograderTest_Var\n",
    "assert result.results['passed']\n",
    "report(AutograderTest_Var, results=result.results) "
   ]
  },
  {
   "cell_type": "code",
   "execution_count": null,
   "metadata": {},
   "outputs": [],
   "source": [
    "%%submission\n",
    "import math\n",
    "def var(lst):\n",
    "    # Mistake in the E[x]^2 computation.\n",
    "    return (sum([x*x for x in lst])-sum(lst)*sum(lst))/len(lst)"
   ]
  },
  {
   "cell_type": "code",
   "execution_count": null,
   "metadata": {},
   "outputs": [],
   "source": [
    "result, log = %autotest AutograderTest_Var\n",
    "assert not result.results['passed']\n",
    "report(AutograderTest_Var, results=result.results) "
   ]
  },
  {
   "cell_type": "markdown",
   "metadata": {},
   "source": [
    "## 練習\n",
    "\n",
    "次のような関数 `sum_lists` を作成してください。\n",
    "\n",
    "- `sum_lists` はリスト `list1` を引数とします。\n",
    "- `list1` の各要素はリストであり、そのリストの要素は数です。\n",
    "- `sum_lists` は、`list1` の各要素であるリストの総和を求め、それらの総和を足し合せて返します。\n",
    "\n",
    "ここでは、内包表記と関数 `sum` を用いて `sum_lists` を定義してください。\n",
    "以下のセルの `...` のところを書き換えて `sum_lists` を作成してください。\n",
    "\n",
    "```\n",
    "# EXERCISE METADATA\n",
    "exercise_id: \"SumLists\"\n",
    "```"
   ]
  },
  {
   "cell_type": "code",
   "execution_count": null,
   "metadata": {},
   "outputs": [],
   "source": [
    "%%solution\n",
    "def sum_lists(list1):\n",
    "    # BEGIN SOLUTION\n",
    "    return sum([sum(l) for l in list1])\n",
    "    # END SOLUTION"
   ]
  },
  {
   "cell_type": "markdown",
   "metadata": {},
   "source": [
    "上のセルで解答を作成した後、以下のセルを実行し、実行結果が `True` になることを確認してください。"
   ]
  },
  {
   "cell_type": "code",
   "execution_count": null,
   "metadata": {
    "tags": [
     "raises-exception"
    ]
   },
   "outputs": [],
   "source": [
    "print(sum_lists([[20, 5], [6, 16, 14, 5], [16, 8, 16, 17, 14], [1], [5, 3, 5, 7]]) == 158)"
   ]
  },
  {
   "cell_type": "code",
   "execution_count": null,
   "metadata": {},
   "outputs": [],
   "source": [
    "%%inlinetest AutograderTest_SumLists\n",
    "\n",
    "assert \"sum_lists\" in globals(), \"Did you define a function named 'sum_lists'?\"\n",
    "assert str(sum_lists.__class__) == \"<class 'function'>\", f\"Did you define 'sum_lists' as a function? There was a {sum_lists.__class__} instead\"\n",
    "\n",
    "try:\n",
    "    sum_lists([0])\n",
    "    assert False, \"Did you access the list in lists?\"\n",
    "except Exception as e:\n",
    "    pass\n",
    "\n",
    "try:\n",
    "    assert sum_lists([[0,1,2]]) is not None, \"Did you forget to return a value?\"\n",
    "except Exception as e:\n",
    "    assert False, \"Did you correctly handled nested lists?\"\n",
    "\n",
    "assert sum_lists([[0]]) == 0, \"Did you compute the sum correctly?\"\n",
    "assert sum_lists([[1]]) == 1, \"Did you compute the sum correctly? Try sum_lists([[1]])\"\n",
    "assert sum_lists([[1],[1]]) == 2, \"Did you compute the sum correctly? Try sum_lists([[1],[1]])\"\n",
    "assert sum_lists([[1,1]]) == 2, \"Did you compute the sum correctly? Try sum_lists([[1,1]])\"\n",
    "assert sum_lists([[1],[2,3],[4,5,6],[7,8,9,10]]) == 55, \"Did you compute the sum correctly? Try sum_lists([[1],[2,3],[4,5,6],[7,8,9,10]])\""
   ]
  },
  {
   "cell_type": "code",
   "execution_count": null,
   "metadata": {},
   "outputs": [],
   "source": [
    "# Check the canonical solution\n",
    "result, log = %autotest AutograderTest_SumLists\n",
    "assert result.results['passed']\n",
    "report(AutograderTest_SumLists, results=result.results)"
   ]
  },
  {
   "cell_type": "code",
   "execution_count": null,
   "metadata": {},
   "outputs": [],
   "source": [
    "%%submission\n",
    "def sum_lists(list1):\n",
    "    return sum(list1)"
   ]
  },
  {
   "cell_type": "code",
   "execution_count": null,
   "metadata": {},
   "outputs": [],
   "source": [
    "result, log = %autotest AutograderTest_SumLists\n",
    "print(result.results)\n",
    "assert not result.results['passed']\n",
    "import re\n",
    "assert re.search(r'nested lists', str(result.results['error']))\n",
    "report(AutograderTest_SumLists, results=result.results)"
   ]
  },
  {
   "cell_type": "markdown",
   "metadata": {},
   "source": [
    "## 練習\n",
    "\n",
    "リスト `list1` と `list2` が引数として与えられたとき、次のようなリスト `list3` を返す関数 `sum_matrix` を作成してください。\n",
    "\n",
    "- `list1`, `list2`, `list3` は、3つの要素を持ちます。\n",
    "- 各要素は大きさ 3 のリストになっており、そのリストの要素は全て数です。\n",
    "- `list3[i][j]` （ただし、`i` と `j` は共に、0 以上 2 以下の整数）は `list1[i][j]` と `list2[i][j]` の値の和になっています。\n",
    "\n",
    "ここでは、内包表記を用いて`sum_matrix` を定義してください。以下のセルの `...` のところを書き換えて `sum_matrix` を作成してください。\n",
    "\n",
    "```\n",
    "# EXERCISE METADATA\n",
    "exercise_id: \"SumMatrix\"\n",
    "```"
   ]
  },
  {
   "cell_type": "code",
   "execution_count": null,
   "metadata": {},
   "outputs": [],
   "source": [
    "%%solution\n",
    "def sum_matrix(list1, list2):\n",
    "    # BEGIN SOLUTION\n",
    "    return [[list1[i][j] + list2[i][j] for j in range(3)] for i in range(3)]\n",
    "    # END SOLUTION"
   ]
  },
  {
   "cell_type": "markdown",
   "metadata": {},
   "source": [
    "上のセルで解答を作成した後、以下のセルを実行し、実行結果が `True` になることを確認してください。"
   ]
  },
  {
   "cell_type": "code",
   "execution_count": null,
   "metadata": {
    "tags": [
     "raises-exception"
    ]
   },
   "outputs": [],
   "source": [
    "print(sum_matrix([[1,5,3],[4,5,6],[7,8,9]], [[1,4,7],[2,5,8],[3,6,9]])==[[2, 9, 10], [6, 10, 14], [10, 14, 18]])"
   ]
  },
  {
   "cell_type": "code",
   "execution_count": null,
   "metadata": {},
   "outputs": [],
   "source": [
    "%%inlinetest AutograderTest_SumMatrix\n",
    "\n",
    "assert \"sum_matrix\" in globals(), \"Did you define a function named 'sum_matrix'?\"\n",
    "assert str(sum_matrix.__class__) == \"<class 'function'>\", f\"Did you define 'sum_matrix' as a function? There was a {sum_matrix.__class__} instead\"\n",
    "\n",
    "zero = [[0,0,0], [0,0,0], [0,0,0]]\n",
    "ones = [[1,1,1], [1,1,1], [1,1,1]]\n",
    "twos = [[2,2,2], [2,2,2], [2,2,2]]\n",
    "tens = [[10,10,10], [10,10,10], [10,10,10]]\n",
    "\n",
    "try:\n",
    "    assert sum_matrix(zero, zero) is not None, \"Did you forget to return a value?\"\n",
    "except Exception as e:\n",
    "    print(e)\n",
    "    assert False, \"Are you accessing elements outside of 3x3 matrix?\"    \n",
    "\n",
    "assert len(sum_matrix(zero,zero)) != 6, f\"Are you adding matrices with '+'? That would create 6x3 matrix instead of element-wise sum in 3x3 matrix.\"\n",
    "assert len(sum_matrix(zero,zero)) == 3, f\"Do you return a 3x3 matrix? Got {len(sum_matrix(zero,zero))} rows.\"\n",
    "row_lens = [len(row) for row in sum_matrix(zero,zero)]\n",
    "assert row_lens == [3,3,3], f\"Do you return a 3x3 matrix? Got rows of sizes {row_lens} instead of [3,3,3].\"\n",
    "assert sum_matrix(zero,zero) == zero, \"Do you sum values correctly? Try adding zero matrices\"\n",
    "assert sum_matrix(zero,ones) == ones, \"Do you sum values correctly? Try adding all-zero and all-one matrices\"\n",
    "assert sum_matrix(ones,ones) == twos, \"Do you sum values correctly? Try adding all-one matrices\"\n",
    "assert sum_matrix([[1,2,3],[4,5,6],[7,8,9]],[[9,8,7],[6,5,4],[3,2,1]]) == tens, \"Do you sum values correctly? Try adding [1,2,3],[4,5,6],[7,8,9]] matrix\"\n",
    "assert sum_matrix([[1,5,3],[4,5,6],[7,8,9]], [[1,4,7],[2,5,8],[3,6,9]])==[[2, 9, 10], [6, 10, 14], [10, 14, 18]], \"Did you try to run example?\""
   ]
  },
  {
   "cell_type": "code",
   "execution_count": null,
   "metadata": {},
   "outputs": [],
   "source": [
    "# Check the canonical solution\n",
    "result, log = %autotest AutograderTest_SumMatrix\n",
    "assert result.results['passed']\n",
    "report(AutograderTest_SumMatrix, results=result.results)"
   ]
  },
  {
   "cell_type": "code",
   "execution_count": null,
   "metadata": {},
   "outputs": [],
   "source": [
    "%%submission\n",
    "def sum_matrix(a,b):\n",
    "    return a+b"
   ]
  },
  {
   "cell_type": "code",
   "execution_count": null,
   "metadata": {},
   "outputs": [],
   "source": [
    "result, log = %autotest AutograderTest_SumMatrix\n",
    "print(result.results)\n",
    "assert not result.results['passed']\n",
    "report(AutograderTest_SumMatrix, results=result.results)"
   ]
  },
  {
   "cell_type": "markdown",
   "metadata": {},
   "source": [
    "## 練習の解答"
   ]
  },
  {
   "cell_type": "code",
   "execution_count": null,
   "metadata": {},
   "outputs": [],
   "source": [
    "strings = ['The', 'quick', 'brown']\n",
    "[len(x) for x in strings]"
   ]
  },
  {
   "cell_type": "code",
   "execution_count": null,
   "metadata": {},
   "outputs": [],
   "source": [
    "str1 = '123,45,-3'\n",
    "[int(x) for x in str1.split(',')]"
   ]
  },
  {
   "cell_type": "code",
   "execution_count": null,
   "metadata": {},
   "outputs": [],
   "source": [
    "def var(lst):\n",
    "    n = len(lst)\n",
    "    av = sum(lst)/n\n",
    "    return sum([(x - av)*(x - av) for x in lst])/n"
   ]
  },
  {
   "cell_type": "code",
   "execution_count": null,
   "metadata": {},
   "outputs": [],
   "source": [
    "def var(lst):\n",
    "    n = len(lst)\n",
    "    av = sum(lst)/n\n",
    "    return sum([x*x for x in lst])/n - av*av"
   ]
  },
  {
   "cell_type": "code",
   "execution_count": null,
   "metadata": {},
   "outputs": [],
   "source": [
    "def sum_lists(list1):\n",
    "    return sum([sum(lst) for lst in list1])"
   ]
  },
  {
   "cell_type": "code",
   "execution_count": null,
   "metadata": {},
   "outputs": [],
   "source": [
    "def sum_matrix(list1,list2):\n",
    "    return [[list1[i][j] + list2[i][j] for j in range(3)] for i in range(3)]"
   ]
  }
 ],
 "metadata": {
  "kernelspec": {
   "display_name": "Python 3",
   "language": "python",
   "name": "python3"
  },
  "language_info": {
   "codemirror_mode": {
    "name": "ipython",
    "version": 3
   },
   "file_extension": ".py",
   "mimetype": "text/x-python",
   "name": "python",
   "nbconvert_exporter": "python",
   "pygments_lexer": "ipython3",
   "version": "3.7.3"
  }
 },
 "nbformat": 4,
 "nbformat_minor": 2
}
