{
 "cells": [
  {
   "cell_type": "code",
   "execution_count": null,
   "metadata": {},
   "outputs": [],
   "source": [
    "# MASTER ONLY\n",
    "\n",
    "%load_ext prog_edu_assistant_tools.magics\n",
    "from prog_edu_assistant_tools.magics import report, autotest"
   ]
  },
  {
   "cell_type": "markdown",
   "metadata": {},
   "source": [
    "### 練習\n",
    "\n",
    "英語の文章からなる文字列 `str_engsentences` が引数として与えられたとき、`str_engsentences` 中に含まれる全ての句読点（`.`, `,`, `:`, `;`, `!`, `?`）を削除した文字列を返す関数 `remove_punctuations` を作成してください。\n",
    "（練習の解答はこの Jupyter Notebook の一番最後にあります。）\n",
    "\n",
    "次のセルの `...` のところを書き換えて `remove_punctuations(str_engsentences)` を作成してください。\n",
    "\n",
    "```\n",
    "# ASSIGNMENT METADATA\n",
    "assignment_id: \"2-1\"\n",
    "```\n",
    "```\n",
    "# EXERCISE METADATA\n",
    "exercise_id: \"RemovePunctuation\"\n",
    "```"
   ]
  },
  {
   "cell_type": "code",
   "execution_count": null,
   "metadata": {},
   "outputs": [],
   "source": [
    "%%solution\n",
    "def remove_punctuations(str_engsentences):\n",
    "    # BEGIN SOLUTION\n",
    "    str1 = str_engsentences.replace('.', '') # 指定の文字を空文字に置換\n",
    "    str1 = str1.replace(',', '')\n",
    "    str1 = str1.replace(':', '')\n",
    "    str1 = str1.replace(';', '')\n",
    "    str1 = str1.replace('!', '')\n",
    "    str1 = str1.replace('?', '')\n",
    "    return str1\n",
    "    # END SOLUTION"
   ]
  },
  {
   "cell_type": "markdown",
   "metadata": {},
   "source": [
    "上のセルで解答を作成した後、以下のセルを実行し、実行結果が `True` になることを確認してください。"
   ]
  },
  {
   "cell_type": "code",
   "execution_count": null,
   "metadata": {
    "tags": [
     "raises-exception"
    ]
   },
   "outputs": [],
   "source": [
    "print(remove_punctuations('Quiet, uh, donations, you want me to make a donation to the coast guard youth auxiliary?') == 'Quiet uh donations you want me to make a donation to the coast guard youth auxiliary')"
   ]
  },
  {
   "cell_type": "code",
   "execution_count": null,
   "metadata": {},
   "outputs": [],
   "source": [
    "%%inlinetest AutograderTest_RemovePunctuation\n",
    "assert 'remove_punctuations' in globals(), \"Did you define a function named 'remove_punctuations' in the solution cell?\"\n",
    "assert str(remove_punctuations.__class__) == \"<class 'function'>\", f\"Did you define 'remove_punctuations' as a function? There was a {remove_punctuations.__class__} instead\"\n",
    "\n",
    "assert remove_punctuations('') is not None, \"Did you forget to return a value?\"\n",
    "assert remove_punctuations('') == '', \"Did you handle empty string correctly?\"\n",
    "assert remove_punctuations(',') == '', \"Did you handle commas (,) correctly?\"\n",
    "assert remove_punctuations('a,b') == 'ab', \"Did you handle commas (,) correctly?\"\n",
    "assert remove_punctuations(',b') == 'b', \"Did you handle commas (,) correctly?\"\n",
    "assert remove_punctuations('a,') == 'a', \"Did you handle commas (,) correctly?\"\n",
    "assert remove_punctuations('a,,,b') == 'ab', \"Did you handle commas (,) correctly?\"\n",
    "assert remove_punctuations(',,,') == '', \"Did you handle multiple commas (,) correctly?\"\n",
    "assert remove_punctuations(':') == '', \"Did you handle colons (:) correctly?\"\n",
    "assert remove_punctuations('a:b') == 'ab', \"Did you handle colons (:) correctly?\"\n",
    "assert remove_punctuations('a:b') == 'ab', \"Did you handle colons (:) correctly?\"\n",
    "assert remove_punctuations(':b') == 'b', \"Did you handle colons (:) correctly?\"\n",
    "assert remove_punctuations('a:') == 'a', \"Did you handle colons (:) correctly?\"\n",
    "assert remove_punctuations('a:::b') == 'ab', \"Did you handle colons (:) correctly?\"\n",
    "assert remove_punctuations(':::') == '', \"Did you handle multiple colons (:) correctly?\"\n",
    "assert remove_punctuations('?') == '', \"Did you handle question mark (?) correctly?\"\n",
    "assert remove_punctuations('!') == '', \"Did you handle exclamantion mark (!) correctly?\"\n",
    "assert remove_punctuations('.') == '', \"Did you handle period (.) correctly?\"\n",
    "assert remove_punctuations(';') == '', \"Did you handle semicolon (;) correctly?\"\n",
    "assert remove_punctuations('.,?!:;') == '', \"Did you handle multiple punctuation correctly?\"\n",
    "assert remove_punctuations('a.,?!:;b') == 'ab', \"Did you handle multiple punctuation correctly?\"\n",
    "assert remove_punctuations('a.b,c?d!e:f;g') == 'abcdefg', \"Did you handle multiple punctuation correctly?\""
   ]
  },
  {
   "cell_type": "code",
   "execution_count": null,
   "metadata": {},
   "outputs": [],
   "source": [
    "results, log = %autotest AutograderTest_RemovePunctuation\n",
    "assert results.results['passed']\n",
    "report(AutograderTest_RemovePunctuation, results=results.results, source=submission_source.source)"
   ]
  },
  {
   "cell_type": "code",
   "execution_count": null,
   "metadata": {},
   "outputs": [],
   "source": [
    "%%submission\n",
    "def remove_punctuations(str1):\n",
    "    # BEGIN SOLUTION\n",
    "    str1 = str1.replace('.', '')\n",
    "    #str1 = str1.replace(',', '')\n",
    "    str1 = str1.replace(':', '')\n",
    "    str1 = str1.replace(';', '')\n",
    "    str1 = str1.replace('!', '')\n",
    "    str1 = str1.replace('?', '')\n",
    "    return str1"
   ]
  },
  {
   "cell_type": "code",
   "execution_count": null,
   "metadata": {},
   "outputs": [],
   "source": [
    "results, log = %autotest AutograderTest_RemovePunctuation\n",
    "assert not results.results['passed']\n",
    "report(AutograderTest_RemovePunctuation, results=results.results, source=submission_source.source)"
   ]
  },
  {
   "cell_type": "code",
   "execution_count": null,
   "metadata": {},
   "outputs": [],
   "source": [
    "%%submission\n",
    "def remove_punctuations(str1):\n",
    "    str1 = str1.replace('.', '')"
   ]
  },
  {
   "cell_type": "code",
   "execution_count": null,
   "metadata": {},
   "outputs": [],
   "source": [
    "results, log = %autotest AutograderTest_RemovePunctuation\n",
    "print(results.results)\n",
    "assert not results.results['passed']\n",
    "report(AutograderTest_RemovePunctuation, results=results.results, source=submission_source.source)"
   ]
  },
  {
   "cell_type": "markdown",
   "metadata": {},
   "source": [
    "### 練習\n",
    "\n",
    "ATGCの4種類の文字から成る文字列 `str_atgc` が引数として与えられたとき、文字列 `str_pair` を返す関数 `atgc_bppair` を作成してください。ただし、`str_pair` は、`str_atgc` 中の各文字列に対して、\n",
    "`A` を `T` に、`T` を `A` に、`G` を `C` に、`C` を `G` に置き換えたものです。\n",
    "\n",
    "次のセルの `...` のところを書き換えて `atgc_bppair(str_atgc)` を作成してください。\n",
    "\n",
    "```\n",
    "# EXERCISE METADATA\n",
    "exercise_id: \"AtgcPair\"\n",
    "```"
   ]
  },
  {
   "cell_type": "code",
   "execution_count": null,
   "metadata": {},
   "outputs": [],
   "source": [
    "%%solution\n",
    "def atgc_bppair(str_atgc):\n",
    "    # BEGIN SOLUTION\n",
    "    str_pair = str_atgc.replace('A', 't')# 指定の文字に置換。ただし全て小文字\n",
    "    str_pair = str_pair.replace('T', 'a')\n",
    "    str_pair = str_pair.replace('G', 'c')\n",
    "    str_pair = str_pair.replace('C', 'g')\n",
    "    str_pair = str_pair.upper() # 置換済みの小文字の列を大文字に変換\n",
    "    return str_pair\n",
    "    # END SOLUTION"
   ]
  },
  {
   "cell_type": "markdown",
   "metadata": {},
   "source": [
    "上のセルで解答を作成した後、以下のセルを実行し、実行結果が `True` になることを確認してください。"
   ]
  },
  {
   "cell_type": "code",
   "execution_count": null,
   "metadata": {
    "tags": [
     "raises-exception"
    ]
   },
   "outputs": [],
   "source": [
    "print(atgc_bppair('AAGCCCCATGGTAA') == 'TTCGGGGTACCATT')"
   ]
  },
  {
   "cell_type": "code",
   "execution_count": null,
   "metadata": {},
   "outputs": [],
   "source": [
    "%%inlinetest Autotest_AtgcPair\n",
    "assert 'atgc_bppair' in globals(), \"Did you define a function named 'atgc_bppair' in the solution cell?\"\n",
    "assert str(atgc_bppair.__class__) == \"<class 'function'>\", f\"Did you define 'atgc_bppair' as a function? There was a {atgc_bppair.__class__} instead\"\n",
    "\n",
    "assert atgc_bppair('') is not None, \"Did you forget to return a value?\"\n",
    "assert atgc_bppair('A') == 'T', \"Did you replace A correctly? Did you replace too much: A->T->A?\"\n",
    "assert atgc_bppair('T') == 'A', \"Did you replace T correctly? Did you replace too much: T->A->T?\"\n",
    "assert atgc_bppair('G') == 'C', \"Did you replace G correctly? Did you replace too much: G->C->G?\"\n",
    "assert atgc_bppair('C') == 'G', \"Did you replace C correctly? Did you replace too much: C->G->C?\"\n",
    "assert atgc_bppair('AT') != 'AA', \"Did you replace too much: A->T->A?\"\n",
    "assert atgc_bppair('TA') != 'TT', \"Did you replace too much: T->A->T?\"\n",
    "assert atgc_bppair('GC') != 'GG', \"Did you replace too much: G->C->G?\"\n",
    "assert atgc_bppair('CG') != 'CC', \"Did you replace too much: C->G->C?\"\n",
    "assert atgc_bppair('AT') == 'TA', \"Did you replace T and A together correctly?\"\n",
    "assert atgc_bppair('GC') == 'CG', \"Did you replace G and C together correctly?\"\n",
    "assert atgc_bppair('ATGC') == 'TACG', \"Did you replace A, T, G and C together correctly?\"\n",
    "assert atgc_bppair('ATGCTACG') == 'TACGATGC', \"Did you replace A, T, G and C together correctly?\"\n",
    "assert atgc_bppair('AAGCCCCATGGTAA') == 'TTCGGGGTACCATT', \"Something is wrong\""
   ]
  },
  {
   "cell_type": "code",
   "execution_count": null,
   "metadata": {},
   "outputs": [],
   "source": [
    "results, log = %autotest Autotest_AtgcPair\n",
    "assert results.results['passed']\n",
    "report(Autotest_AtgcPair, results=results.results, source=submission_source.source)"
   ]
  },
  {
   "cell_type": "code",
   "execution_count": null,
   "metadata": {},
   "outputs": [],
   "source": [
    "%%submission\n",
    "def atgc_bppair(str_atgc):\n",
    "    str_pair = str_atgc.replace('A', 'T')\n",
    "    str_pair = str_pair.replace('T', 'A')\n",
    "    str_pair = str_pair.replace('G', 'C')\n",
    "    str_pair = str_pair.replace('C', 'G')\n",
    "    return str_pair"
   ]
  },
  {
   "cell_type": "code",
   "execution_count": null,
   "metadata": {},
   "outputs": [],
   "source": [
    "results, log = %autotest Autotest_AtgcPair\n",
    "print(results.results)\n",
    "assert not results.results['passed']\n",
    "report(Autotest_AtgcPair, results=results.results, source=submission_source.source)"
   ]
  },
  {
   "cell_type": "markdown",
   "metadata": {},
   "source": [
    "### 練習\n",
    "\n",
    "コロン (`:`) を1つだけ含む文字列 `str1` を引数として与えると、コロンの左右に存在する文字列を入れ替えた文字列を返す関数 `swap_colon(str1)` を作成してください。\n",
    "\n",
    "次のセルの `...` のところを書き換えて `swap_colon(str1)` を作成してください。\n",
    "\n",
    "```\n",
    "# EXERCISE METADATA\n",
    "exercise_id: \"SwapColon\"\n",
    "```"
   ]
  },
  {
   "cell_type": "code",
   "execution_count": null,
   "metadata": {},
   "outputs": [],
   "source": [
    "%%solution\n",
    "def swap_colon(str1):\n",
    "    # BEGIN SOLUTION\n",
    "    #コロンの位置を取得する # findでもOK\n",
    "    col_index = str1.index(':')\n",
    "    #コロンの位置を基準に前半と後半の部分文字列を取得する\n",
    "    str2, str3 = str1[:col_index], str1[col_index+1:]\n",
    "    #部分文字列の順序を入れ替えて結合する\n",
    "    str4 = str3 + ':' + str2\n",
    "    return str4\n",
    "    # END SOLUTION"
   ]
  },
  {
   "cell_type": "markdown",
   "metadata": {},
   "source": [
    "上のセルで解答を作成した後、以下のセルを実行し、実行結果が `True` になることを確認してください。"
   ]
  },
  {
   "cell_type": "code",
   "execution_count": null,
   "metadata": {
    "tags": [
     "raises-exception"
    ]
   },
   "outputs": [],
   "source": [
    "print(swap_colon('hello:world') == 'world:hello')"
   ]
  },
  {
   "cell_type": "code",
   "execution_count": null,
   "metadata": {},
   "outputs": [],
   "source": [
    "%%inlinetest Autograder_SwapColon\n",
    "assert 'swap_colon' in globals(), \"Did you define a function named 'swap_colon' in the solution cell?\"\n",
    "assert str(swap_colon.__class__) == \"<class 'function'>\", f\"Did you define 'swap_colon' as a function? There was a {swap_colon.__class__} instead\"\n",
    "\n",
    "assert swap_colon('a:bc') is not None, \"Did you forget to return a value?\"\n",
    "assert swap_colon('a:b') != 'a', \"Did you forget to add a second half?\"\n",
    "assert swap_colon('a:b') != 'b', \"Did you forget to add a second half?\"\n",
    "assert swap_colon('a:b') != 'ba', \"Did you forget to insert a colon?\"\n",
    "assert swap_colon('a:b') != 'a:b', \"Did you forget to swap the parts of the string?\"\n",
    "assert len(swap_colon('a:b')) >= 3, \"Did you cut a string incorrectly? Result is too short\"\n",
    "assert len(swap_colon('a:b')) <= 3, \"Did you cut a string incorrectly? Result is too long\"\n",
    "assert swap_colon('a:b') == 'b:a', \"Will your solution handle 'a:b' correctly?\"\n",
    "assert swap_colon('aa:bb') == 'bb:aa', \"Will your solution handle 'a:b' correctly?\"\n",
    "assert swap_colon('аа:бб') == 'бб:аа', \"Will your solution handle Unicode characters correctly?\"\n",
    "assert swap_colon(':') == ':', \"Will your solution handle empty parts correctly?\"\n",
    "assert swap_colon('a:') == ':a', \"Will your solution handle empty parts correctly?\"\n",
    "assert swap_colon(':b') == 'b:', \"Will your solution handle empty parts correctly?\"\n",
    "assert swap_colon('abcde:xyz') == 'xyz:abcde', \"Something is wrong\""
   ]
  },
  {
   "cell_type": "code",
   "execution_count": null,
   "metadata": {},
   "outputs": [],
   "source": [
    "results, log = %autotest Autograder_SwapColon\n",
    "assert results.results['passed']\n",
    "report(Autograder_SwapColon, results=results.results, source=submission_source.source)"
   ]
  },
  {
   "cell_type": "markdown",
   "metadata": {},
   "source": [
    "### 練習\n",
    "\n",
    "ATGCの4種類の文字から成る文字列 `str_atgc` と塩基名（`A`, `T`, `G`, `C` のいずれか）を指定する文字列 `str_bpname` が引数として与えられたとき、`str_atgc` 中に含まれる塩基 `str_bpname` の数を返す関数 `atgc_count` を作成してください。\n",
    "\n",
    "次のセルの `...` のところを書き換えて `atgc_count(str_atgc, str_bpname)` を作成してください。\n",
    "\n",
    "```\n",
    "# EXERCISE METADATA\n",
    "exercise_id: \"AtgcCount\"\n",
    "```"
   ]
  },
  {
   "cell_type": "code",
   "execution_count": null,
   "metadata": {},
   "outputs": [],
   "source": [
    "%%solution\n",
    "def atgc_count(str_atgc, str_bpname):\n",
    "    # BEGIN SOLUTION\n",
    "    return str_atgc.count(str_bpname)\n",
    "    # END SOLUTION"
   ]
  },
  {
   "cell_type": "markdown",
   "metadata": {},
   "source": [
    "上のセルで解答を作成した後、以下のセルを実行し、実行結果が `True` になることを確認してください。"
   ]
  },
  {
   "cell_type": "code",
   "execution_count": null,
   "metadata": {
    "tags": [
     "raises-exception"
    ]
   },
   "outputs": [],
   "source": [
    "print(atgc_count('AAGCCCCATGGTAA', 'A') == 5)"
   ]
  },
  {
   "cell_type": "code",
   "execution_count": null,
   "metadata": {},
   "outputs": [],
   "source": [
    "%%inlinetest Autograder_AtgcCount\n",
    "assert 'atgc_count' in globals(), \"Did you define a function named 'atgc_count' in the solution cell?\"\n",
    "assert str(atgc_count.__class__) == \"<class 'function'>\", f\"Did you define 'atgc_count' as a function? There was a {atgc_count.__class__} instead\"\n",
    "assert atgc_count('A','A') is not None, \"Did you forget to return a value?\"\n",
    "assert atgc_count('A','A') == 1, \"Did you count A correctly?\"\n",
    "try:\n",
    "    assert atgc_count('A','AA') != 2, \"Did you swap the function arguments?\"\n",
    "except:\n",
    "    pass\n",
    "assert atgc_count('AA','A') == 2, \"Did you count A correctly?\"\n",
    "assert atgc_count('AAAAA','A') == 5, \"Did you count A correctly?\"\n",
    "assert atgc_count('T','T') == 1, \"Did you count T correctly?\"\n",
    "assert atgc_count('TT','T') == 2, \"Did you count T correctly?\"\n",
    "assert atgc_count('TTTTT','T') == 5, \"Did you count T correctly?\"\n",
    "assert atgc_count('G','G') == 1, \"Did you count G correctly?\"\n",
    "assert atgc_count('GG','G') == 2, \"Did you count G correctly?\"\n",
    "assert atgc_count('GGGGG','G') == 5, \"Did you count G correctly?\"\n",
    "assert atgc_count('C','C') == 1, \"Did you count C correctly?\"\n",
    "assert atgc_count('CC','C') == 2, \"Did you count C correctly?\"\n",
    "assert atgc_count('CCCCC','C') == 5, \"Did you count C correctly?\""
   ]
  },
  {
   "cell_type": "code",
   "execution_count": null,
   "metadata": {},
   "outputs": [],
   "source": [
    "results, log = %autotest Autograder_AtgcCount\n",
    "assert results.results['passed']\n",
    "report(Autograder_AtgcCount, results=results.results, source=submission_source.source)"
   ]
  },
  {
   "cell_type": "code",
   "execution_count": null,
   "metadata": {},
   "outputs": [],
   "source": [
    "%%submission\n",
    "def atgc_count(a, b):\n",
    "    return b.count(a)"
   ]
  },
  {
   "cell_type": "code",
   "execution_count": null,
   "metadata": {},
   "outputs": [],
   "source": [
    "results, log = %autotest Autograder_AtgcCount\n",
    "print(results.results)\n",
    "assert not results.results['passed']\n",
    "report(Autograder_AtgcCount, results=results.results, source=submission_source.source)"
   ]
  },
  {
   "cell_type": "markdown",
   "metadata": {},
   "source": [
    "## 練習\n",
    "\n",
    "英語の文字列 `str_engsentences` が引数として与えられたとき、それが全て小文字である場合、`True` を返し、そうでない場合、 `False` を返す関数 `check_lower` を作成してください。\n",
    "\n",
    "次のセルの `...` のところを書き換えて `check_lower(str_engsentences)` を作成してください。\n",
    "\n",
    "```\n",
    "# EXERCISE METADATA\n",
    "exercise_id: \"CheckLower\"\n",
    "```"
   ]
  },
  {
   "cell_type": "code",
   "execution_count": null,
   "metadata": {},
   "outputs": [],
   "source": [
    "%%solution\n",
    "def check_lower(str_engsentences):\n",
    "    # BEGIN SOLUTION\n",
    "    if str_engsentences == str_engsentences.lower():#元の文字列と小文字に変換した文字列を比較する\n",
    "        return True\n",
    "    return False\n",
    "    # END SOLUTION"
   ]
  },
  {
   "cell_type": "markdown",
   "metadata": {},
   "source": [
    "上のセルで解答を作成した後、以下のセルを実行し、実行結果が全て `True` になることを確認してください。"
   ]
  },
  {
   "cell_type": "code",
   "execution_count": null,
   "metadata": {
    "tags": [
     "raises-exception"
    ]
   },
   "outputs": [],
   "source": [
    "print(check_lower('down down down') == True)\n",
    "print(check_lower('There were doors all round the hall, but they were all locked') == False)"
   ]
  },
  {
   "cell_type": "code",
   "execution_count": null,
   "metadata": {},
   "outputs": [],
   "source": [
    "%%inlinetest Autograder_CheckLower\n",
    "assert 'check_lower' in globals(), \"Did you define a function named 'check_lower' in the solution cell?\"\n",
    "assert str(check_lower.__class__) == \"<class 'function'>\", f\"Did you define 'check_lower' as a function? There was a {check_lower.__class__} instead\"\n",
    "assert check_lower('A') is not None, \"Did you forget to return a value?\"\n",
    "assert check_lower('A') in [True, False], \"Did you return a boolean?\"\n",
    "assert check_lower('a') == True, \"Did you handle one-character string correctly?\"\n",
    "assert check_lower('A') == False, \"Did you handle one-character string correctly?\"\n",
    "assert check_lower('abc xyz') == True, \"Did you handle multi-characters strings correctly?\"\n",
    "assert check_lower('ABC XYZ') == False, \"Did you handle multi-characters strings correctly?\"\n",
    "assert check_lower('Abc xyz') == False, \"Did you detect lower-case characters at the beginning of string?\"\n",
    "assert check_lower('abC xyz') == False, \"Did you detect lower-case characters in the middle of string?\"\n",
    "assert check_lower('abc xyZ') == False, \"Did you detect lower-case characters at the end of string?\"\n",
    "assert check_lower('abc xyZ') == False, \"Did you detect lower-case characters at the end of string?\"\n",
    "assert check_lower('a,b:c!d') == True, \"Did you handle non-letter characters correctly?\"\n",
    "assert check_lower('A,B:C!D') == False, \"Did you handle non-letter characters correctly?\"\n",
    "assert check_lower('') == True, \"Did you handle empty string correctly?\""
   ]
  },
  {
   "cell_type": "code",
   "execution_count": null,
   "metadata": {},
   "outputs": [],
   "source": [
    "results, log = %autotest Autograder_CheckLower\n",
    "assert results.results['passed']\n",
    "report(Autograder_CheckLower, results=results.results, source=submission_source.source)"
   ]
  },
  {
   "cell_type": "code",
   "execution_count": null,
   "metadata": {},
   "outputs": [],
   "source": [
    "%%submission\n",
    "def check_lower(s):\n",
    "    return 2"
   ]
  },
  {
   "cell_type": "code",
   "execution_count": null,
   "metadata": {},
   "outputs": [],
   "source": [
    "results, log = %autotest Autograder_CheckLower\n",
    "print(results.results)\n",
    "assert not results.results['passed']\n",
    "report(Autograder_CheckLower, results=results.results, source=submission_source.source)"
   ]
  },
  {
   "cell_type": "markdown",
   "metadata": {},
   "source": [
    "## 練習\n",
    "\n",
    "コンマ (`,`) を含む英語の文章からなる文字列 `str_engsentences` が引数として与えられたとき、`str_engsentences` 中の一番最初のコンマより後の文章のみかならなる文字列 `str_res` を返す関数 `remove_clause` を作成してください。ただし、 `str_res` の先頭は大文字のアルファベットとしてください。\n",
    "\n",
    "次のセルの `...` のところを書き換えて `remove_clause(str_engsentences)` を作成してください。\n",
    "\n",
    "```\n",
    "# EXERCISE METADATA\n",
    "exercise_id: \"RemoveClause\"\n",
    "```"
   ]
  },
  {
   "cell_type": "code",
   "execution_count": null,
   "metadata": {},
   "outputs": [],
   "source": [
    "%%solution\n",
    "def remove_clause(str_engsentences):\n",
    "    # BEGIN SOLUTION\n",
    "    int_index = str_engsentences.find(',')\n",
    "    str1 = str_engsentences[int_index+2:]\n",
    "    return str1.capitalize()\n",
    "    # END SOLUTION"
   ]
  },
  {
   "cell_type": "markdown",
   "metadata": {},
   "source": [
    "上のセルで解答を作成した後、以下のセルを実行し、実行結果が `True` になることを確認してください。"
   ]
  },
  {
   "cell_type": "code",
   "execution_count": null,
   "metadata": {
    "tags": [
     "raises-exception"
    ]
   },
   "outputs": [],
   "source": [
    "print(remove_clause(\"It's being seen, but you aren't observing.\") == \"But you aren't observing.\")"
   ]
  },
  {
   "cell_type": "code",
   "execution_count": null,
   "metadata": {},
   "outputs": [],
   "source": [
    "%%inlinetest Autograder_RemoveClause\n",
    "assert 'remove_clause' in globals(), \"Did you define a function named 'remove_clause' in the solution cell?\"\n",
    "assert str(remove_clause.__class__) == \"<class 'function'>\", f\"Did you define 'remove_clause' as a function? There was a {remove_clause.__class__} instead\"\n",
    "assert remove_clause('aaaaa, bbbbb') is not None, \"Did you forget to return a value?\"\n",
    "assert len(remove_clause('aaaaa, bbbbb')) <= len('Bbbbb'), \"Did you cut the string correctly? Result is too long\"\n",
    "assert len(remove_clause('aaaaa, bbbbb')) >= len('Bbbbb'), \"Did you cut the string correctly? Result is too short\"\n",
    "assert remove_clause('aaaaa, bbbbb')[0] != 'b', \"Did you forget to capitalize the returned sentence?\"\n",
    "assert remove_clause('aaaaa, bbbbb')[1] != 'B', \"Did you capitalize too much?\"\n",
    "assert remove_clause('aaaaa, bbbbb') == 'Bbbbb', \"Something wrong with your capitalization\"\n",
    "assert remove_clause('aaaaa, bb bb') == 'Bb bb', \"Something wrong with your capitalization\"\n",
    "assert remove_clause('Hi there, you are here') == 'You are here', \"Something wrong with your capitalization\"\n",
    "#assert remove_clause('Hi there,  you are here') != ' you are here', \"You solution is OK, but it would be nice if you could hanlde multiple spaces\"\n",
    "#assert remove_clause('Hi there,you are here') != 'Ou are here', \"You solution is OK, but it would be nice if you could hanlde missing space after comma\""
   ]
  },
  {
   "cell_type": "code",
   "execution_count": null,
   "metadata": {},
   "outputs": [],
   "source": [
    "results, log = %autotest Autograder_RemoveClause\n",
    "assert results.results['passed']\n",
    "report(Autograder_RemoveClause, results=results.results, source=submission_source.source)"
   ]
  },
  {
   "cell_type": "markdown",
   "metadata": {},
   "source": [
    "## 練習の解答"
   ]
  },
  {
   "cell_type": "code",
   "execution_count": null,
   "metadata": {},
   "outputs": [],
   "source": [
    "def remove_punctuations(str_engsentences):\n",
    "    str1 = str_engsentences.replace('.', '') # 指定の文字を空文字に置換\n",
    "    str1 = str1.replace(',', '')\n",
    "    str1 = str1.replace(':', '')\n",
    "    str1 = str1.replace(';', '')\n",
    "    str1 = str1.replace('!', '')\n",
    "    str1 = str1.replace('?', '')\n",
    "    return str1\n",
    "#remove_punctuations('Quiet, uh, donations, you want me to make a donation to the coast guard youth auxiliary?')"
   ]
  },
  {
   "cell_type": "code",
   "execution_count": null,
   "metadata": {},
   "outputs": [],
   "source": [
    "def atgc_bppair(str_atgc):\n",
    "    str_pair = str_atgc.replace('A', 't')# 指定の文字に置換。ただし全て小文字\n",
    "    str_pair = str_pair.replace('T', 'a')\n",
    "    str_pair = str_pair.replace('G', 'c')\n",
    "    str_pair = str_pair.replace('C', 'g')\n",
    "    str_pair = str_pair.upper() # 置換済みの小文字の列を大文字に変換\n",
    "    return str_pair\n",
    "#atgc_bppair('AAGCCCCATGGTAA') "
   ]
  },
  {
   "cell_type": "code",
   "execution_count": null,
   "metadata": {},
   "outputs": [],
   "source": [
    "def swap_colon(str1):\n",
    "    #コロンの位置を取得する # findでもOK\n",
    "    col_index = str1.index(':')\n",
    "    #コロンの位置を基準に前半と後半の部分文字列を取得する\n",
    "    str2, str3 = str1[:col_index], str1[col_index+1:]\n",
    "    #部分文字列の順序を入れ替えて結合する\n",
    "    str4 = str3 + ':' + str2\n",
    "    return str4\n",
    "#swap_colon('hello:world')"
   ]
  },
  {
   "cell_type": "code",
   "execution_count": null,
   "metadata": {},
   "outputs": [],
   "source": [
    "def atgc_count(str_atgc, str_bpname):\n",
    "    return str_atgc.count(str_bpname)\n",
    "#atgc_count('AAGCCCCATGGTAA', 'A') "
   ]
  },
  {
   "cell_type": "code",
   "execution_count": null,
   "metadata": {},
   "outputs": [],
   "source": [
    "def check_lower(str_engsentences):\n",
    "    if str_engsentences == str_engsentences.lower():#元の文字列と小文字に変換した文字列を比較する\n",
    "        return True\n",
    "    return False\n",
    "#check_lower('down down down')\n",
    "#check_lower('There were doors all round the hall, but they were all locked')"
   ]
  },
  {
   "cell_type": "code",
   "execution_count": null,
   "metadata": {},
   "outputs": [],
   "source": [
    "def remove_clause(str_engsentences):\n",
    "    int_index = str_engsentences.find(',')\n",
    "    str1 = str_engsentences[int_index+2:]\n",
    "    return str1.capitalize()\n",
    "#remove_clause(\"It's being seen, but you aren't observing.\")"
   ]
  }
 ],
 "metadata": {
  "kernelspec": {
   "display_name": "Python 3",
   "language": "python",
   "name": "python3"
  },
  "language_info": {
   "codemirror_mode": {
    "name": "ipython",
    "version": 3
   },
   "file_extension": ".py",
   "mimetype": "text/x-python",
   "name": "python",
   "nbconvert_exporter": "python",
   "pygments_lexer": "ipython3",
   "version": "3.7.3"
  }
 },
 "nbformat": 4,
 "nbformat_minor": 2
}
