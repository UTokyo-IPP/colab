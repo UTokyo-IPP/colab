{
 "cells": [
  {
   "cell_type": "markdown",
   "metadata": {},
   "source": [
    "### 練習\n",
    "\n",
    "英語の文章からなる文字列 `str_engsentences` が引数として与えられたとき、`str_engsentences` 中に含まれる全ての句読点（`.`, `,`, `:`, `;`, `!`, `?`）を削除した文字列を返す関数 `remove_punctuations` を作成してください。\n",
    "（練習の解答はこの Jupyter Notebook の一番最後にあります。）\n",
    "\n",
    "次のセルの `...` のところを書き換えて `remove_punctuations(str_engsentences)` を作成してください。"
   ]
  },
  {
   "cell_type": "code",
   "execution_count": null,
   "metadata": {},
   "outputs": [],
   "source": [
    "def remove_punctuations(str_engsentences):\n",
    "    ..."
   ]
  },
  {
   "cell_type": "markdown",
   "metadata": {},
   "source": [
    "上のセルで解答を作成した後、以下のセルを実行し、実行結果が `True` になることを確認してください。"
   ]
  },
  {
   "cell_type": "code",
   "execution_count": null,
   "metadata": {
    "tags": [
     "raises-exception"
    ]
   },
   "outputs": [],
   "source": [
    "print(remove_punctuations('Quiet, uh, donations, you want me to make a donation to the coast guard youth auxiliary?') == 'Quiet uh donations you want me to make a donation to the coast guard youth auxiliary')"
   ]
  },
  {
   "cell_type": "markdown",
   "metadata": {},
   "source": [
    "### 練習\n",
    "\n",
    "ATGCの4種類の文字から成る文字列 `str_atgc` が引数として与えられたとき、文字列 `str_pair` を返す関数 `atgc_bppair` を作成してください。ただし、`str_pair` は、`str_atgc` 中の各文字列に対して、\n",
    "`A` を `T` に、`T` を `A` に、`G` を `C` に、`C` を `G` に置き換えたものです。\n",
    "\n",
    "次のセルの `...` のところを書き換えて `atgc_bppair(str_atgc)` を作成してください。"
   ]
  },
  {
   "cell_type": "code",
   "execution_count": null,
   "metadata": {},
   "outputs": [],
   "source": [
    "def atgc_bppair(str_atgc):\n",
    "    ..."
   ]
  },
  {
   "cell_type": "markdown",
   "metadata": {},
   "source": [
    "上のセルで解答を作成した後、以下のセルを実行し、実行結果が `True` になることを確認してください。"
   ]
  },
  {
   "cell_type": "code",
   "execution_count": null,
   "metadata": {
    "tags": [
     "raises-exception"
    ]
   },
   "outputs": [],
   "source": [
    "print(atgc_bppair('AAGCCCCATGGTAA') == 'TTCGGGGTACCATT')"
   ]
  },
  {
   "cell_type": "markdown",
   "metadata": {},
   "source": [
    "### 練習\n",
    "\n",
    "コロン (`:`) を1つだけ含む文字列 `str1` を引数として与えると、コロンの左右に存在する文字列を入れ替えた文字列を返す関数 `swap_colon(str1)` を作成してください。\n",
    "\n",
    "次のセルの `...` のところを書き換えて `swap_colon(str1)` を作成してください。"
   ]
  },
  {
   "cell_type": "code",
   "execution_count": null,
   "metadata": {},
   "outputs": [],
   "source": [
    "def swap_colon(str1):\n",
    "    ..."
   ]
  },
  {
   "cell_type": "markdown",
   "metadata": {},
   "source": [
    "上のセルで解答を作成した後、以下のセルを実行し、実行結果が `True` になることを確認してください。"
   ]
  },
  {
   "cell_type": "code",
   "execution_count": null,
   "metadata": {
    "tags": [
     "raises-exception"
    ]
   },
   "outputs": [],
   "source": [
    "print(swap_colon('hello:world') == 'world:hello')"
   ]
  },
  {
   "cell_type": "markdown",
   "metadata": {},
   "source": [
    "### 練習\n",
    "\n",
    "ATGCの4種類の文字から成る文字列 `str_atgc` と塩基名（`A`, `T`, `G`, `C` のいずれか）を指定する文字列 `str_bpname` が引数として与えられたとき、`str_atgc` 中に含まれる塩基 `str_bpname` の数を返す関数 `atgc_count` を作成してください。\n",
    "\n",
    "次のセルの `...` のところを書き換えて `atgc_count(str_atgc, str_bpname)` を作成してください。"
   ]
  },
  {
   "cell_type": "code",
   "execution_count": null,
   "metadata": {},
   "outputs": [],
   "source": [
    "def atgc_count(str_atgc, str_bpname):\n",
    "    ..."
   ]
  },
  {
   "cell_type": "markdown",
   "metadata": {},
   "source": [
    "上のセルで解答を作成した後、以下のセルを実行し、実行結果が `True` になることを確認してください。"
   ]
  },
  {
   "cell_type": "code",
   "execution_count": null,
   "metadata": {
    "tags": [
     "raises-exception"
    ]
   },
   "outputs": [],
   "source": [
    "print(atgc_count('AAGCCCCATGGTAA', 'A') == 5)"
   ]
  },
  {
   "cell_type": "markdown",
   "metadata": {},
   "source": [
    "## 練習\n",
    "\n",
    "英語の文字列 `str_engsentences` が引数として与えられたとき、それが全て小文字である場合、`True` を返し、そうでない場合、 `False` を返す関数 `check_lower` を作成してください。\n",
    "\n",
    "次のセルの `...` のところを書き換えて `check_lower(str_engsentences)` を作成してください。"
   ]
  },
  {
   "cell_type": "code",
   "execution_count": null,
   "metadata": {},
   "outputs": [],
   "source": [
    "def check_lower(str_engsentences):\n",
    "    ..."
   ]
  },
  {
   "cell_type": "markdown",
   "metadata": {},
   "source": [
    "上のセルで解答を作成した後、以下のセルを実行し、実行結果が全て `True` になることを確認してください。"
   ]
  },
  {
   "cell_type": "code",
   "execution_count": null,
   "metadata": {
    "tags": [
     "raises-exception"
    ]
   },
   "outputs": [],
   "source": [
    "print(check_lower('down down down') == True)\n",
    "print(check_lower('There were doors all round the hall, but they were all locked') == False)"
   ]
  },
  {
   "cell_type": "markdown",
   "metadata": {},
   "source": [
    "## 練習\n",
    "\n",
    "コンマ (`,`) を含む英語の文章からなる文字列 `str_engsentences` が引数として与えられたとき、`str_engsentences` 中の一番最初のコンマより後の文章のみかならなる文字列 `str_res` を返す関数 `remove_clause` を作成してください。ただし、 `str_res` の先頭は大文字のアルファベットとしてください。\n",
    "\n",
    "次のセルの `...` のところを書き換えて `remove_clause(str_engsentences)` を作成してください。"
   ]
  },
  {
   "cell_type": "code",
   "execution_count": null,
   "metadata": {},
   "outputs": [],
   "source": [
    "def remove_clause(str_engsentences):\n",
    "    ..."
   ]
  },
  {
   "cell_type": "markdown",
   "metadata": {},
   "source": [
    "上のセルで解答を作成した後、以下のセルを実行し、実行結果が `True` になることを確認してください。"
   ]
  },
  {
   "cell_type": "code",
   "execution_count": null,
   "metadata": {
    "tags": [
     "raises-exception"
    ]
   },
   "outputs": [],
   "source": [
    "print(remove_clause(\"It's being seen, but you aren't observing.\") == \"But you aren't observing.\")"
   ]
  },
  {
   "cell_type": "markdown",
   "metadata": {},
   "source": [
    "## 練習の解答"
   ]
  },
  {
   "cell_type": "code",
   "execution_count": null,
   "metadata": {},
   "outputs": [],
   "source": [
    "def remove_punctuations(str_engsentences):\n",
    "    str1 = str_engsentences.replace('.', '') # 指定の文字を空文字に置換\n",
    "    str1 = str1.replace(',', '')\n",
    "    str1 = str1.replace(':', '')\n",
    "    str1 = str1.replace(';', '')\n",
    "    str1 = str1.replace('!', '')\n",
    "    str1 = str1.replace('?', '')\n",
    "    return str1\n",
    "#remove_punctuations('Quiet, uh, donations, you want me to make a donation to the coast guard youth auxiliary?')"
   ]
  },
  {
   "cell_type": "code",
   "execution_count": null,
   "metadata": {},
   "outputs": [],
   "source": [
    "def atgc_bppair(str_atgc):\n",
    "    str_pair = str_atgc.replace('A', 't')# 指定の文字に置換。ただし全て小文字\n",
    "    str_pair = str_pair.replace('T', 'a')\n",
    "    str_pair = str_pair.replace('G', 'c')\n",
    "    str_pair = str_pair.replace('C', 'g')\n",
    "    str_pair = str_pair.upper() # 置換済みの小文字の列を大文字に変換\n",
    "    return str_pair\n",
    "#atgc_bppair('AAGCCCCATGGTAA') "
   ]
  },
  {
   "cell_type": "code",
   "execution_count": null,
   "metadata": {},
   "outputs": [],
   "source": [
    "def swap_colon(str1):\n",
    "    #コロンの位置を取得する # findでもOK\n",
    "    col_index = str1.index(':')\n",
    "    #コロンの位置を基準に前半と後半の部分文字列を取得する\n",
    "    str2, str3 = str1[:col_index], str1[col_index+1:]\n",
    "    #部分文字列の順序を入れ替えて結合する\n",
    "    str4 = str3 + ':' + str2\n",
    "    return str4\n",
    "#swap_colon('hello:world')"
   ]
  },
  {
   "cell_type": "code",
   "execution_count": null,
   "metadata": {},
   "outputs": [],
   "source": [
    "def atgc_count(str_atgc, str_bpname):\n",
    "    return str_atgc.count(str_bpname)\n",
    "#atgc_count('AAGCCCCATGGTAA', 'A') "
   ]
  },
  {
   "cell_type": "code",
   "execution_count": null,
   "metadata": {},
   "outputs": [],
   "source": [
    "def check_lower(str_engsentences):\n",
    "    if str_engsentences == str_engsentences.lower():#元の文字列と小文字に変換した文字列を比較する\n",
    "        return True\n",
    "    return False\n",
    "#check_lower('down down down')\n",
    "#check_lower('There were doors all round the hall, but they were all locked')"
   ]
  },
  {
   "cell_type": "code",
   "execution_count": null,
   "metadata": {},
   "outputs": [],
   "source": [
    "def remove_clause(str_engsentences):\n",
    "    int_index = str_engsentences.find(',')\n",
    "    str1 = str_engsentences[int_index+2:]\n",
    "    return str1.capitalize()\n",
    "#remove_clause(\"It's being seen, but you aren't observing.\")"
   ]
  },
  {
   "cell_type": "code",
   "execution_count": null,
   "metadata": {},
   "outputs": [],
   "source": []
  }
 ],
 "metadata": {
  "kernelspec": {
   "display_name": "Python 3",
   "language": "python",
   "name": "python3"
  },
  "language_info": {
   "codemirror_mode": {
    "name": "ipython",
    "version": 3
   },
   "file_extension": ".py",
   "mimetype": "text/x-python",
   "name": "python",
   "nbconvert_exporter": "python",
   "pygments_lexer": "ipython3",
   "version": "3.6.7"
  }
 },
 "nbformat": 4,
 "nbformat_minor": 2
}
