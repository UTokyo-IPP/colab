{
 "cells": [
  {
   "cell_type": "markdown",
   "metadata": {},
   "source": [
    "## 練習\n",
    "リスト `ln` を引数として取り、`ln` の偶数番目のインデックスの値を削除したリストを返す関数 `remove_evenindex` を作成してください（ただし、0 は偶数として扱うものとします）。\n",
    "\n",
    "ヒント：スライスを使います。\n",
    "\n",
    "以下のセルの `...` のところを書き換えて `remove_evenindex(ln)` を作成してください。"
   ]
  },
  {
   "cell_type": "code",
   "execution_count": null,
   "metadata": {},
   "outputs": [],
   "source": [
    "def remove_evenindex(ln):\n",
    "    ..."
   ]
  },
  {
   "cell_type": "markdown",
   "metadata": {},
   "source": [
    "上のセルで解答を作成した後、以下のセルを実行し、実行結果が全て `True` になることを確認してください。"
   ]
  },
  {
   "cell_type": "code",
   "execution_count": null,
   "metadata": {
    "tags": [
     "raises-exception"
    ]
   },
   "outputs": [],
   "source": [
    "print(remove_evenindex(['a', 'b', 'c', 'd', 'e', 'f', 'g']) == ['b', 'd', 'f'] )\n",
    "print(remove_evenindex([1, 2, 3, 4, 5]) == [2, 4])"
   ]
  },
  {
   "cell_type": "code",
   "execution_count": null,
   "metadata": {},
   "outputs": [],
   "source": [
    "def test_helper(function, expected_returntype, testcase_pairs, post_process = None):\n",
    "  # Functionality checks\n",
    "  def test_result(test_input, expected_result):\n",
    "    actual_result = function(test_input)\n",
    "    assert isinstance(actual_result, expected_returntype), f\"Did you return {expected_returntype.__name__}? Received {actual_result.__class__}\"\n",
    "    if post_process:\n",
    "      actual_result = post_process(actual_result)\n",
    "    assert actual_result == expected_result, f\"Expected {expected_result}, but received {actual_result}\"\n",
    "\n",
    "  for test_input, expected_result in testcase_pairs:\n",
    "    test_result(test_input, expected_result)"
   ]
  },
  {
   "cell_type": "code",
   "execution_count": null,
   "metadata": {},
   "outputs": [],
   "source": [
    "%%inlinetest AutograderTest_RemoveEvenindex\n",
    "\n",
    "function_name = \"remove_evenindex\"\n",
    "assert function_name in globals(), f\"Did you define a function named '{function_name}' in the solution cell?\"\n",
    "assert str(remove_evenindex.__class__) == \"<class 'function'>\", f\"Did you define '{function_name}' as a function? There was a {remove_evenindex.__class__} instead\"\n",
    "\n",
    "testcase_pairs = [\n",
    "  ([], []),\n",
    "  ([1], []),\n",
    "  ([1, 2], [2]),\n",
    "  ([1, 2, 3], [2]),\n",
    "  ([1, 2, 3, 4], [2, 4]),\n",
    "  ([1, 2, 3, 4, 5], [2, 4]),\n",
    "  (['a', 'b', 'c', 'd', 'e', 'f', 'g'], ['b', 'd', 'f']),\n",
    "  (list(range(90)), list([x for x in range(90) if x % 2 == 1]))\n",
    "]\n",
    "test_helper(remove_evenindex, list, testcase_pairs)"
   ]
  },
  {
   "cell_type": "markdown",
   "metadata": {},
   "source": [
    "### 練習\n",
    "\n",
    "英語の１文からなる文字列 `str_engsentence` が引数として与えられたとき、`str_engsentence` 中に含まれる単語数を返す関数 `count_words` を作成してください。ただし、文はピリオドで終了し単語は空白で区切られるものとします。\n",
    "\n",
    "ヒント：文字列に対する `split` メソッドを使います。\n",
    "\n",
    "以下のセルの `...` のところを書き換えて `count_words(str_engsentence)` を作成してください。"
   ]
  },
  {
   "cell_type": "code",
   "execution_count": null,
   "metadata": {},
   "outputs": [],
   "source": [
    "def count_words(str_engsentence):\n",
    "    ..."
   ]
  },
  {
   "cell_type": "markdown",
   "metadata": {},
   "source": [
    "上のセルで解答を作成した後、以下のセルを実行し、実行結果が `True` になることを確認してください。"
   ]
  },
  {
   "cell_type": "code",
   "execution_count": null,
   "metadata": {
    "tags": [
     "raises-exception"
    ]
   },
   "outputs": [],
   "source": [
    "print(count_words('From Stettin in the Baltic to Trieste in the Adriatic an iron curtain has descended across the Continent.') == 18)"
   ]
  },
  {
   "cell_type": "code",
   "execution_count": null,
   "metadata": {},
   "outputs": [],
   "source": [
    "%%inlinetest AutograderTest_CountWords\n",
    " \n",
    "function_name = \"count_words\"\n",
    "assert function_name in globals(), f\"Did you define a function named '{function_name}' in the solution cell?\"\n",
    "assert str(count_words.__class__) == \"<class 'function'>\", f\"Did you define '{function_name}' as a function? There was a {count_words.__class__} instead\"\n",
    "\n",
    "testcase_pairs = [\n",
    "  (\"\", 0),\n",
    "  (\"Hello\", 1),\n",
    "  (\"Hello world!\", 2),\n",
    "  (\"From Stettin in the Baltic to Trieste in the Adriatic an iron curtain has descended across the Continent.\", 18),\n",
    "  (\"Lorem ipsum dolor sit amet, consectetur adipiscing elit. Maecenas efficitur eros erat, ut pharetra libero ultrices nec.\", 17),\n",
    "  (\"The quick brown fox jumped over the lazy dogs.\", 9),\n",
    "]\n",
    "\n",
    "test_helper(count_words, int, testcase_pairs)"
   ]
  },
  {
   "cell_type": "markdown",
   "metadata": {},
   "source": [
    "## 練習\n",
    "整数の要素からなるリスト `ln` を引数として取り、\n",
    "`ln` に含まれる要素を逆順に格納したタプルを返す関数 `reverse_totuple` を作成してください。\n",
    "\n",
    "以下のセルの `...` のところを書き換えて `reverse_totuple(ln)` を作成してください。"
   ]
  },
  {
   "cell_type": "code",
   "execution_count": null,
   "metadata": {},
   "outputs": [],
   "source": [
    "def reverse_totuple(ln):\n",
    "    ..."
   ]
  },
  {
   "cell_type": "markdown",
   "metadata": {},
   "source": [
    "上のセルで解答を作成した後、以下のセルを実行し、実行結果が `True` になることを確認してください。"
   ]
  },
  {
   "cell_type": "code",
   "execution_count": null,
   "metadata": {
    "tags": [
     "raises-exception"
    ]
   },
   "outputs": [],
   "source": [
    "print(reverse_totuple([1, 2, 3, 4, 5]) == (5, 4, 3, 2, 1))"
   ]
  },
  {
   "cell_type": "code",
   "execution_count": null,
   "metadata": {},
   "outputs": [],
   "source": [
    "%%inlinetest AutograderTest_ReverseTotuple\n",
    "\n",
    "function_name = \"reverse_totuple\"\n",
    "assert function_name in globals(), f\"Did you define a function named '{function_name}' in the solution cell?\"\n",
    "assert str(reverse_totuple.__class__) == \"<class 'function'>\", f\"Did you define '{function_name}' as a function? There was a {reverse_totuple.__class__} instead\"\n",
    "\n",
    "testcase_pairs = [\n",
    "  ([], ()),\n",
    "  ([0], (0,)),\n",
    "  ([1, 2], (2, 1)),\n",
    "  ([1, 2, 3, 4, 5], (5, 4, 3, 2, 1)),\n",
    "  (list(range(15)), tuple(reversed(range(15)))),\n",
    "]\n",
    "\n",
    "test_helper(reverse_totuple, tuple, testcase_pairs)"
   ]
  },
  {
   "cell_type": "markdown",
   "metadata": {},
   "source": [
    "## 練習\n",
    "整数の要素からなるリスト `ln` を引数として取り、`ln` の要素の総和を返す関数 `sum_list` を作成してください。\n",
    "\n",
    "以下のセルの `...` のところを書き換えて `sum_list(ln)` を作成してください。"
   ]
  },
  {
   "cell_type": "code",
   "execution_count": null,
   "metadata": {},
   "outputs": [],
   "source": [
    "def sum_list(ln):\n",
    "    ..."
   ]
  },
  {
   "cell_type": "markdown",
   "metadata": {},
   "source": [
    "上のセルで解答を作成した後、以下のセルを実行し、実行結果が全て True になることを確認してください。"
   ]
  },
  {
   "cell_type": "code",
   "execution_count": null,
   "metadata": {},
   "outputs": [],
   "source": [
    "print(sum_list([10, 20, 30]) == 60)\n",
    "print(sum_list([-1, 2, -3, 4, -5]) == -3)"
   ]
  },
  {
   "cell_type": "code",
   "execution_count": null,
   "metadata": {},
   "outputs": [],
   "source": [
    "%%inlinetest AutograderTest_SumList\n",
    "\n",
    "function_name = \"sum_list\"\n",
    "assert function_name in globals(), f\"Did you define a function named '{function_name}' in the solution cell?\"\n",
    "assert str(sum_list.__class__) == \"<class 'function'>\", f\"Did you define '{function_name}' as a function? There was a {sum_list.__class__} instead\"\n",
    "\n",
    "\n",
    "testcase_pairs = [\n",
    "  ([], 0),\n",
    "  ([0], 0),\n",
    "  ([1], 1),\n",
    "  ([1, 2, 3], 6),\n",
    "  ([-1, 2, -3, 4, -5], -3),\n",
    "  ([10, 20, 30], 60),\n",
    "  (list(range(100)), sum(range(100))),\n",
    "]\n",
    "\n",
    "test_helper(sum_list, int, testcase_pairs)"
   ]
  },
  {
   "cell_type": "markdown",
   "metadata": {},
   "source": [
    "## 練習\n",
    "\n",
    "ATGCの4種類の文字から成る文字列 `str_atgc` が引数として与えられたとき、次のようなリスト `list_count` を返す関数 `atgc_countlist` を作成してください。ただし、 `list_count` の要素は、各塩基 `bp` に対して `str_atgc` 中の `bp` の出現回数と `bp` の名前を格納した（長さ2の）リストとします。\n",
    "\n",
    "ヒント：文字列 `'ATGC'` に対する繰り返しを用いることができます。\n",
    "\n",
    "以下のセルの `...` のところを書き換えて `atgc_countlist(str_atgc)` を作成してください。"
   ]
  },
  {
   "cell_type": "code",
   "execution_count": null,
   "metadata": {},
   "outputs": [],
   "source": [
    "def atgc_countlist(str_atgc):\n",
    "    ..."
   ]
  },
  {
   "cell_type": "markdown",
   "metadata": {},
   "source": [
    "上のセルで解答を作成した後、以下のセルを実行し、実行結果が `True` になることを確認してください。"
   ]
  },
  {
   "cell_type": "code",
   "execution_count": null,
   "metadata": {
    "tags": [
     "raises-exception"
    ]
   },
   "outputs": [],
   "source": [
    "print(sorted(atgc_countlist('AAGCCCCATGGTAA')) == sorted([[5, 'A'], [2, 'T'], [3, 'G'], [4, 'C']]))"
   ]
  },
  {
   "cell_type": "code",
   "execution_count": null,
   "metadata": {},
   "outputs": [],
   "source": [
    "%%inlinetest AutograderTest_AtgcCountlist\n",
    "\n",
    "function_name = \"atgc_countlist\"\n",
    "assert function_name in globals(), f\"Did you define a function named '{function_name}' in the solution cell?\"\n",
    "assert str(atgc_countlist.__class__) == \"<class 'function'>\", f\"Did you define '{function_name}' as a function? There was a {atgc_countlist.__class__} instead\"\n",
    "\n",
    "\n",
    "testcase_pairs = [\n",
    "  ('', []),\n",
    "  ('A', sorted([[1, 'A']])),\n",
    "  ('B', []),\n",
    "  ('AA', sorted([[2, 'A']])),\n",
    "  ('ACACCC', sorted([[2, 'A'], [4, 'C']])),\n",
    "  ('AAGCCCCATGGTAA', sorted([[5, 'A'], [2, 'T'], [3, 'G'], [4, 'C']])),\n",
    "  ('AAAAACCCCCTTTTTGGGGG', sorted([[5, 'A'], [5, 'C'], [5, 'G'], [5, 'T']])),\n",
    "  ('ABBA', sorted([[2, 'A']])),\n",
    "]\n",
    "\n",
    "test_helper(atgc_countlist, list, testcase_pairs, post_process=lambda x: sorted(x))"
   ]
  },
  {
   "cell_type": "markdown",
   "metadata": {},
   "source": [
    "## 練習の解答"
   ]
  },
  {
   "cell_type": "code",
   "execution_count": null,
   "metadata": {},
   "outputs": [],
   "source": [
    "def remove_evenindex(ln):\n",
    "    ln2 = ln[1::2]\n",
    "    return ln2\n",
    "#remove_evenindex(['a', 'b', 'c', 'd', 'e', 'f', 'g'])"
   ]
  },
  {
   "cell_type": "code",
   "execution_count": null,
   "metadata": {},
   "outputs": [],
   "source": [
    "def count_words(str_engsentences):\n",
    "    list_str1 = str_engsentences.split(' ')\n",
    "    return len(list_str1)\n",
    "#count_words('From Stettin in the Baltic to Trieste in the Adriatic an iron curtain has descended across the Continent.')"
   ]
  },
  {
   "cell_type": "code",
   "execution_count": null,
   "metadata": {},
   "outputs": [],
   "source": [
    "def reverse_totuple(ln):\n",
    "    ln.reverse()\n",
    "    tup = tuple(ln)\n",
    "    return tup\n",
    "#reverse_totuple([1, 2, 3, 4, 5])"
   ]
  },
  {
   "cell_type": "code",
   "execution_count": null,
   "metadata": {},
   "outputs": [],
   "source": [
    "def sum_list(ln):\n",
    "    int_sum = 0\n",
    "    for value in ln:\n",
    "        int_sum += value\n",
    "    return int_sum\n",
    "#sum_list([10, 20, 30])"
   ]
  },
  {
   "cell_type": "code",
   "execution_count": null,
   "metadata": {},
   "outputs": [],
   "source": [
    "def atgc_countlist(str_atgc):\n",
    "    list_count = []\n",
    "    for value in 'ATGC':\n",
    "        int_bpcnt = str_atgc.count(value)\n",
    "        list_count.append([int_bpcnt, value])\n",
    "    return list_count\n",
    "#atgc_countlist('AAGCCCCATGGTAA') "
   ]
  },
  {
   "cell_type": "code",
   "execution_count": null,
   "metadata": {},
   "outputs": [],
   "source": []
  }
 ],
 "metadata": {
  "kernelspec": {
   "display_name": "Python 3",
   "language": "python",
   "name": "python3"
  },
  "language_info": {
   "codemirror_mode": {
    "name": "ipython",
    "version": 3
   },
   "file_extension": ".py",
   "mimetype": "text/x-python",
   "name": "python",
   "nbconvert_exporter": "python",
   "pygments_lexer": "ipython3",
   "version": "3.6.7"
  }
 },
 "nbformat": 4,
 "nbformat_minor": 2
}