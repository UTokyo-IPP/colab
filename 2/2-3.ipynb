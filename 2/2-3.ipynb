{
 "cells": [
  {
   "cell_type": "code",
   "execution_count": null,
   "metadata": {
    "pycharm": {
     "name": "#%%\n"
    }
   },
   "outputs": [],
   "source": [
    "# MASTER ONLY\n",
    "\n",
    "%load_ext prog_edu_assistant_tools.magics\n",
    "from prog_edu_assistant_tools.magics import report, autotest"
   ]
  },
  {
   "cell_type": "markdown",
   "metadata": {
    "pycharm": {
     "name": "#%% md\n"
    }
   },
   "source": [
    "```\n",
    "# ASSIGNMENT METADATA\n",
    "assignment_id: \"2-3\"\n",
    "```"
   ]
  },
  {
   "cell_type": "markdown",
   "metadata": {},
   "source": [
    "##  練習\n",
    "関数 `exception3(x,y,z)` の引数は以下の条件を満たすとします。\n",
    "\n",
    "- `x` と `y` と `z` の値は整数です。\n",
    "- `x` と `y` と `z` のうち、2つの値は同じで、もう1つの値は他の2つの値とは異なるとします。\n",
    "\n",
    "その異なる値を返すように、以下のセルの `...` のところを書き換えて `exception3(x,y,z)` を定義してください。"
   ]
  },
  {
   "cell_type": "markdown",
   "metadata": {
    "pycharm": {
     "name": "#%% md\n"
    },
    "tags": [
     "raises-exception"
    ]
   },
   "source": [
    "```\n",
    "# EXERCISE METADATA\n",
    "exercise_id: \"Exception3\"\n",
    "```"
   ]
  },
  {
   "cell_type": "code",
   "execution_count": null,
   "metadata": {
    "pycharm": {
     "name": "#%%\n"
    }
   },
   "outputs": [],
   "source": [
    "%%solution\n",
    "def exception3(x, y, z):\n",
    "    \"\"\" # BEGIN PROMPT\n",
    "    # ... put your program here\n",
    "    \"\"\" # END PROMPT\n",
    "    # BEGIN SOLUTION\n",
    "    if x == y:\n",
    "        return z\n",
    "    elif x == z:\n",
    "        return y\n",
    "    else:\n",
    "        return x\n",
    "    # END SOLUTION"
   ]
  },
  {
   "cell_type": "markdown",
   "metadata": {
    "pycharm": {
     "name": "#%% md\n"
    }
   },
   "source": [
    "次のセルで動作を確認してください。"
   ]
  },
  {
   "cell_type": "code",
   "execution_count": null,
   "metadata": {
    "pycharm": {
     "name": "#%%\n"
    }
   },
   "outputs": [],
   "source": [
    "%%studenttest StudentTest_Exception3\n",
    "assert exception3(1, 2, 2) == 1\n",
    "print('Input: 1, 2, 2', 'Expected: 1', 'Your answer: ', exception3(1,2,2))"
   ]
  },
  {
   "cell_type": "code",
   "execution_count": null,
   "metadata": {
    "tags": [
     "raises-exception"
    ]
   },
   "outputs": [],
   "source": [
    "%%inlinetest AutograderTest_Exception3\n",
    "assert 'exception3' in globals(), \"Did you define a function named 'exception3' in the solution cell?\"\n",
    "assert str(exception3.__class__) == \"<class 'function'>\", \"Did you define a function named 'exception3'? There was a %s instead\" % exception3.__class__\n",
    "\n",
    "x, y, z = 1, 2, 2\n",
    "expected = 1\n",
    "assert exception3(x, y, z) is not None, \"Did you return something? We got None.\"\n",
    "assert exception3(x, y, z) == expected, f\"WRONG ANSWER - Input: {x}, {y}, {z} Expected: {expected} Your answer: {exception3(x, y, z)}\"\n",
    "x, y, z = 4, 2, 4\n",
    "expected = 2\n",
    "assert exception3(x, y, z) == expected, f\"WRONG ANSWER - Input: {x}, {y}, {z} Expected: {expected} Your answer: {exception3(x, y, z)}\"\n",
    "x, y, z = 9, 3, 9\n",
    "expected = 3\n",
    "assert exception3(x, y, z) == expected, f\"WRONG ANSWER - Input: {x}, {y}, {z} Expected: {expected} Your answer: {exception3(x, y, z)}\""
   ]
  },
  {
   "cell_type": "code",
   "execution_count": null,
   "metadata": {
    "pycharm": {
     "name": "#%%\n"
    },
    "slideshow": {
     "slide_type": "slide"
    }
   },
   "outputs": [],
   "source": [
    "# Test the canonical submission with autograder test\n",
    "result, log = %autotest AutograderTest_Exception3\n",
    "report(AutograderTest_Exception3, results=result.results)"
   ]
  },
  {
   "cell_type": "code",
   "execution_count": null,
   "metadata": {},
   "outputs": [],
   "source": [
    "%%submission\n",
    "# Incorrect submission\n",
    "def exception3(x,y,z):\n",
    "    return x"
   ]
  },
  {
   "cell_type": "code",
   "execution_count": null,
   "metadata": {
    "pycharm": {
     "name": "#%%\n"
    }
   },
   "outputs": [],
   "source": [
    "# Test the incorrect submission against an autograder test\n",
    "result, log = %autotest AutograderTest_Exception3\n",
    "print(result.results)\n",
    "assert not result.results['passed']\n",
    "assert 'WRONG ANSWER' in str(result.results['error'])\n",
    "report(AutograderTest_Exception3, results=result.results)"
   ]
  },
  {
   "cell_type": "markdown",
   "metadata": {
    "pycharm": {
     "name": "#%% md\n"
    }
   },
   "source": [
    "## 練習\n",
    "関数 `exception9(a)` の引数は以下の条件を満たすとします。\n",
    "\n",
    "- 引数 `a` には、長さが9のリストが渡されます。\n",
    "- このリストの要素は整数ですが、一つの要素を除いて、残りは要素の値はすべて同じとします。\n",
    "\n",
    "その一つの要素の値を返すように、以下のセルの `...` のところを書き換えて `exception9(a)` を定義してください。"
   ]
  },
  {
   "cell_type": "markdown",
   "metadata": {
    "pycharm": {
     "name": "#%% md\n"
    }
   },
   "source": [
    "```\n",
    "# EXERCISE METADATA\n",
    "exercise_id: \"Exception9\"\n",
    "```"
   ]
  },
  {
   "cell_type": "code",
   "execution_count": null,
   "metadata": {},
   "outputs": [],
   "source": [
    "# EXERCISE CONTEXT\n",
    "# The solution of exception9 depends on exception3.\n",
    "# This cell will not be visible to students. It is only needed for enabling stand-alone autograder tests.\n",
    "def exception3(x, y, z):\n",
    "    if x == y:\n",
    "        return z\n",
    "    elif x == z:\n",
    "        return y\n",
    "    else:\n",
    "        return x"
   ]
  },
  {
   "cell_type": "code",
   "execution_count": null,
   "metadata": {
    "pycharm": {
     "name": "#%%\n"
    }
   },
   "outputs": [],
   "source": [
    "%%solution\n",
    "def exception9(a):\n",
    "    \"\"\" # BEGIN PROMPT\n",
    "    # ... put your program here\n",
    "    \"\"\" # END PROMPT\n",
    "    # BEGIN SOLUTION\n",
    "    x = a[0] + a[1] + a[2]\n",
    "    y = a[3] + a[4] + a[5]\n",
    "    z = a[6] + a[7] + a[8]\n",
    "    if x == y:\n",
    "        return exception3(a[6], a[7], a[8])\n",
    "    elif x == z:\n",
    "        return exception3(a[3], a[4], a[5])\n",
    "    else:\n",
    "        return exception3(a[0], a[1], a[2])\n",
    "    # END SOLUTION"
   ]
  },
  {
   "cell_type": "markdown",
   "metadata": {
    "pycharm": {
     "name": "#%% md\n"
    }
   },
   "source": [
    "次のセルで動作を確認してください。"
   ]
  },
  {
   "cell_type": "code",
   "execution_count": null,
   "metadata": {
    "pycharm": {
     "name": "#%%\n"
    }
   },
   "outputs": [],
   "source": [
    "%%studenttest StudentTest_Exception9\n",
    "assert exception9([1, 2, 2, 2, 2, 2, 2, 2, 2]) == 1\n",
    "print('Input: [1, 2, 2, 2, 2, 2, 2, 2, 2]', 'Expected: 1', 'Your answer: ', exception9([1, 2, 2, 2, 2, 2, 2, 2, 2]))"
   ]
  },
  {
   "cell_type": "code",
   "execution_count": null,
   "metadata": {
    "pycharm": {
     "name": "#%%\n"
    }
   },
   "outputs": [],
   "source": [
    "%%inlinetest AutograderTest_Exception9\n",
    "assert 'exception9' in globals(), \"Did you define a function named 'exception9' in the solution cell?\"\n",
    "assert str(exception9.__class__) == \"<class 'function'>\", \"Did you define a function named 'exception9'? There was a %s instead\" % exception3.__class__\n",
    "\n",
    "a = [1, 2, 2, 2, 2, 2, 2, 2, 2]\n",
    "expected = 1\n",
    "assert exception9(a) is not None, \"Did you return something? We got None.\"\n",
    "assert exception9(a) == expected, f\"WRONG ANSWER - Input: {a} Expected: {expected} Your answer: {exception9(a)}\"\n",
    "a = [4, 4, 4, 4, 4, 2, 4, 4, 4]\n",
    "expected = 2\n",
    "assert exception9(a) == expected, f\"WRONG ANSWER - Input: {a} Expected: {expected} Your answer: {exception9(a)}\"\n",
    "a = [9, 9, 9, 9, 9, 9, 9, 9, 3]\n",
    "expected = 3\n",
    "assert exception9(a) == expected, f\"WRONG ANSWER - Input: {a} Expected: {expected} Your answer: {exception9(a)}\""
   ]
  },
  {
   "cell_type": "code",
   "execution_count": null,
   "metadata": {
    "pycharm": {
     "name": "#%%\n"
    }
   },
   "outputs": [],
   "source": [
    "result, log = %autotest AutograderTest_Exception9\n",
    "assert result.results['passed']\n",
    "report(AutograderTest_Exception9, results=result.results)"
   ]
  },
  {
   "cell_type": "code",
   "execution_count": null,
   "metadata": {
    "pycharm": {
     "name": "#%%\n"
    }
   },
   "outputs": [],
   "source": [
    "%%submission\n",
    "# Incorrect submission\n",
    "def exception9(a):\n",
    "    return exception3(a[0], a[1], a[2])"
   ]
  },
  {
   "cell_type": "code",
   "execution_count": null,
   "metadata": {
    "pycharm": {
     "name": "#%%\n"
    }
   },
   "outputs": [],
   "source": [
    "# Test the incorrect submission against an autograder test\n",
    "result, log = %autotest AutograderTest_Exception9\n",
    "print(result.results)\n",
    "assert not result.results['passed']\n",
    "assert 'WRONG ANSWER' in str(result.results['error'])\n",
    "report(AutograderTest_Exception9, results=result.results)"
   ]
  },
  {
   "cell_type": "markdown",
   "metadata": {},
   "source": [
    "## 練習\n",
    "以下のプログラムはプログラマの意図どおりに動作しません。\n",
    "`print` の出力内容から意図を判断して条件分岐を書き換えてください。"
   ]
  },
  {
   "cell_type": "markdown",
   "metadata": {},
   "source": [
    "```\n",
    "# EXERCISE METADATA\n",
    "exercise_id: \"correct_if_statements\"\n",
    "```"
   ]
  },
  {
   "cell_type": "code",
   "execution_count": null,
   "metadata": {
    "pycharm": {
     "name": "#%%\n"
    }
   },
   "outputs": [],
   "source": [
    "%%solution\n",
    "def evaluate_x(x):\n",
    "    \"\"\" # BEGIN PROMPT\n",
    "    # Rewrite this program\n",
    "    x = -1\n",
    "    if x < 3:\n",
    "        return 'x is larger than or equal to 2, and less than 3'\n",
    "    elif x < 2:\n",
    "        return 'x is larger than or equal to 1, and less than 2'\n",
    "    elif x < 1:\n",
    "        return 'x is less than 1'\n",
    "    else:\n",
    "        return 'x is larger or equal to 3'\n",
    "    \"\"\" # END PROMPT\n",
    "    # BEGIN SOLUTION\n",
    "    if x < 1:\n",
    "        return 'x is less than 1'\n",
    "    elif x < 2:\n",
    "        return 'x is larger or equal to 1, and less than 2'\n",
    "    elif x < 3:\n",
    "        return 'x is larger or equal to 2, and less than 3'\n",
    "    else:\n",
    "        return 'x is larger or equal to 3'\n",
    "    # END SOLUTION"
   ]
  },
  {
   "cell_type": "code",
   "execution_count": null,
   "metadata": {
    "pycharm": {
     "name": "#%%\n"
    }
   },
   "outputs": [],
   "source": [
    "%%studenttest StudentTest_Correct_If_Statements\n",
    "assert evaluate_x(-1) == 'x is less than 1'\n",
    "print('Input: -1', 'Expected: x is less than 1', 'Your answer: ', evaluate_x(-1))"
   ]
  },
  {
   "cell_type": "code",
   "execution_count": null,
   "metadata": {
    "pycharm": {
     "name": "#%%\n"
    }
   },
   "outputs": [],
   "source": [
    "%%inlinetest AutograderTest_Correct_If_Statements\n",
    "assert 'evaluate_x' in globals(), \"Did you define a function named 'evaluate_x' in the solution cell?\"\n",
    "assert str(evaluate_x.__class__) == \"<class 'function'>\", \"Did you define a function named 'evaluate_x'? There was a %s instead\" % exception3.__class__\n",
    "assert evaluate_x(-1) is not None, \"Did you return something? We got None.\"\n",
    "\n",
    "x = -1\n",
    "expected = 'x is less than 1'\n",
    "assert evaluate_x(x) == expected, f\"WRONG ANSWER - Input: {x} Expected: {expected} Your answer: {evaluate_x(x)}\"\n",
    "x = 1\n",
    "expected = 'x is larger or equal to 1, and less than 2'\n",
    "assert evaluate_x(x) == expected, f\"WRONG ANSWER - Input: {x} Expected: {expected} Your answer: {evaluate_x(x)}\"\n",
    "x = 2\n",
    "expected = 'x is larger or equal to 2, and less than 3'\n",
    "assert evaluate_x(x) == expected, f\"WRONG ANSWER - Input: {x} Expected: {expected} Your answer: {evaluate_x(x)}\"\n",
    "x = 3\n",
    "expected = 'x is larger or equal to 3'"
   ]
  },
  {
   "cell_type": "code",
   "execution_count": null,
   "metadata": {
    "pycharm": {
     "name": "#%%\n"
    }
   },
   "outputs": [],
   "source": [
    "result, log = %autotest AutograderTest_Correct_If_Statements\n",
    "assert result.results['passed']\n",
    "report(AutograderTest_Correct_If_Statements, results=result.results)"
   ]
  },
  {
   "cell_type": "code",
   "execution_count": null,
   "metadata": {
    "pycharm": {
     "name": "#%%\n"
    }
   },
   "outputs": [],
   "source": [
    "%%submission\n",
    "# Incorrect submission\n",
    "def evaluate_x(x):\n",
    "    x = -1\n",
    "    if x < 3:\n",
    "        return 'x is larger than or equal to 2, and less than 3'\n",
    "    elif x < 2:\n",
    "        return 'x is larger than or equal to 1, and less than 2'\n",
    "    elif x < 1:\n",
    "        return 'x is less than 1'\n",
    "    else:\n",
    "        return 'x is larger or equal to 3'"
   ]
  },
  {
   "cell_type": "code",
   "execution_count": null,
   "metadata": {
    "pycharm": {
     "name": "#%%\n"
    }
   },
   "outputs": [],
   "source": [
    "# Test the incorrect submission against an autograder test\n",
    "result, log = %autotest AutograderTest_Correct_If_Statements\n",
    "print(result.results)\n",
    "assert not result.results['passed']\n",
    "assert 'WRONG ANSWER' in str(result.results['error'])\n",
    "report(AutograderTest_Correct_If_Statements, results=result.results)"
   ]
  },
  {
   "cell_type": "markdown",
   "metadata": {},
   "source": [
    "## 練習の解説\n",
    "最後の練習では、条件文の順番を修正する必要があります。\n",
    "条件は上から順に処理され、式が真の場合にその「直後の実行文グループのみ」が処理されます。"
   ]
  },
  {
   "cell_type": "code",
   "execution_count": null,
   "metadata": {},
   "outputs": [],
   "source": [
    "def exception3(x, y, z):\n",
    "    if x == y:\n",
    "        return z\n",
    "    elif x == z:\n",
    "        return y\n",
    "    else:\n",
    "        return x"
   ]
  },
  {
   "cell_type": "code",
   "execution_count": null,
   "metadata": {},
   "outputs": [],
   "source": [
    "def exception9(a):\n",
    "    x = a[0] + a[1] + a[2]\n",
    "    y = a[3] + a[4] + a[5]\n",
    "    z = a[6] + a[7] + a[8]\n",
    "    if x == y:\n",
    "        return exception3(a[6], a[7], a[8])\n",
    "    elif x == z:\n",
    "        return exception3(a[3], a[4], a[5])\n",
    "    else:\n",
    "        return exception3(a[0], a[1], a[2])"
   ]
  },
  {
   "cell_type": "code",
   "execution_count": null,
   "metadata": {},
   "outputs": [],
   "source": [
    "def evaluate_x(x):    \n",
    "    if x < 1:\n",
    "        return 'x is less than 1'\n",
    "    elif x < 2:\n",
    "        return 'x is larger or equal to 1, and less than 2'\n",
    "    elif x < 3:\n",
    "        return 'x is larger or equal to 2, and less than 3'\n",
    "    else:\n",
    "        return 'x is larger or equal to 3'"
   ]
  }
 ],
 "metadata": {
  "kernelspec": {
   "display_name": "Python 3",
   "language": "python",
   "name": "python3"
  },
  "language_info": {
   "codemirror_mode": {
    "name": "ipython",
    "version": 3
   },
   "file_extension": ".py",
   "mimetype": "text/x-python",
   "name": "python",
   "nbconvert_exporter": "python",
   "pygments_lexer": "ipython3",
   "version": "3.7.3"
  },
  "pycharm": {
   "stem_cell": {
    "cell_type": "raw",
    "metadata": {
     "collapsed": false
    },
    "source": []
   }
  }
 },
 "nbformat": 4,
 "nbformat_minor": 2
}
