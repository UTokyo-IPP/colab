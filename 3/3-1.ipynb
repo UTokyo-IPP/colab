{
 "cells": [
  {
   "cell_type": "code",
   "execution_count": null,
   "metadata": {},
   "outputs": [],
   "source": [
    "# MASTER ONLY\n",
    "\n",
    "%load_ext prog_edu_assistant_tools.magics\n",
    "from prog_edu_assistant_tools.magics import report, autotest"
   ]
  },
  {
   "cell_type": "markdown",
   "metadata": {},
   "source": [
    "```\n",
    "# ASSIGNMENT METADATA\n",
    "assignment_id: \"3-1\"\n",
    "```\n",
    "## 練習1\n",
    "\n",
    "リスト `list1` が引数として与えられたとき、`list1` の各要素 `value` をキー、` value` の `list1` におけるインデックスをキーに対応する値とした辞書を返す関数 `reverse_lookup` を作成してください。\n",
    "\n",
    "以下のセルの `...` のところを書き換えて `reverse_lookup(list1)` を作成してください。\n",
    "\n",
    "```\n",
    "# EXERCISE METADATA\n",
    "exercise_id: \"ReverseLookup\"\n",
    "```"
   ]
  },
  {
   "cell_type": "code",
   "execution_count": null,
   "metadata": {},
   "outputs": [],
   "source": [
    "%%solution\n",
    "def reverse_lookup(list1):\n",
    "    # BEGIN SOLUTION\n",
    "    dic1 = {}  # 空の辞書を作成する\n",
    "    for value in list1:\n",
    "        dic1[value] = list1.index(value)\n",
    "    return dic1\n",
    "    # END SOLUTION"
   ]
  },
  {
   "cell_type": "markdown",
   "metadata": {},
   "source": [
    "上のセルで解答を作成した後、以下のセルを実行し、実行結果が `True` になることを確認してください。"
   ]
  },
  {
   "cell_type": "code",
   "execution_count": null,
   "metadata": {},
   "outputs": [],
   "source": [
    "%%studenttest StudentTest_ReverseLookup\n",
    "assert reverse_lookup(['apple', 'pen', 'orange']) == {'apple': 0, 'orange': 2, 'pen': 1}"
   ]
  },
  {
   "cell_type": "code",
   "execution_count": null,
   "metadata": {},
   "outputs": [],
   "source": [
    "%%inlinetest AutograderTest_ReverseLookup\n",
    "\n",
    "assert 'reverse_lookup' in globals(), \"Did you define a function named 'reverse_lookup' in the solution cell?\"\n",
    "assert str(reverse_lookup.__class__) == \"<class 'function'>\", f\"Did you define a function named 'reverse_lookup'? There was a {reverse_lookup.__class__} instead\"\n",
    "\n",
    "test_lst_large = list(range(100))\n",
    "test_dict_large = {x: x for x in range(100)}\n",
    "\n",
    "testcase_pairs = [ \n",
    "    # (test_input, expected_result)\n",
    "    ([], {}),\n",
    "    ([0], {0: 0}),\n",
    "    ([0, 1], {0: 0, 1: 1}),\n",
    "    (['apple', 'pen', 'orange'], {'apple': 0, 'pen': 1, 'orange': 2}),\n",
    "    (['私', 'あなた', 'みんな'], {'私': 0, 'あなた': 1, 'みんな': 2}),\n",
    "    (test_lst_large, test_dict_large),\n",
    "]\n",
    "\n",
    "for test_input, expected_result in testcase_pairs:\n",
    "    actual_result = reverse_lookup(test_input)\n",
    "    assert actual_result is not None, f\"Did you return a value from the function? Got {actual_result}\"\n",
    "    assert isinstance(actual_result, dict), f\"Did you return a dictionary? Got {actual_result.__class__}\"\n",
    "    assert actual_result == expected_result, f\"Expected {expected_result}, received {actual_result} instead.\""
   ]
  },
  {
   "cell_type": "code",
   "execution_count": null,
   "metadata": {},
   "outputs": [],
   "source": [
    "# Test the canonical submission with autograder test\n",
    "result, log = %autotest AutograderTest_ReverseLookup\n",
    "assert result.results['passed']\n",
    "report(AutograderTest_ReverseLookup, results=result.results)"
   ]
  },
  {
   "cell_type": "markdown",
   "metadata": {},
   "source": [
    "## 練習2\n",
    "\n",
    "辞書 `dic1` と文字列 `str1` が引数として与えられたとき、\n",
    "以下のように `dic1` を変更する関数 `handle_collision` を作成してください。\n",
    "ただし、`dic1` のキーは整数、キーに対応する値は文字列を要素とするリストとします。\n",
    "\n",
    "1. `dic1` に `str1` の長さ `n` がキーとして登録されていない場合、`str1` のみを要素とするリスト `ls` を作成し、 `dic1` にキー `n`、`n` に対応する値 `ls` を登録します。\n",
    "2. `dic1` に `str1` の長さ `n` がキーとして登録されている場合、そのキーに対応する値（リスト）に `str1` を追加します。\n",
    "\n",
    "以下のセルの `...` のところを書き換えて `handle_collision(dic1, str1)` を作成してください。\n",
    "\n",
    "```\n",
    "# EXERCISE METADATA\n",
    "exercise_id: \"HandleCollision\"\n",
    "```"
   ]
  },
  {
   "cell_type": "code",
   "execution_count": null,
   "metadata": {
    "tags": []
   },
   "outputs": [],
   "source": [
    "%%solution\n",
    "def handle_collision(dic1, str1):\n",
    "    # BEGIN SOLUTION\n",
    "    if dic1.get(len(str1)) is None:\n",
    "        ls = [str1]\n",
    "    else:\n",
    "        ls = dic1[len(str1)]\n",
    "        ls.append(str1)\n",
    "    dic1[len(str1)] = ls\n",
    "    # END SOLUTION"
   ]
  },
  {
   "cell_type": "markdown",
   "metadata": {},
   "source": [
    "上のセルで解答を作成した後、以下のセルを実行し、実行結果が `True` になることを確認してください。"
   ]
  },
  {
   "cell_type": "code",
   "execution_count": null,
   "metadata": {},
   "outputs": [],
   "source": [
    "%%studenttest StudentTest_HandleCollision\n",
    "dic1_orig = {3: ['ham', 'egg'], 6: ['coffee', 'brandy'], 9: ['port wine'], 15: ['curried chicken']}\n",
    "dic1_result = {3: ['ham', 'egg', 'tea'], 6: ['coffee', 'brandy'], 9: ['port wine'], 15: ['curried chicken']}\n",
    "handle_collision(dic1_orig, 'tea')\n",
    "print(dic1_orig == dic1_result)"
   ]
  },
  {
   "cell_type": "code",
   "execution_count": null,
   "metadata": {
    "tags": []
   },
   "outputs": [],
   "source": [
    "%%inlinetest AutograderTest_HandleCollision\n",
    "\n",
    "assert 'handle_collision' in globals(), \"Did you define a function named 'handle_collision' in the solution cell?\"\n",
    "assert str(handle_collision.__class__) == \"<class 'function'>\", f\"Did you define a function named 'handle_collision'? There was a {handle_collision.__class__} instead\"\n",
    " \n",
    "testcase_pairs = [ \n",
    "    # ([input1, input2, ...], [expected_state1, expected_state2...])\n",
    "    (['ham', 'egg', 'coffee', 'brandy', 'port_wine', 'curried chicken'], \n",
    "    [\n",
    "        {3: ['ham']},\n",
    "        {3: ['ham', 'egg']},\n",
    "        {3: ['ham', 'egg'], 6: ['coffee']},\n",
    "        {3: ['ham', 'egg'], 6: ['coffee', 'brandy']},\n",
    "        {3: ['ham', 'egg'], 6: ['coffee', 'brandy'], 9: ['port_wine']},\n",
    "        {3: ['ham', 'egg'], 6: ['coffee', 'brandy'], 9: ['port_wine'], 15: ['curried chicken']},\n",
    "    ]),\n",
    "    (['林檎', 'レモン', 'イチゴ', 'オレンジ', 'ブルーベリー', 'ラズベリー', 'チェリー'],\n",
    "    [\n",
    "        {2: ['林檎']},\n",
    "        {2: ['林檎'], 3: ['レモン']},\n",
    "        {2: ['林檎'], 3: ['レモン', 'イチゴ']},\n",
    "        {2: ['林檎'], 3: ['レモン', 'イチゴ'], 4: ['オレンジ']},\n",
    "        {2: ['林檎'], 3: ['レモン', 'イチゴ'], 4: ['オレンジ'], 6: ['ブルーベリー']},\n",
    "        {2: ['林檎'], 3: ['レモン', 'イチゴ'], 4: ['オレンジ'], 5: ['ラズベリー'], 6: ['ブルーベリー']},\n",
    "        {2: ['林檎'], 3: ['レモン', 'イチゴ'], 4: ['オレンジ', 'チェリー'], 5: ['ラズベリー'], 6: ['ブルーベリー']},\n",
    "    ]),\n",
    "]\n",
    "\n",
    "for test_inputs, expected_states in testcase_pairs:\n",
    "    actual_state = {}\n",
    "    for test_input, expected_state in zip(test_inputs, expected_states):\n",
    "        handle_collision(actual_state, test_input)\n",
    "        assert actual_state == expected_state , f\"Expected {expected_state}, received {actual_state} instead.\""
   ]
  },
  {
   "cell_type": "code",
   "execution_count": null,
   "metadata": {},
   "outputs": [],
   "source": [
    "result, log = %autotest AutograderTest_HandleCollision\n",
    "assert result.results['passed']\n",
    "report(AutograderTest_HandleCollision, results=result.results)"
   ]
  },
  {
   "cell_type": "markdown",
   "metadata": {},
   "source": [
    "## 練習の解答"
   ]
  },
  {
   "cell_type": "code",
   "execution_count": null,
   "metadata": {},
   "outputs": [],
   "source": [
    "def reverse_lookup(list1):\n",
    "    dic1 = {}  # 空の辞書を作成する\n",
    "    for value in list1:\n",
    "        dic1[value] = list1.index(value)\n",
    "    return dic1"
   ]
  },
  {
   "cell_type": "code",
   "execution_count": null,
   "metadata": {
    "tags": []
   },
   "outputs": [],
   "source": [
    "def handle_collision(dic1, str1):\n",
    "    if dic1.get(len(str1)) is None:\n",
    "        ls = [str1]\n",
    "    else:\n",
    "        ls = dic1[len(str1)]\n",
    "        ls.append(str1)\n",
    "    dic1[len(str1)] = ls"
   ]
  }
 ],
 "metadata": {
  "kernelspec": {
   "display_name": "Python 3",
   "language": "python",
   "name": "python3"
  },
  "language_info": {
   "codemirror_mode": {
    "name": "ipython",
    "version": 3
   },
   "file_extension": ".py",
   "mimetype": "text/x-python",
   "name": "python",
   "nbconvert_exporter": "python",
   "pygments_lexer": "ipython3",
   "version": "3.7.3"
  }
 },
 "nbformat": 4,
 "nbformat_minor": 2
}
