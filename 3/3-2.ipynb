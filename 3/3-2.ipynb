{
 "cells": [
  {
   "cell_type": "code",
   "execution_count": null,
   "metadata": {},
   "outputs": [],
   "source": [
    "# MASTER ONLY\n",
    "\n",
    "%load_ext prog_edu_assistant_tools.magics\n",
    "from prog_edu_assistant_tools.magics import report, autotest"
   ]
  },
  {
   "cell_type": "markdown",
   "metadata": {},
   "source": [
    "```\n",
    "# ASSIGNMENT METADATA\n",
    "assignment_id: \"3-2\"\n",
    "```\n",
    "\n",
    "## 練習\n",
    "\n",
    "辞書 `dic1` が引数として与えられたとき、次のような辞書 `dic2` を返す関数 `reverse_lookup2` を作成してください。ただし、 `dic1` のキー `key` の値が `value` である場合、 `dic2` には `value` というキーが登録されており、その値は `key` であるとします。また、 `dic1` は異なる2つのキーに対応する値は必ず異なるとします。\n",
    "\n",
    "以下のセルの `...` のところを書き換えて `reverse_lookup2` を作成してください。\n",
    "\n",
    "```\n",
    "# EXERCISE METADATA\n",
    "exercise_id: \"ReverseLookup2\"\n",
    "```"
   ]
  },
  {
   "cell_type": "code",
   "execution_count": null,
   "metadata": {},
   "outputs": [],
   "source": [
    "%%solution\n",
    "def reverse_lookup2(dic1):\n",
    "    # BEGIN SOLUTION\n",
    "    return {v: k for k, v in dic1.items()}\n",
    "    # END SOLUTION"
   ]
  },
  {
   "cell_type": "markdown",
   "metadata": {},
   "source": [
    "上のセルで解答を作成した後、以下のセルを実行し、実行結果が `True` になることを確認してください。"
   ]
  },
  {
   "cell_type": "code",
   "execution_count": null,
   "metadata": {
    "tags": [
     "raises-exception"
    ]
   },
   "outputs": [],
   "source": [
    "print(reverse_lookup2({'apple': 3, 'pen': 5, 'orange': 7}) == {3: 'apple', 5: 'pen', 7: 'orange'})"
   ]
  },
  {
   "cell_type": "code",
   "execution_count": null,
   "metadata": {},
   "outputs": [],
   "source": [
    "%%inlinetest AutograderTest_ReverseLookup2\n",
    "\n",
    "assert 'reverse_lookup2' in globals(), \"Did you define a function named 'reverse_lookup2' in the solution cell?\"\n",
    "assert str(reverse_lookup2.__class__) == \"<class 'function'>\", f\"Did you define a function named 'reverse_lookup2'? There was a {reverse_lookup2.__class__} instead\"\n",
    "\n",
    "assert reverse_lookup2({}) is not None, \"Did you forget to return a value?\"\n",
    "assert reverse_lookup2({1: 2}) != {1: 2}, \"Did you reverse key and value?\"\n",
    "assert reverse_lookup2({1: 2}) == {2: 1}, \"Did you reverse key and value?\"\n",
    "assert reverse_lookup2({'apple': 3, 'pen': 5, 'orange': 7}) == {3: 'apple', 5: 'pen', 7: 'orange'}, \"Did you try dictionaries with multiple elements?\""
   ]
  },
  {
   "cell_type": "code",
   "execution_count": null,
   "metadata": {},
   "outputs": [],
   "source": [
    "# Test the second canonical submission with autograder test\n",
    "result, log = %autotest AutograderTest_ReverseLookup2\n",
    "print(result.results)\n",
    "assert result.results['passed']\n",
    "report(AutograderTest_ReverseLookup2, results=result.results)"
   ]
  },
  {
   "cell_type": "code",
   "execution_count": null,
   "metadata": {},
   "outputs": [],
   "source": [
    "%%submission\n",
    "def reverse_lookup2(dic1):\n",
    "    dic2 = {}  #辞書を初期化する\n",
    "    for key, value in dic1.items():\n",
    "        dic2[value] = key\n",
    "    return dic2"
   ]
  },
  {
   "cell_type": "code",
   "execution_count": null,
   "metadata": {},
   "outputs": [],
   "source": [
    "# Test the second canonical submission with autograder test\n",
    "result, log = %autotest AutograderTest_ReverseLookup2\n",
    "assert result.results['passed']\n",
    "report(AutograderTest_ReverseLookup2, results=result.results)"
   ]
  },
  {
   "cell_type": "code",
   "execution_count": null,
   "metadata": {},
   "outputs": [],
   "source": [
    "%%submission\n",
    "def reverse_lookup2(dic):\n",
    "    pass"
   ]
  },
  {
   "cell_type": "code",
   "execution_count": null,
   "metadata": {},
   "outputs": [],
   "source": [
    "result, log = %autotest AutograderTest_ReverseLookup2\n",
    "assert not result.results['passed']\n",
    "report(AutograderTest_ReverseLookup2, results=result.results)"
   ]
  },
  {
   "cell_type": "code",
   "execution_count": null,
   "metadata": {},
   "outputs": [],
   "source": [
    "%%submission\n",
    "def reverse_lookup2(dic):\n",
    "    return dic"
   ]
  },
  {
   "cell_type": "code",
   "execution_count": null,
   "metadata": {},
   "outputs": [],
   "source": [
    "result, log = %autotest AutograderTest_ReverseLookup2\n",
    "assert not result.results['passed']\n",
    "report(AutograderTest_ReverseLookup2, results=result.results)"
   ]
  },
  {
   "cell_type": "code",
   "execution_count": null,
   "metadata": {},
   "outputs": [],
   "source": [
    "%%submission\n",
    "def reverse_lookup2(dic):\n",
    "    for k in dic:\n",
    "        dic[dic[k]] = k\n",
    "    return dic"
   ]
  },
  {
   "cell_type": "code",
   "execution_count": null,
   "metadata": {},
   "outputs": [],
   "source": [
    "result, log = %autotest AutograderTest_ReverseLookup2\n",
    "assert not result.results['passed']\n",
    "report(AutograderTest_ReverseLookup2, results=result.results)"
   ]
  },
  {
   "cell_type": "markdown",
   "metadata": {
    "slideshow": {
     "slide_type": "slide"
    }
   },
   "source": [
    "## 練習\n",
    "引数で与えられる2つの整数 `x`, `y` 間（`x`, `y` を含む）の整数の総和を返す関数 `sum_n` を for文を利用して作成してください。\n",
    "たとえば、`sum_n(1,3)`の結果は `1 + 2 + 3 = 6` となります。\n",
    "\n",
    "以下のセルの `...` のところを書き換えて `sum_n` を作成してください。\n",
    "\n",
    "```\n",
    "# EXERCISE METADATA\n",
    "exercise_id: \"SumN\"\n",
    "```"
   ]
  },
  {
   "cell_type": "code",
   "execution_count": null,
   "metadata": {},
   "outputs": [],
   "source": [
    "%%solution\n",
    "def sum_n(x, y):\n",
    "    # BEGIN SOLUTION\n",
    "    s = 0\n",
    "    for k in range(min(x,y), max(x,y)+1):\n",
    "        s += k\n",
    "    return s\n",
    "    # END SOLUTION"
   ]
  },
  {
   "cell_type": "markdown",
   "metadata": {},
   "source": [
    "上のセルで解答を作成した後、以下のセルを実行し、実行結果が `True` になることを確認してください。"
   ]
  },
  {
   "cell_type": "code",
   "execution_count": null,
   "metadata": {
    "tags": [
     "raises-exception"
    ]
   },
   "outputs": [],
   "source": [
    "print(sum_n(1, 3) == 6)"
   ]
  },
  {
   "cell_type": "code",
   "execution_count": null,
   "metadata": {},
   "outputs": [],
   "source": [
    "%%inlinetest AutograderTest_SumN\n",
    "\n",
    "assert 'sum_n' in globals(), \"Did you define a function named 'sum_n' in the solution cell?\"\n",
    "assert str(sum_n.__class__) == \"<class 'function'>\", f\"Did you define a function named 'sum_n'? There was a {sum_n.__class__} instead\"\n",
    "\n",
    "assert sum_n(1, 2) != 1, \"Did you forget to include y into the iteration range?\"\n",
    "assert sum_n(1, 2) != 2, \"Did you forget to include x into the iteration range?\"\n",
    "assert sum_n(1, 1) == 1, \"Did you handled x == y case correctly?\"\n",
    "assert sum_n(1, 2) == 3, f\"Did you sum up all numbers? Expected sum_n(1,2) to be 3, got {sum_n(1,2)}\"\n",
    "assert sum_n(1, 10) == 55, f\"Did you sum up all numbers correctly? Try with sum_n(1, 10)\"\n",
    "\n",
    "assert sum_n(5, 10) == 45, f\"Did you handle the case of x != 1 correctly?\""
   ]
  },
  {
   "cell_type": "code",
   "execution_count": null,
   "metadata": {},
   "outputs": [],
   "source": [
    "# Test the canonical submission with autograder test\n",
    "result, log = %autotest AutograderTest_SumN\n",
    "assert result.results['passed']\n",
    "report(AutograderTest_SumN, results=result.results)"
   ]
  },
  {
   "cell_type": "code",
   "execution_count": null,
   "metadata": {},
   "outputs": [],
   "source": [
    "%%submission\n",
    "def sum_n(x, y):\n",
    "    sum = 0\n",
    "    for i in range(x, y + 1):\n",
    "        sum = sum + i\n",
    "    return sum"
   ]
  },
  {
   "cell_type": "code",
   "execution_count": null,
   "metadata": {},
   "outputs": [],
   "source": [
    "# Test the second canonical submission with autograder test\n",
    "result, log = %autotest AutograderTest_SumN\n",
    "assert result.results['passed']\n",
    "report(AutograderTest_SumN, results=result.results)"
   ]
  },
  {
   "cell_type": "code",
   "execution_count": null,
   "metadata": {},
   "outputs": [],
   "source": [
    "%%submission\n",
    "def sum_n(x, y):\n",
    "    sum = 0\n",
    "    for i in range(1, y+1):\n",
    "        sum = sum + i\n",
    "    return sum"
   ]
  },
  {
   "cell_type": "code",
   "execution_count": null,
   "metadata": {},
   "outputs": [],
   "source": [
    "result, log = %autotest AutograderTest_SumN\n",
    "assert not result.results['passed']\n",
    "report(AutograderTest_SumN, results=result.results)"
   ]
  },
  {
   "cell_type": "code",
   "execution_count": null,
   "metadata": {},
   "outputs": [],
   "source": [
    "%%submission\n",
    "def sum_n(x, y):\n",
    "    sum = 0\n",
    "    for i in range(1, y):\n",
    "        sum = sum + i\n",
    "    return sum"
   ]
  },
  {
   "cell_type": "code",
   "execution_count": null,
   "metadata": {},
   "outputs": [],
   "source": [
    "result, log = %autotest AutograderTest_SumN\n",
    "assert not result.results['passed']\n",
    "report(AutograderTest_SumN, results=result.results)"
   ]
  },
  {
   "cell_type": "markdown",
   "metadata": {},
   "source": [
    "## 練習\n",
    "整数 `int_size` を引数として取り、\n",
    "長さが `int_size` であるリスト `ln` を返す関数 `construct_list` を作成してください。\n",
    "ただし、 `ln` の `i` 番目の要素は `i` とします（`i` は 0 以上 `int_size-1` 以下の整数）。\n",
    "\n",
    "以下のセルの `...` のところを書き換えて `construct_list(int_size)` を作成してください。\n",
    "\n",
    "```\n",
    "# EXERCISE METADATA\n",
    "exercise_id: \"ConstructList\"\n",
    "```"
   ]
  },
  {
   "cell_type": "code",
   "execution_count": null,
   "metadata": {},
   "outputs": [],
   "source": [
    "%%solution\n",
    "def construct_list(int_size):\n",
    "    # BEGIN SOLUTION\n",
    "    return [i for i in range(int_size)]\n",
    "    # END SOLUTION"
   ]
  },
  {
   "cell_type": "markdown",
   "metadata": {},
   "source": [
    "上のセルで解答を作成した後、以下のセルを実行し、実行結果が `True` になることを確認してください。"
   ]
  },
  {
   "cell_type": "code",
   "execution_count": null,
   "metadata": {
    "tags": [
     "raises-exception"
    ]
   },
   "outputs": [],
   "source": [
    "print(construct_list(10) == [0, 1, 2, 3, 4, 5, 6, 7, 8, 9])"
   ]
  },
  {
   "cell_type": "code",
   "execution_count": null,
   "metadata": {},
   "outputs": [],
   "source": [
    "%%inlinetest AutograderTest_ConstructList\n",
    "\n",
    "assert 'construct_list' in globals(), \"Did you define a function named 'construct_list' in the solution cell?\"\n",
    "assert str(construct_list.__class__) == \"<class 'function'>\", f\"Did you define a function named 'construct_list'? There was a {construct_list.__class__} instead\"\n",
    "\n",
    "assert construct_list(2) is not None, \"Did you forget to return a value?\"\n",
    "assert construct_list(2) != [], \"Did you constructed a list? Got an emtpy list instead\"\n",
    "assert construct_list(2) != [1], \"Did you start with 0?\"\n",
    "assert construct_list(2) != [0], \"Did you iterated for int_size steps?\"\n",
    "assert construct_list(2) != [1, 0], \"Did you iterated in correct order?\"\n",
    "assert construct_list(2) == [0, 1], \"Did you iterated over correct elements? Try construct_list(2).\"\n",
    "assert construct_list(10) == [0, 1, 2, 3, 4, 5, 6, 7, 8, 9], \"Did you iterated over correct elements? Try construct_list(2).\"\n",
    "assert len(construct_list(10001)) == 10001, \"Did you iterated over correct number of elements? Try construct_list(10001).\""
   ]
  },
  {
   "cell_type": "code",
   "execution_count": null,
   "metadata": {},
   "outputs": [],
   "source": [
    "# Test the canonical submission with autograder test\n",
    "result, log = %autotest AutograderTest_ConstructList\n",
    "assert result.results['passed']\n",
    "report(AutograderTest_ConstructList, results=result.results)"
   ]
  },
  {
   "cell_type": "code",
   "execution_count": null,
   "metadata": {},
   "outputs": [],
   "source": [
    "%%submission\n",
    "def construct_list(int_size):\n",
    "    ln = int_size * [0]\n",
    "    for i in range(int_size):\n",
    "        ln[i] = i\n",
    "    return ln"
   ]
  },
  {
   "cell_type": "code",
   "execution_count": null,
   "metadata": {},
   "outputs": [],
   "source": [
    "# Test another canonical submission with autograder test\n",
    "result, log = %autotest AutograderTest_ConstructList\n",
    "assert result.results['passed']\n",
    "report(AutograderTest_ConstructList, results=result.results)"
   ]
  },
  {
   "cell_type": "code",
   "execution_count": null,
   "metadata": {},
   "outputs": [],
   "source": [
    "%%submission\n",
    "def construct_list(int_size):\n",
    "    return [i for i in range(0, int_size+1)]"
   ]
  },
  {
   "cell_type": "code",
   "execution_count": null,
   "metadata": {},
   "outputs": [],
   "source": [
    "result, log = %autotest AutograderTest_ConstructList\n",
    "assert not result.results['passed']\n",
    "report(AutograderTest_ConstructList, results=result.results)"
   ]
  },
  {
   "cell_type": "code",
   "execution_count": null,
   "metadata": {},
   "outputs": [],
   "source": [
    "%%submission\n",
    "def construct_list(int_size):\n",
    "    return [i for i in range(0, int_size, 2)]"
   ]
  },
  {
   "cell_type": "code",
   "execution_count": null,
   "metadata": {},
   "outputs": [],
   "source": [
    "result, log = %autotest AutograderTest_ConstructList\n",
    "assert not result.results['passed']\n",
    "report(AutograderTest_ConstructList, results=result.results)"
   ]
  },
  {
   "cell_type": "markdown",
   "metadata": {},
   "source": [
    "## 練習\n",
    "\n",
    "次のような関数 `sum_lists` を作成してください。\n",
    "\n",
    "- `sum_lists` はリスト `list1` を引数とします。\n",
    "- `list1` の各要素はリストであり、そのリストの要素は数です。\n",
    "- `sum_lists` は、`list1` の各要素であるリストの総和を求め、それらの総和を足し合せて返します。\n",
    "\n",
    "以下のセルの `...` のところを書き換えて `sum_lists` を作成してください。\n",
    "\n",
    "```\n",
    "# EXERCISE METADATA\n",
    "exercise_id: \"SumLists\"\n",
    "```"
   ]
  },
  {
   "cell_type": "code",
   "execution_count": null,
   "metadata": {},
   "outputs": [],
   "source": [
    "%%solution\n",
    "def sum_lists(list1):\n",
    "    # BEGIN SOLUTION\n",
    "    sum = 0\n",
    "    for l in list1:\n",
    "        for x in l:\n",
    "            sum += x\n",
    "    return sum\n",
    "    # END SOLUTION"
   ]
  },
  {
   "cell_type": "markdown",
   "metadata": {},
   "source": [
    "上のセルで解答を作成した後、以下のセルを実行し、実行結果が `True` になることを確認してください。"
   ]
  },
  {
   "cell_type": "code",
   "execution_count": null,
   "metadata": {
    "tags": [
     "raises-exception"
    ]
   },
   "outputs": [],
   "source": [
    "print(sum_lists([[20, 5], [6, 16, 14, 5], [16, 8, 16, 17, 14], [1], [5, 3, 5, 7]]) == 158)"
   ]
  },
  {
   "cell_type": "code",
   "execution_count": null,
   "metadata": {},
   "outputs": [],
   "source": [
    "%%inlinetest AutograderTest_SumLists\n",
    "\n",
    "assert 'sum_lists' in globals(), \"Did you define a function named 'sum_lists' in the solution cell?\"\n",
    "assert str(sum_lists.__class__) == \"<class 'function'>\", f\"Did you define a function named 'sum_lists'? There was a {sum_lists.__class__} instead\"\n",
    "assert sum_lists([[0, 1], [2, 3]]) is not None, \"Did you forget to return a value?\"\n",
    "try:\n",
    "    sum_lists([0, 1, 2])\n",
    "    # Expecting nested array iteration attempt to throw an TypeError\n",
    "    assert false, \"Do you handle nested lists correctly?\"\n",
    "except:\n",
    "    pass\n",
    "assert sum_lists([[0]]) == 0, f\"Did you start summing with zero? Got {sum_lists([[0]])} instead of zero\"\n",
    "assert sum_lists([[0, 0]]) == 0, f\"Are you summing elements?\"\n",
    "assert sum_lists([[0, 0], [0, 0]]) == 0, f\"Are you summing elements?\"\n",
    "assert sum_lists([[1, 1]]) == 2, f\"Are you summing elements?\"\n",
    "assert sum_lists([[10, 10]]) == 20, f\"Are you summing elements?\"\n",
    "assert sum_lists([[1, 1], [1, 1]]) != 1, f\"Are you summing all elements? Try sum_lists([[1,1], [1,1]])\"\n",
    "assert sum_lists([[1, 1], [1, 1]]) != 2, f\"Are you summing all elements? Try sum_lists([[1,1], [1,1]])\"\n",
    "assert sum_lists([[1, 1], [1, 1]]) == 4, f\"Are you summing elements correctly? Try sum_lists([[1,1], [1,1]])\"\n",
    "assert sum_lists([[1, 1, 1], [1, 1]]) == 5, f\"Are you handling sublists of different length correctly?\"\n",
    "assert sum_lists([[1, 2, 3], [4, 5], [6, 7, 8, 9, 10]]) == 55, f\"Are you handling sublists of different length correctly?\""
   ]
  },
  {
   "cell_type": "code",
   "execution_count": null,
   "metadata": {},
   "outputs": [],
   "source": [
    "# Test the canonical submission with autograder test\n",
    "result, log = %autotest AutograderTest_SumLists\n",
    "assert result.results['passed']\n",
    "report(AutograderTest_SumLists, results=result.results)"
   ]
  },
  {
   "cell_type": "code",
   "execution_count": null,
   "metadata": {},
   "outputs": [],
   "source": [
    "%%submission\n",
    "def sum_lists(list1):\n",
    "    total = 0\n",
    "    for list2 in list1:  # for j in range(len(list1)):とlist2 = list1[j]としても良い\n",
    "        #print(list2)\n",
    "        for i in range(len(list2)):\n",
    "            #print(i, list2[i])\n",
    "            total += list2[i]\n",
    "    return total"
   ]
  },
  {
   "cell_type": "code",
   "execution_count": null,
   "metadata": {},
   "outputs": [],
   "source": [
    "# Test another canonical submission with autograder test\n",
    "result, log = %autotest AutograderTest_SumLists\n",
    "assert result.results['passed']\n",
    "report(AutograderTest_SumLists, results=result.results)"
   ]
  },
  {
   "cell_type": "code",
   "execution_count": null,
   "metadata": {},
   "outputs": [],
   "source": [
    "%%submission\n",
    "def sum_lists(list1):\n",
    "    total = 0\n",
    "    for x in list1:\n",
    "        total += x\n",
    "    return total"
   ]
  },
  {
   "cell_type": "code",
   "execution_count": null,
   "metadata": {},
   "outputs": [],
   "source": [
    "result, log = %autotest AutograderTest_SumLists\n",
    "print(result.results)\n",
    "assert not result.results['passed']\n",
    "report(AutograderTest_SumLists, results=result.results)"
   ]
  },
  {
   "cell_type": "code",
   "execution_count": null,
   "metadata": {},
   "outputs": [],
   "source": [
    "%%submission\n",
    "def sum_lists(list1):\n",
    "    total = 1\n",
    "    for l in list1:\n",
    "        for x in l:\n",
    "            total += x\n",
    "    return total"
   ]
  },
  {
   "cell_type": "code",
   "execution_count": null,
   "metadata": {},
   "outputs": [],
   "source": [
    "result, log = %autotest AutograderTest_SumLists\n",
    "print(result.results)\n",
    "assert not result.results['passed']\n",
    "report(AutograderTest_SumLists, results=result.results)"
   ]
  },
  {
   "cell_type": "markdown",
   "metadata": {},
   "source": [
    "## 練習\n",
    "\n",
    "リスト `list1` と `list2` が引数として与えられたとき、次のようなリスト `list3` を返す関数 `sum_matrix` を作成してください。\n",
    "\n",
    "- `list1`, `list2`, `list3` は、3つの要素を持ちます。\n",
    "- 各要素は大きさ3のリストになっており、そのリストの要素は全て数です。\n",
    "- `list3[i][j]` （ただし、`i` と `j` は共に、0以上2以下の整数）は `list1[i][j]` と `list2[i][j]` の値の和になっています。\n",
    "\n",
    "以下のセルの `...` のところを書き換えて `sum_matrix` を作成してください。\n",
    "\n",
    "```\n",
    "# EXERCISE METADATA\n",
    "exercise_id: \"SumMatrix\"\n",
    "```"
   ]
  },
  {
   "cell_type": "code",
   "execution_count": null,
   "metadata": {},
   "outputs": [],
   "source": [
    "%%solution\n",
    "def sum_matrix(list1, list2):\n",
    "    # BEGIN SOLUTION\n",
    "    ret = []\n",
    "    for i in range(len(list1)):\n",
    "        row = []\n",
    "        for j in range(len(list1[i])):\n",
    "            row.append(list1[i][j]+list2[i][j])\n",
    "        ret.append(row)\n",
    "    return ret\n",
    "    # END SOLUTION"
   ]
  },
  {
   "cell_type": "markdown",
   "metadata": {},
   "source": [
    "上のセルで解答を作成した後、以下のセルを実行し、実行結果が `True` になることを確認してください。"
   ]
  },
  {
   "cell_type": "code",
   "execution_count": null,
   "metadata": {
    "tags": [
     "raises-exception"
    ]
   },
   "outputs": [],
   "source": [
    "print(sum_matrix([[1,2,3],[4,5,6],[7,8,9]], [[1,4,7],[2,5,8],[3,6,9]]) == [[2, 6, 10], [6, 10, 14], [10, 14, 18]])"
   ]
  },
  {
   "cell_type": "code",
   "execution_count": null,
   "metadata": {},
   "outputs": [],
   "source": [
    "%%inlinetest AutograderTest_SumMatrix\n",
    "\n",
    "assert 'sum_matrix' in globals(), \"Did you define a function named 'sum_matrix' in the solution cell?\"\n",
    "assert str(sum_matrix.__class__) == \"<class 'function'>\", f\"Did you define a function named 'sum_matrix'? There was a {sum_matrix.__class__} instead\"\n",
    "assert sum_matrix([[0,0,0],[0,0,0],[0,0,0]], [[0,0,0],[0,0,0],[0,0,0]]) is not None, \"Did you forget to return a value?\"\n",
    "\n",
    "try:\n",
    "    sum_matrix([[0,0,0],[0,0,0],[0,0,0]], [[0,0,0],[0,0,0],[0,0,0]])\n",
    "except:\n",
    "    assert False, \"Did you iterate over matrices correctly?\"\n",
    "    \n",
    "assert sum_matrix([[0,0,0],[0,0,0],[0,0,0]], [[0,0,0],[0,0,0],[0,0,0]]) == [[0,0,0],[0,0,0],[0,0,0]], \"Did you accessed the first matrix correctly?\"\n",
    "assert sum_matrix([[1,1,1],[1,1,1],[1,1,1]], [[0,0,0],[0,0,0],[0,0,0]]) == [[1,1,1],[1,1,1],[1,1,1]], \"Did you accessed the first matrix correctly?\"\n",
    "assert sum_matrix([[0,0,0],[0,0,0],[0,0,0]], [[1,1,1],[1,1,1],[1,1,1]]) == [[1,1,1],[1,1,1],[1,1,1]], \"Did you accessed the second matrix correctly?\"\n",
    "assert sum_matrix([[1,1,1],[0,0,0],[0,0,0]], [[0,0,0],[0,0,0],[0,0,0]]) == [[1,1,1],[0,0,0],[0,0,0]], \"Did you computed rows correctly?\"\n",
    "assert sum_matrix([[1,0,0],[1,0,0],[1,0,0]], [[0,0,0],[0,0,0],[0,0,0]]) == [[1,0,0],[1,0,0],[1,0,0]], \"Did you computed rows correctly?\"\n",
    "assert sum_matrix([[1,2,3], [4,5,6], [7,8,9]], [[1,2,3],[4,5,6],[7,8,9]]) == [[2,4,6],[8,10,12],[14,16,18]], \"Did you summed the matrices correctly?\"\n",
    "assert sum_matrix([[1,2,3],[4,5,6],[7,8,9]], [[1,4,7],[2,5,8],[3,6,9]]) == [[2, 6, 10], [6, 10, 14], [10, 14, 18]]"
   ]
  },
  {
   "cell_type": "code",
   "execution_count": null,
   "metadata": {},
   "outputs": [],
   "source": [
    "# Test the canonical submission with autograder test\n",
    "result, log = %autotest AutograderTest_SumMatrix\n",
    "assert result.results['passed']\n",
    "report(AutograderTest_SumMatrix, results=result.results)"
   ]
  },
  {
   "cell_type": "code",
   "execution_count": null,
   "metadata": {},
   "outputs": [],
   "source": [
    "%%submission\n",
    "def sum_matrix(list1, list2):\n",
    "    list3 = [[0,0,0],[0,0,0],[0,0,0]]  #結果を格納するリストを初期化する（これがない場合も試してみてください）\n",
    "    for i in range(3):\n",
    "        for j in range(3):\n",
    "            list3[i][j] += list1[i][j] + list2[i][j]\n",
    "            #print(i, j, list1[i][j],'+', list1[i][j], '=', list3[i][j])\n",
    "    return list3"
   ]
  },
  {
   "cell_type": "code",
   "execution_count": null,
   "metadata": {},
   "outputs": [],
   "source": [
    "# Test another canonical submission with autograder test\n",
    "result, log = %autotest AutograderTest_SumMatrix\n",
    "print(result.results)\n",
    "assert result.results['passed']\n",
    "report(AutograderTest_SumMatrix, results=result.results)"
   ]
  },
  {
   "cell_type": "code",
   "execution_count": null,
   "metadata": {},
   "outputs": [],
   "source": [
    "%%submission\n",
    "def sum_matrix(list1, list2):\n",
    "    list3 = [[0,0,0],[0,0,0],[0,0,0]]  #結果を格納するリストを初期化する（これがない場合も試してみてください）\n",
    "    for i in range(3):\n",
    "        for j in range(3):\n",
    "            list3[i][j] += list1[i][j] + list1[i][j]\n",
    "    return list3"
   ]
  },
  {
   "cell_type": "code",
   "execution_count": null,
   "metadata": {},
   "outputs": [],
   "source": [
    "result, log = %autotest AutograderTest_SumMatrix\n",
    "print(result.results)\n",
    "assert not result.results['passed']\n",
    "report(AutograderTest_SumMatrix, results=result.results)"
   ]
  },
  {
   "cell_type": "markdown",
   "metadata": {},
   "source": [
    "## 練習\n",
    "\n",
    "文字列 `str1` と `str2` が引数として与えられたとき、\n",
    "`str2` が `str1` を部分文字列として含むかどうか判定する関数 `simple_match` を作成してください。\n",
    "具体的には、`str2` を含む場合、\n",
    "その部分文字列が開始される `str1` のインデックスを返り値として返してください。\n",
    "`str2` を含まない場合、 `-1` を返してください。\n",
    "ただし、`simple_match` の中で文字列のメソッドやモジュール（正規表現など）を使ってはいけません。\n",
    "\n",
    "以下のセルの `...` のところを書き換えて `simple_match` を作成してください。\n",
    "\n",
    "```\n",
    "# EXERCISE METADATA\n",
    "exercise_id: \"SimpleMatch\"\n",
    "```"
   ]
  },
  {
   "cell_type": "code",
   "execution_count": null,
   "metadata": {},
   "outputs": [],
   "source": [
    "%%solution\n",
    "def simple_match(str1, str2):\n",
    "    # BEGIN SOLUTION\n",
    "    try:\n",
    "        return str1.index(str2)\n",
    "    except ValueError:\n",
    "        return -1\n",
    "    # END SOLUTION"
   ]
  },
  {
   "cell_type": "markdown",
   "metadata": {},
   "source": [
    "上のセルで解答を作成した後、以下のセルを実行し、実行結果が `True` になることを確認してください。"
   ]
  },
  {
   "cell_type": "code",
   "execution_count": null,
   "metadata": {
    "tags": [
     "raises-exception"
    ]
   },
   "outputs": [],
   "source": [
    "print(simple_match('location', 'cat') == 2)\n",
    "print(simple_match('soccer', 'cat') == -1)\n",
    "print(simple_match('category', 'cat') == 0)\n",
    "print(simple_match('carpet', 'cat') == -1)"
   ]
  },
  {
   "cell_type": "code",
   "execution_count": null,
   "metadata": {},
   "outputs": [],
   "source": [
    "%%inlinetest AutograderTest_SimpleMatch\n",
    "\n",
    "assert 'simple_match' in globals(), \"Did you define a function named 'simple_match' in the solution cell?\"\n",
    "assert str(simple_match.__class__) == \"<class 'function'>\", f\"Did you define a function named 'simple_match'? There was a {simple_match.__class__} instead\"\n",
    "assert simple_match(\"abc\", \"abc\") is not None, \"Did you forget to return a value?\"\n",
    "\n",
    "\n",
    "assert simple_match(\"a\", \"abc\") != 0, \"Did you swapped str1 and str2?\"\n",
    "assert simple_match(\"a\", \"\") == 0, \"Did you handled empty string correctly?\"\n",
    "assert simple_match(\"\", \"\") == 0, \"Did you handled empty string correctly?\"\n",
    "assert simple_match(\"abc\", \"a\") == 0, \"Did you check the beginning of a string?\"\n",
    "assert simple_match(\"abc\", \"b\") == 1, \"Did you check in the middle of a string?\"\n",
    "assert simple_match(\"abc\", \"c\") == 2, \"Did you check in the middle of a string?\"\n",
    "assert simple_match(\"abc\", \"d\") == -1, \"Did you correctly handled missing string?\"\n",
    "assert simple_match(\"aabbcc\", \"b\") == 2, \"Did you return the position of the first match?\"\n",
    "assert simple_match(\"aabbcc\", \"bb\") == 2, \"Did you handle longer strings correctly?\"\n",
    "assert simple_match(\"aabbcc\", \"aabbcc\") == 0, \"Did you handle equal strings correctly?\"\n",
    "assert simple_match(\"aabbcce\", \"aabbccd\") == -1, \"Did you handle equal strings correctly?\"\n",
    "assert simple_match('location', 'cat') == 2\n",
    "assert simple_match('soccer', 'cat') == -1\n",
    "assert simple_match('category', 'cat') == 0\n",
    "assert simple_match('carpet', 'cat') == -1"
   ]
  },
  {
   "cell_type": "code",
   "execution_count": null,
   "metadata": {},
   "outputs": [],
   "source": [
    "# Test the canonical submission with autograder test\n",
    "result, log = %autotest AutograderTest_SimpleMatch\n",
    "assert result.results['passed']\n",
    "report(AutograderTest_SimpleMatch, results=result.results)"
   ]
  },
  {
   "cell_type": "code",
   "execution_count": null,
   "metadata": {},
   "outputs": [],
   "source": [
    "%%submission\n",
    "def simple_match(str1, str2):\n",
    "    for i in range(len(str1)-len(str2)+1):\n",
    "        j = 0\n",
    "        while j < len(str2) and str1[i+j] == str2[j]:  #str1とstr2が一致している限りループ（ただし、jがstr2の長さ以上にならない様にする）#この条件がないと…？\n",
    "            j += 1\n",
    "        if j == len(str2):  #str2の最後まで一致しているとこの条件が成立\n",
    "            return i\n",
    "    return -1"
   ]
  },
  {
   "cell_type": "code",
   "execution_count": null,
   "metadata": {},
   "outputs": [],
   "source": [
    "# Test another canonical submission with autograder test\n",
    "result, log = %autotest AutograderTest_SimpleMatch\n",
    "assert result.results['passed']\n",
    "report(AutograderTest_SimpleMatch, results=result.results)"
   ]
  },
  {
   "cell_type": "code",
   "execution_count": null,
   "metadata": {},
   "outputs": [],
   "source": [
    "%%submission\n",
    "def simple_match(str1, str2):\n",
    "    for i in range(len(str1)):\n",
    "        match = True\n",
    "        for j in range(len(str2)):\n",
    "            if str1[i+j] != str2[i+j]:\n",
    "                match = False\n",
    "        if match:\n",
    "            return i\n",
    "    return -1"
   ]
  },
  {
   "cell_type": "code",
   "execution_count": null,
   "metadata": {},
   "outputs": [],
   "source": [
    "result, log = %autotest AutograderTest_SimpleMatch\n",
    "print(result.results)\n",
    "assert not result.results['passed']\n",
    "report(AutograderTest_SimpleMatch, results=result.results)"
   ]
  },
  {
   "cell_type": "markdown",
   "metadata": {},
   "source": [
    "## 練習\n",
    "\n",
    "以下のプログラムでは1秒おきに `print` が永久に実行されます。\n",
    "\n",
    "---\n",
    "```Python\n",
    "from time import sleep\n",
    "\n",
    "while True:\n",
    "    print('Yeah!')\n",
    "    sleep(1)\n",
    "```\n",
    "---\n",
    "\n",
    "10回 `print` が実行された後にwhile文を終了するように書き換えてください。\n",
    "実行中のセルを停止させるには、Jupyter Notebook のInterrupt（割り込み）ボタンが使えます。"
   ]
  },
  {
   "cell_type": "code",
   "execution_count": null,
   "metadata": {},
   "outputs": [],
   "source": [
    "\n"
   ]
  },
  {
   "cell_type": "markdown",
   "metadata": {},
   "source": [
    "## 練習\n",
    "\n",
    "英語の文章からなる文字列 `str_engsentence` が引数として与えられたとき、\n",
    "`str_engsentence` 中に含まれる3文字以上の全ての英単語を要素とするリストを返す関数\n",
    "`collect_engwords` を作成してください。ただし、同じ単語を重複して含んでいて構いません。\n",
    "\n",
    "以下のセルの `...` のところを書き換えて `collect_engwords(str_engsentence)` を作成してください。\n",
    "\n",
    "```\n",
    "# EXERCISE METADATA\n",
    "exercise_id: \"CollectEngwords\"\n",
    "```"
   ]
  },
  {
   "cell_type": "code",
   "execution_count": null,
   "metadata": {},
   "outputs": [],
   "source": [
    "%%solution\n",
    "import re\n",
    "def collect_engwords(str_engsentence):\n",
    "    # BEGIN SOLUTION\n",
    "    ret = []\n",
    "    for m in re.findall(r'[a-zA-Z]{3,}', str_engsentence):\n",
    "        ret.append(m)\n",
    "    return ret\n",
    "    # END SOLUTION"
   ]
  },
  {
   "cell_type": "markdown",
   "metadata": {},
   "source": [
    "上のセルで解答を作成した後、以下のセルを実行し、実行結果が `True` になることを確認してください。"
   ]
  },
  {
   "cell_type": "code",
   "execution_count": null,
   "metadata": {
    "tags": [
     "raises-exception"
    ]
   },
   "outputs": [],
   "source": [
    "print(collect_engwords('Unfortunately no, it requires something with a little more kick, plutonium.') == ['Unfortunately', 'requires',\n",
    "'something', 'with', 'little', 'more', 'kick', 'plutonium'])"
   ]
  },
  {
   "cell_type": "code",
   "execution_count": null,
   "metadata": {},
   "outputs": [],
   "source": [
    "%%inlinetest AutograderTest_CollectEngwords\n",
    "\n",
    "assert 'collect_engwords' in globals(), \"Did you define a function named 'collect_engwords' in the solution cell?\"\n",
    "assert str(collect_engwords.__class__) == \"<class 'function'>\", f\"Did you define a function named 'collect_engwords'? There was a {collect_engwords.__class__} instead\"\n",
    "assert collect_engwords(\"abc\") is not None, \"Did you forget to return a value?\"\n",
    "\n",
    "assert collect_engwords(\"abc\") == ['abc'], \"Did you handle lowercase letters a-z?\"\n",
    "assert collect_engwords(\"ABC\") == ['ABC'], \"Did you handle uppercase letters A-Z?\"\n",
    "assert collect_engwords(\"ABC def\") == ['ABC', 'def'], \"Did you split words on space?\"\n",
    "assert collect_engwords(\"ABC  def\") == ['ABC', 'def'], \"Did you split words on space?\"\n",
    "assert collect_engwords(\"ABC,def\") == ['ABC', 'def'], \"Did you split words on punctuation?\"\n",
    "assert collect_engwords(\"ABC_def\") == ['ABC', 'def'], \"Did you split words on non-word characters?\"\n",
    "assert collect_engwords(\"A def\") == ['def'], \"Did you exclude short words?\"\n",
    "assert collect_engwords(\"AB def\") == ['def'], \"Did you exclude short words?\"\n",
    "assert collect_engwords(\"AB defghakerkvalkejrkwjekvkajkwerklewrwe\") == ['defghakerkvalkejrkwjekvkajkwerklewrwe'], \"Did you handle long words?\"\n",
    "assert collect_engwords(\"AB def ghikj kl m nop\") == ['def', 'ghikj', 'nop'], \"Did you handle multiple words?\"\n",
    "assert collect_engwords('Unfortunately no, it requires something with a little more kick, plutonium.') == ['Unfortunately', 'requires',\n",
    "'something', 'with', 'little', 'more', 'kick', 'plutonium']"
   ]
  },
  {
   "cell_type": "code",
   "execution_count": null,
   "metadata": {},
   "outputs": [],
   "source": [
    "# Test the canonical submission with autograder test\n",
    "result, log = %autotest AutograderTest_CollectEngwords\n",
    "assert result.results['passed']\n",
    "report(AutograderTest_CollectEngwords, results=result.results)"
   ]
  },
  {
   "cell_type": "code",
   "execution_count": null,
   "metadata": {},
   "outputs": [],
   "source": [
    "%%submission\n",
    "def collect_engwords(str_engsentences):\n",
    "    list_punctuation = ['.', ',', ':', ';', '!', '?']\n",
    "    for j in range(len(list_punctuation)):  #list_punctuationの中の文字列（この場合、句読点）を空文字列に置換する\n",
    "        str_engsentences = str_engsentences.replace(list_punctuation[j], ' ')\n",
    "    #print(str_engsentences)\n",
    "    list_str1 = str_engsentences.split(' ')\n",
    "    list_str2 = []\n",
    "    for j in range(len(list_str1)):\n",
    "        if len(list_str1[j]) >= 3:\n",
    "            list_str2.append(list_str1[j])\n",
    "    return list_str2"
   ]
  },
  {
   "cell_type": "code",
   "execution_count": null,
   "metadata": {},
   "outputs": [],
   "source": [
    "# The solution given at the end of notebook is not fully correct.\n",
    "import re\n",
    "result, log = %autotest AutograderTest_CollectEngwords\n",
    "print(result.results)\n",
    "assert not result.results['passed']\n",
    "assert re.search(r'non-word characters', str(result.results['error']))\n",
    "report(AutograderTest_CollectEngwords, results=result.results)"
   ]
  },
  {
   "cell_type": "markdown",
   "metadata": {},
   "source": [
    "## 練習\n",
    "\n",
    "2つの同じ大きさのリストが引数として与えられたとき、\n",
    "2つのリストの奇数インデックスの要素を値を入れ替えて、\n",
    "その結果得られる2つのリストをタプルにして返す関数 `swap_lists` を作成してください\n",
    "（ただし、0 は偶数として扱うものとします）。\n",
    "与えられたリストは破壊しても構いません。\n",
    "\n",
    "以下のセルの `...` のところを書き換えて `swap_lists(ln1, ln2)` を作成してください。"
   ]
  },
  {
   "cell_type": "code",
   "execution_count": null,
   "metadata": {},
   "outputs": [],
   "source": [
    "def swap_lists(ln1, ln2):\n",
    "    ..."
   ]
  },
  {
   "cell_type": "markdown",
   "metadata": {},
   "source": [
    "上のセルで解答を作成した後、以下のセルを実行し、実行結果が `True` になることを確認してください。"
   ]
  },
  {
   "cell_type": "code",
   "execution_count": null,
   "metadata": {
    "tags": [
     "raises-exception"
    ]
   },
   "outputs": [],
   "source": [
    "print(swap_lists([1, 2, 3, 4, 5], ['a', 'b', 'c', 'd', 'e']) == ([1, 'b', 3, 'd', 5], ['a', 2, 'c', 4, 'e']))"
   ]
  },
  {
   "cell_type": "markdown",
   "metadata": {},
   "source": [
    "## 練習\n",
    "文字列 `str1` を引数として取り、\n",
    "`str1` の中に含まれる大文字の数を返す関数 `count_capitalletters` を作成してください。\n",
    "\n",
    "以下のセルの `...` のところを書き換えて `count_capitalletters(str1)` を作成してください。"
   ]
  },
  {
   "cell_type": "code",
   "execution_count": null,
   "metadata": {},
   "outputs": [],
   "source": [
    "def count_capitalletters(str1):\n",
    "    ..."
   ]
  },
  {
   "cell_type": "markdown",
   "metadata": {},
   "source": [
    "上のセルで解答を作成した後、以下のセルを実行し、実行結果が `True` になることを確認してください。"
   ]
  },
  {
   "cell_type": "code",
   "execution_count": null,
   "metadata": {
    "tags": [
     "raises-exception"
    ]
   },
   "outputs": [],
   "source": [
    "print(count_capitalletters('Que Será, Será') == 3)"
   ]
  },
  {
   "cell_type": "markdown",
   "metadata": {},
   "source": [
    "## 練習\n",
    "\n",
    "長さが 3 の倍数である文字列 `str_augc` が引数として与えられたとき、\n",
    "`str_augc` を長さ 3 の文字列に区切り、それらを順に格納したリストを返す関数 `identify_codons` を作成してください。\n",
    "\n",
    "以下のセルの `...` のところを書き換えて `identify_codons(str_augc)` を作成してください。"
   ]
  },
  {
   "cell_type": "code",
   "execution_count": null,
   "metadata": {},
   "outputs": [],
   "source": [
    "def identify_codons(str_augc):\n",
    "    ..."
   ]
  },
  {
   "cell_type": "markdown",
   "metadata": {},
   "source": [
    "上のセルで解答を作成した後、以下のセルを実行し、実行結果が `True` になることを確認してください。"
   ]
  },
  {
   "cell_type": "code",
   "execution_count": null,
   "metadata": {
    "tags": [
     "raises-exception"
    ]
   },
   "outputs": [],
   "source": [
    "print(identify_codons('CCCCCGGCACCT') == ['CCC', 'CCG', 'GCA', 'CCT'])"
   ]
  },
  {
   "cell_type": "markdown",
   "metadata": {},
   "source": [
    "## 練習\n",
    "\n",
    "正の整数 `int1` が引数として与えられたとき、\n",
    "`int1` の値の下桁から3桁毎にコンマ (`,`) を入れた文字列を返す関数 `add_commas` を作成してください。\n",
    "ただし、数の先頭にコンマを入れる必要はありません。\n",
    "\n",
    "以下のセルの `...` のところを書き換えて `add_commas` を作成してください。"
   ]
  },
  {
   "cell_type": "code",
   "execution_count": null,
   "metadata": {},
   "outputs": [],
   "source": [
    "def add_commas(int1):\n",
    "    ..."
   ]
  },
  {
   "cell_type": "markdown",
   "metadata": {},
   "source": [
    "上のセルで解答を作成した後、以下のセルを実行し、全ての実行結果が `True` になることを確認してください。"
   ]
  },
  {
   "cell_type": "code",
   "execution_count": null,
   "metadata": {
    "tags": [
     "raises-exception"
    ]
   },
   "outputs": [],
   "source": [
    "print(add_commas(14980) == '14,980')\n",
    "print(add_commas(3980) == '3,980')\n",
    "print(add_commas(298) == '298')\n",
    "print(add_commas(1000000) == '1,000,000')"
   ]
  },
  {
   "cell_type": "markdown",
   "metadata": {},
   "source": [
    "## 練習\n",
    "\n",
    "リスト `list1` が引数として与えられ、次のような文字列 `str1` を返す関数 `sum_strings` を作成してください。\n",
    "\n",
    "`list1` は `k` 個の要素を持つとします（ただし、`k` は正の整数）。\n",
    "`list1` の要素が文字列でなければ文字列に変換してください。\n",
    "その上で、`list1` の1番目から `k-2` 番目の各要素の後ろにコンマとスペースからなる文字列 `', '` を加え、\n",
    "`k-1` 番目の要素の後ろには、`' and '` を加え、1番目から `k` 番目までの要素を繋げた文字列を `str1` とします。\n",
    "\n",
    "以下のセルの `...` のところを書き換えて `sum_strings` を作成してください。"
   ]
  },
  {
   "cell_type": "code",
   "execution_count": null,
   "metadata": {},
   "outputs": [],
   "source": [
    "def sum_strings(list1):\n",
    "    ..."
   ]
  },
  {
   "cell_type": "markdown",
   "metadata": {},
   "source": [
    "上のセルで解答を作成した後、以下のセルを実行し、実行結果が `True` になることを確認してください。"
   ]
  },
  {
   "cell_type": "code",
   "execution_count": null,
   "metadata": {
    "tags": [
     "raises-exception"
    ]
   },
   "outputs": [],
   "source": [
    "print(sum_strings(['a', 'b', 'c', 'd']) == 'a, b, c and d')\n",
    "print(sum_strings(['a']) == 'a')\n",
    "print(sum_strings([1, 2, 3]) == '1, 2 and 3')"
   ]
  },
  {
   "cell_type": "markdown",
   "metadata": {},
   "source": [
    "## 練習\n",
    "\n",
    "辞書 `dic1` と長さ 10 以下の文字列 `str1` が引数として与えられたとき、\n",
    "以下のように `dic1` を変更する関数 `handle_collision2` を作成してください。\n",
    "ただし、`dic1` のキーは、1 以上 10 以下の整数、キーに対応する値は文字列とします。\n",
    "\n",
    "1. `dic1` に `str1` の長さ `n` がキーとして登録されていない場合、`dic1` に キー `n`、`n` に対応する値 `str1` を登録します。\n",
    "2. `dic1` に `str1` の長さ `n` がキーとして登録されている場合、`i` の値を `n+1`, `n+2`, ...と1つずつ増やしていき、`dic1` にキーとして登録されていない値 `i` を探します。キーとして登録されていない値 `i` が見つかった場合、その `i` をキー、`i` に対応する値として `str1` を登録してください。 ただし、`i` を 10 まで増やしても登録されていない値が見つからない場合は、`i` を 1 に戻した上で `i` を増やす作業を続行してください。\n",
    "3. 2の手順によって、登録可能な `i` が見つからなかった場合、`dic1` を変更しません。 \n",
    "\n",
    "以下のセルの `...` のところを書き換えて `handle_collision2(dic1, str1)` を作成してください。"
   ]
  },
  {
   "cell_type": "code",
   "execution_count": null,
   "metadata": {},
   "outputs": [],
   "source": [
    "def handle_collision2(dic1, str1):\n",
    "    ..."
   ]
  },
  {
   "cell_type": "markdown",
   "metadata": {},
   "source": [
    "上のセルで解答を作成した後、以下のセルを実行し、実行結果が `True` になることを確認してください。"
   ]
  },
  {
   "cell_type": "code",
   "execution_count": null,
   "metadata": {
    "tags": [
     "raises-exception"
    ]
   },
   "outputs": [],
   "source": [
    "dic1_orig = {6: 'Styles', 4: 'Link', 7: 'Ackroyd'}\n",
    "handle_collision2(dic1_orig, 'Big Four')\n",
    "print(dic1_orig == {6: 'Styles', 4: 'Link', 7: 'Ackroyd', 8: 'Big Four'})\n",
    "dic1_orig = {6: 'Styles', 4: 'Link', 7: 'Ackroyd', 8: 'Big Four', 10: 'Blue Train', 9: 'End House'}\n",
    "handle_collision2(dic1_orig, 'Edgware')\n",
    "print(dic1_orig == {6: 'Styles', 4: 'Link', 7: 'Ackroyd', 8: 'Big Four', 10: 'Blue Train', 9: 'End House', 1: 'Edgware'})\n",
    "dic1_orig = {6: 'Styles', 4: 'Link', 7: 'Ackroyd', 8: 'Big Four', 10: 'Blue Train', 9: 'End House', 1: 'Edgware', 2: 'Orient', 3: 'Three Act', 5: 'Clouds'}\n",
    "handle_collision2(dic1_orig, 'ABC')\n",
    "print(dic1_orig == {6: 'Styles', 4: 'Link', 7: 'Ackroyd', 8: 'Big Four', 10: 'Blue Train', 9: 'End House', 1: 'Edgware', 2: 'Orient', 3: 'Three Act', 5: 'Clouds'})"
   ]
  },
  {
   "cell_type": "markdown",
   "metadata": {},
   "source": [
    "## 練習\n",
    "\n",
    "整数を最初の要素、文字列をその次の要素とするリスト（これを子リストと呼びます）を要素とするリスト\n",
    "`list1` が引数として与えられたとき、次のような辞書 `dic1` を返す関数 `handle_collision3` を作成してください。\n",
    "\n",
    "* 各子リスト `list2` に対して、`dic1` のキーは `list2` の最初の要素である整数とし、そのキーに対応する値は次の要素である文字列とします。\n",
    "* 2つ以上の子リストの最初の要素が同じ整数である場合、`list1` においてより小さいインデックスを持つ子リストの文字列を、その整数のキーに対応する値とします。\n",
    "\n",
    "以下のセルの `...` のところを書き換えて `handle_collision3(list1)` を作成してください。"
   ]
  },
  {
   "cell_type": "code",
   "execution_count": null,
   "metadata": {},
   "outputs": [],
   "source": [
    "def handle_collision3(list1):\n",
    "    ..."
   ]
  },
  {
   "cell_type": "markdown",
   "metadata": {},
   "source": [
    "上のセルで解答を作成した後、以下のセルを実行し、実行結果が True になることを確認してください。"
   ]
  },
  {
   "cell_type": "code",
   "execution_count": null,
   "metadata": {
    "tags": [
     "raises-exception"
    ]
   },
   "outputs": [],
   "source": [
    "print(handle_collision3([[3, 'Richard III'], [1, 'Othello'], [2, 'Tempest'], [3, 'King John'], [4, 'Midsummer'], [1, 'Lear']]) == {1: 'Othello', 2: 'Tempest', 3: 'Richard III', 4: 'Midsummer'})"
   ]
  },
  {
   "cell_type": "markdown",
   "metadata": {},
   "source": [
    "## 練習の解答"
   ]
  },
  {
   "cell_type": "code",
   "execution_count": null,
   "metadata": {},
   "outputs": [],
   "source": [
    "def reverse_lookup2(dic1):\n",
    "    dic2 = {}  #辞書を初期化する\n",
    "    for key, value in dic1.items():\n",
    "        dic2[value] = key\n",
    "    return dic2\n",
    "#reverse_lookup2({'apple':3, 'pen':5, 'orange':7})"
   ]
  },
  {
   "cell_type": "code",
   "execution_count": null,
   "metadata": {},
   "outputs": [],
   "source": [
    "def sum_n(x,y):\n",
    "    sum = 0\n",
    "    for i in range(x, y + 1):\n",
    "        sum = sum + i\n",
    "    return sum\n",
    "#sum_n(1,3)"
   ]
  },
  {
   "cell_type": "code",
   "execution_count": null,
   "metadata": {},
   "outputs": [],
   "source": [
    "def construct_list(int_size):\n",
    "    ln = int_size * [0]\n",
    "    for i in range(int_size):\n",
    "        ln[i] = i\n",
    "    return ln\n",
    "#construct_list(10)"
   ]
  },
  {
   "cell_type": "code",
   "execution_count": null,
   "metadata": {},
   "outputs": [],
   "source": [
    "def sum_lists(list1):\n",
    "    total = 0\n",
    "    for list2 in list1:  # for j in range(len(list1)):とlist2 = list1[j]としても良い\n",
    "        #print(list2)\n",
    "        for i in range(len(list2)):\n",
    "            #print(i, list2[i])\n",
    "            total += list2[i]\n",
    "    return total"
   ]
  },
  {
   "cell_type": "code",
   "execution_count": null,
   "metadata": {},
   "outputs": [],
   "source": [
    "def sum_matrix(list1, list2):\n",
    "    list3 = [[0,0,0],[0,0,0],[0,0,0]]  #結果を格納するリストを初期化する（これがない場合も試してみてください）\n",
    "    for i in range(3):\n",
    "        for j in range(3):\n",
    "            list3[i][j] += list1[i][j] + list2[i][j]\n",
    "            #print(i, j, list1[i][j],'+', list1[i][j], '=', list3[i][j])\n",
    "    return list3\n",
    "#sum_matrix([[1,2,3],[4,5,6],[7,8,9]], [[1,4,7],[2,5,8],[3,6,9]])"
   ]
  },
  {
   "cell_type": "code",
   "execution_count": null,
   "metadata": {},
   "outputs": [],
   "source": [
    "def simple_match(str1, str2):\n",
    "    for i in range(len(str1)-len(str2)+1):\n",
    "        j = 0\n",
    "        while j < len(str2) and str1[i+j] == str2[j]:  #str1とstr2が一致している限りループ（ただし、jがstr2の長さ以上にならない様にする）#この条件がないと…？\n",
    "            j += 1\n",
    "        if j == len(str2):  #str2の最後まで一致しているとこの条件が成立\n",
    "            return i\n",
    "    return -1\n",
    "#for文による別解\n",
    "#def simple_match(str1, str2):\n",
    "#    for i in range(len(str1)-len(str2)+1):\n",
    "#        #print('i=', i)\n",
    "#        fMatch = True#マッチ判定\n",
    "#        for j in range(len(str2)):\n",
    "#            #print('j=', j, 'str1[i+j]=', str1[i+j], ' str2[j]=', str2[j])\n",
    "#            if str1[i+j] != str2[j]:#str2が終了する前に一致しない箇所があるかどうか\n",
    "#                fMatch = False\n",
    "#                break\n",
    "#        if fMatch:\n",
    "#            return i\n",
    "#    return -1\n",
    "#print(simple_match('location', 'cat') == 2)\n",
    "#print(simple_match('soccer', 'cat') == -1)\n",
    "#print(simple_match('category', 'cat') == 0)\n",
    "#print(simple_match('carpet', 'cat') == -1)"
   ]
  },
  {
   "cell_type": "markdown",
   "metadata": {},
   "source": [
    "## 練習の解説\n",
    "下のセルは、繰り返し回数として `count` 変数を利用した解答例です。回数を理解しやすくするため `print()`関数で `count` 変数も印字しています。"
   ]
  },
  {
   "cell_type": "code",
   "execution_count": null,
   "metadata": {},
   "outputs": [],
   "source": [
    "from time import sleep\n",
    "\n",
    "count = 0\n",
    "while True:\n",
    "    print('Yeah!', count)\n",
    "    count += 1\n",
    "    if(count >= 10):\n",
    "        break\n",
    "    sleep(1)"
   ]
  },
  {
   "cell_type": "markdown",
   "metadata": {},
   "source": [
    "## 練習の解答"
   ]
  },
  {
   "cell_type": "code",
   "execution_count": null,
   "metadata": {},
   "outputs": [],
   "source": [
    "def collect_engwords(str_engsentences):\n",
    "    list_punctuation = ['.', ',', ':', ';', '!', '?']\n",
    "    for j in range(len(list_punctuation)):  #list_punctuationの中の文字列（この場合、句読点）を空文字列に置換する\n",
    "        str_engsentences = str_engsentences.replace(list_punctuation[j], ' ')\n",
    "    #print(str_engsentences)\n",
    "    list_str1 = str_engsentences.split(' ')\n",
    "    list_str2 = []\n",
    "    for j in range(len(list_str1)):\n",
    "        if len(list_str1[j]) >= 3:\n",
    "            list_str2.append(list_str1[j])\n",
    "    return list_str2\n",
    "#collect_engwords('Unfortunately no, it requires something with a little more kick, plutonium.')"
   ]
  },
  {
   "cell_type": "code",
   "execution_count": null,
   "metadata": {},
   "outputs": [],
   "source": [
    "def swap_lists(ln1, ln2):\n",
    "    for j in range(len(ln1)):\n",
    "        if j % 2 == 1:\n",
    "            ln1[j], ln2[j] = ln2[j], ln1[j]\n",
    "    return ln1, ln2\n",
    "#swap_lists([1, 2, 3, 4, 5], ['a', 'b', 'c', 'd', 'e'])"
   ]
  },
  {
   "cell_type": "code",
   "execution_count": null,
   "metadata": {},
   "outputs": [],
   "source": [
    "def count_capitalletters(str1):\n",
    "    int_count = 0\n",
    "    for i in range(len(str1)):\n",
    "        str2 = str1[i].upper()\n",
    "        str3 = str1[i].lower()\n",
    "        if str1[i] == str2 and str2 != str3:#前者の条件で大文字であることを、後者の条件で句読点などでないことを判定する\n",
    "            int_count += 1\n",
    "    return int_count\n",
    "#count_capitalletters('Que Será, Será')"
   ]
  },
  {
   "cell_type": "code",
   "execution_count": null,
   "metadata": {},
   "outputs": [],
   "source": [
    "def identify_codons(str_augc):\n",
    "    str_codons = []\n",
    "    int_codonnum = int(len(str_augc)/3)\n",
    "    for i in range(int_codonnum):\n",
    "        str_codons.append(str_augc[i*3: i*3+3])\n",
    "    return str_codons\n",
    "#identify_codons('CCCCCGGCACCT')"
   ]
  },
  {
   "cell_type": "code",
   "execution_count": null,
   "metadata": {},
   "outputs": [],
   "source": [
    "def add_commas(int1):\n",
    "    list1 = list(str(int1))  #文字列に変換し、更にそれを1文字ずつリストに格納する\n",
    "    str1 = ''\n",
    "    ccnt = 1  #3の倍数の位を調べるのに使う\n",
    "    for i in range(len(list1)-1, -1, -1):  #1の位の値から、大きい方の位の値に向かって処理を行う\n",
    "        str1 = list1[i] + str1\n",
    "        if ccnt % 3 == 0 and i != 0:  #3の倍数の位の前であり、一番大きい位でないならば\n",
    "            str1 = ',' + str1  #コンマをうつ\n",
    "        ccnt += 1\n",
    "    return str1\n",
    "#print(add_commas(14980) == '14,980')\n",
    "#print(add_commas(2980) == '2,980')\n",
    "#print(add_commas(298) == '298')\n",
    "#print(add_commas(1000000) == '1,000,000')"
   ]
  },
  {
   "cell_type": "code",
   "execution_count": null,
   "metadata": {},
   "outputs": [],
   "source": [
    "def sum_strings(list_str):\n",
    "    str1 = ''\n",
    "    for i in range(len(list_str)):\n",
    "        if i < len(list_str) - 2:#後ろから3番目までの要素\n",
    "            str1 = str1 + str(list_str[i]) + ', '\n",
    "        elif i == len(list_str) - 2:#後ろから2番目の要素\n",
    "            str1 += str(list_str[i]) + ' and '\n",
    "        else:#一番後ろの要素\n",
    "            str1 += str(list_str[i])\n",
    "    return str1\n",
    "#sum_strings(['a', 'b', 'c', 'd'])\n",
    "#sum_strings(['a'])"
   ]
  },
  {
   "cell_type": "code",
   "execution_count": null,
   "metadata": {},
   "outputs": [],
   "source": [
    "def handle_collision2(dic1, str1):\n",
    "    n = len(str1)\n",
    "    for i in range(n, 11):\n",
    "        if  dic1.get(i) is None:# == None でも良い\n",
    "            dic1[i] = str1\n",
    "            return\n",
    "    for i in range(1, n):\n",
    "        if  dic1.get(i) is None:# == None でも良い\n",
    "            dic1[i] = str1\n",
    "            return "
   ]
  },
  {
   "cell_type": "code",
   "execution_count": null,
   "metadata": {},
   "outputs": [],
   "source": [
    "def handle_collision3(list1):\n",
    "    dic1 = {} # 空の辞書を作成する\n",
    "    for i in range(len(list1)):\n",
    "        list2 = list1[i]\n",
    "        if dic1.get(list2[0]) is None:# == None でも良い\n",
    "            dic1[list2[0]] = list2[1]\n",
    "    return dic1\n",
    "#handle_collision3([[3, 'Richard III'], [1, 'Othello'], [2, 'Tempest'], [3, 'King John'], [4, 'Midsummer'], [1, 'Lear']])"
   ]
  },
  {
   "cell_type": "code",
   "execution_count": null,
   "metadata": {},
   "outputs": [],
   "source": []
  }
 ],
 "metadata": {
  "kernelspec": {
   "display_name": "Python 3",
   "language": "python",
   "name": "python3"
  },
  "language_info": {
   "codemirror_mode": {
    "name": "ipython",
    "version": 3
   },
   "file_extension": ".py",
   "mimetype": "text/x-python",
   "name": "python",
   "nbconvert_exporter": "python",
   "pygments_lexer": "ipython3",
   "version": "3.7.3"
  }
 },
 "nbformat": 4,
 "nbformat_minor": 2
}
