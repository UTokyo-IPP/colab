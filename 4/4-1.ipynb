{
 "cells": [
  {
   "cell_type": "markdown",
   "metadata": {},
   "source": [
    "## 練習\n",
    "\n",
    "文字列 `name` をファイル名とするファイルをオープンして、\n",
    "`read()` のメソッドによってファイル全体を文字列として読み込み、\n",
    "その文字数を返す関数 `number_of_characters(name)` を作成してください。\n",
    "\n",
    "注意：`return` する前にファイルをクローズすることを忘れないようにしてください。"
   ]
  },
  {
   "cell_type": "code",
   "execution_count": null,
   "metadata": {},
   "outputs": [],
   "source": [
    "def  number_of_characters(name):\n",
    "    ..."
   ]
  },
  {
   "cell_type": "markdown",
   "metadata": {},
   "source": [
    "上のセルで解答を作成した後、以下のセルを実行し、実行結果が `True` になることを確認してください。"
   ]
  },
  {
   "cell_type": "code",
   "execution_count": null,
   "metadata": {
    "tags": [
     "raises-exception"
    ]
   },
   "outputs": [],
   "source": [
    "print(number_of_characters('sample.txt') == 446)"
   ]
  },
  {
   "cell_type": "markdown",
   "metadata": {},
   "source": [
    "## 練習\n",
    "文字列 `name` をファイル名とするファイルの最後の行を文字列として返す関数 `last_line(name)` を定義してください。"
   ]
  },
  {
   "cell_type": "code",
   "execution_count": null,
   "metadata": {},
   "outputs": [],
   "source": [
    "def last_line(name):\n",
    "    ..."
   ]
  },
  {
   "cell_type": "markdown",
   "metadata": {},
   "source": [
    "上のセルで解答を作成した後、以下のセルを実行し、実行結果が `True` になることを確認してください。"
   ]
  },
  {
   "cell_type": "code",
   "execution_count": null,
   "metadata": {
    "scrolled": true,
    "tags": [
     "raises-exception"
    ]
   },
   "outputs": [],
   "source": [
    "print(last_line('sample.txt')==\"Excepteur sint occaecat cupidatat non proident, sunt in culpa qui officia deserunt mollit anim id est laborum.\\n\")"
   ]
  },
  {
   "cell_type": "markdown",
   "metadata": {
    "slideshow": {
     "slide_type": "skip"
    }
   },
   "source": [
    "## 練習\n",
    "\n",
    "2つのファイル名 `infile`, `outfile` を引数として、`infile` の半角英文字をすべて大文字にした結果を `outfile` に書き込む `file_upper(infile, outfile)` という関数を作成してください。   \n",
    "\n",
    "なお、半角英文字の小文字を大文字に変換するには `upper()` というメソッドが使えます。\n",
    "たとえば `line` という名前の変数に半角文字列が入っている場合、`line.upper()` とすれば小文字に変換した文字列を返します。"
   ]
  },
  {
   "cell_type": "code",
   "execution_count": null,
   "metadata": {},
   "outputs": [],
   "source": [
    "def file_upper(infile,outfile):\n",
    "    ..."
   ]
  },
  {
   "cell_type": "markdown",
   "metadata": {},
   "source": [
    "上のセルで解答を作成した後、以下のセルを実行し、実行結果が `True` になることを確認してください。"
   ]
  },
  {
   "cell_type": "code",
   "execution_count": null,
   "metadata": {
    "tags": [
     "raises-exception"
    ]
   },
   "outputs": [],
   "source": [
    "with open('print-test.txt', 'w') as f:\n",
    "    print('hello', 'world', file=f)\n",
    "file_upper('print-test.txt', 'print-test-upper.txt')\n",
    "with open('print-test-upper.txt', 'r') as f:\n",
    "    print(f.read() == 'HELLO WORLD\\n')"
   ]
  },
  {
   "cell_type": "markdown",
   "metadata": {},
   "source": [
    "## 練習の解答"
   ]
  },
  {
   "cell_type": "code",
   "execution_count": null,
   "metadata": {},
   "outputs": [],
   "source": [
    "def  number_of_characters(name):\n",
    "    f = open(name, 'r')\n",
    "    s = f.read()\n",
    "    f.close()\n",
    "    return len(s)"
   ]
  },
  {
   "cell_type": "code",
   "execution_count": null,
   "metadata": {},
   "outputs": [],
   "source": [
    "def last_line(name):\n",
    "    last = ''\n",
    "    with open(name, 'r') as f:\n",
    "        while True:\n",
    "            line = f.readline()\n",
    "            if line == '':\n",
    "                return last\n",
    "            last = line"
   ]
  },
  {
   "cell_type": "code",
   "execution_count": null,
   "metadata": {},
   "outputs": [],
   "source": [
    "def file_upper(infile,outfile):\n",
    "    with open(infile, 'r') as f:\n",
    "        with open(outfile, 'w') as g:\n",
    "            g.write(f.read().upper())"
   ]
  },
  {
   "cell_type": "markdown",
   "metadata": {},
   "source": [
    "以下のように一つのwith文に複数の `open` を書くこともできます。"
   ]
  },
  {
   "cell_type": "code",
   "execution_count": null,
   "metadata": {},
   "outputs": [],
   "source": [
    "def file_upper(infile,outfile):\n",
    "    with open(infile, 'r') as f, open(outfile, 'w') as g:\n",
    "        g.write(f.read().upper())"
   ]
  },
  {
   "cell_type": "code",
   "execution_count": null,
   "metadata": {},
   "outputs": [],
   "source": []
  }
 ],
 "metadata": {
  "kernelspec": {
   "display_name": "Python 3",
   "language": "python",
   "name": "python3"
  },
  "language_info": {
   "codemirror_mode": {
    "name": "ipython",
    "version": 3
   },
   "file_extension": ".py",
   "mimetype": "text/x-python",
   "name": "python",
   "nbconvert_exporter": "python",
   "pygments_lexer": "ipython3",
   "version": "3.6.7"
  }
 },
 "nbformat": 4,
 "nbformat_minor": 2
}
