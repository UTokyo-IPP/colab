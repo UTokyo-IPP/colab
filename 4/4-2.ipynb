{
 "cells": [
  {
   "cell_type": "code",
   "execution_count": null,
   "metadata": {},
   "outputs": [],
   "source": [
    "# MASTER ONLY\n",
    "\n",
    "%load_ext prog_edu_assistant_tools.magics\n",
    "from prog_edu_assistant_tools.magics import report, autotest\n",
    "from random import randint"
   ]
  },
  {
   "cell_type": "markdown",
   "metadata": {},
   "source": [
    "```\n",
    "# ASSIGNMENT METADATA\n",
    "assignment_id: \"4-2\"\n",
    "```\n",
    "\n",
    "## 練習\n",
    "文字列 `name` をファイル名とするファイルの最後の行を文字列として返す関数 `last_line(name)` を、\n",
    "ファイルオブジェクトに対するfor文を用いて定義してください。\n",
    "\n",
    "```\n",
    "# EXERCISE METADATA\n",
    "exercise_id: \"LastLine\"\n",
    "```"
   ]
  },
  {
   "cell_type": "code",
   "execution_count": null,
   "metadata": {},
   "outputs": [],
   "source": [
    "%%solution\n",
    "def last_line(name):\n",
    "    # BEGIN SOLUTION\n",
    "    with open(name) as f:\n",
    "        last = ''\n",
    "        for line in f.readlines():\n",
    "            if line != '':\n",
    "                last = line\n",
    "        return last\n",
    "    # END SOLUTION"
   ]
  },
  {
   "cell_type": "markdown",
   "metadata": {},
   "source": [
    "上のセルで解答を作成した後、以下のセルを実行し、実行結果が `True` になることを確認してください。"
   ]
  },
  {
   "cell_type": "code",
   "execution_count": null,
   "metadata": {
    "tags": [
     "raises-exception"
    ]
   },
   "outputs": [],
   "source": [
    "print(last_line('sample.txt')==\"Excepteur sint occaecat cupidatat non proident, sunt in culpa qui officia deserunt mollit anim id est laborum.\\n\")"
   ]
  },
  {
   "cell_type": "code",
   "execution_count": null,
   "metadata": {},
   "outputs": [],
   "source": [
    "%%inlinetest AutograderTest_LastLine\n",
    "from inspect import signature\n",
    "assert 'last_line' in globals(), \"Did you define the function last_line?\"\n",
    "assert str(last_line.__class__) == \"<class 'function'>\", f\"last_line should be a function. Found {last_line.__class__}.\"\n",
    "assert len(signature(last_line).parameters) == 1, f\"The last_line function should take one parameter. Found {len(signature(last_line).parameters)} parameters.\"\n",
    "\n",
    "assert last_line('sample.txt') is not None, \"Did you forget to return a value?\"\n",
    "assert last_line('sample.txt') != '', \"Did you handle the last line correctly? When the file ends in newline, the empty string after the last newline is not considered the last line.\"\n",
    "assert last_line('sample.txt') != 'Excepteur sint occaecat cupidatat non proident, sunt in culpa qui officia deserunt mollit anim id est laborum.', \"Did you include the ending newline character?\"\n",
    "assert last_line('sample.txt') == 'Excepteur sint occaecat cupidatat non proident, sunt in culpa qui officia deserunt mollit anim id est laborum.\\n', \"Did you read the file correctly?\"\n",
    "assert last_line('test_empty.txt') == '', \"Did you handle empty file correctly?\"\n",
    "\n",
    "try:\n",
    "    submission_source\n",
    "except NameError:\n",
    "    import submission_source\n",
    "import re\n",
    "assert re.search(r'for ', submission_source.source) is not None, \"Did you use for loop as requested?\"\n",
    "assert re.search(r'\\n[ \\t]*for ', submission_source.source) is not None, \"Did you use top-level for loop as requested?\""
   ]
  },
  {
   "cell_type": "code",
   "execution_count": null,
   "metadata": {},
   "outputs": [],
   "source": [
    "# Check the canonical solution\n",
    "result, log = %autotest AutograderTest_LastLine\n",
    "assert result.results['passed']\n",
    "report(AutograderTest_LastLine, results=result.results)"
   ]
  },
  {
   "cell_type": "code",
   "execution_count": null,
   "metadata": {},
   "outputs": [],
   "source": [
    "%%submission\n",
    "# This solution is superficially correct, but does not use for-loop as instructed.\n",
    "def last_line(name):\n",
    "    with open(name) as f:\n",
    "        lines = f.readlines()\n",
    "        if len(lines) == 0:\n",
    "            return ''\n",
    "        if len(lines) == 1:\n",
    "            return lines[-1]\n",
    "        if lines[-1] == '':\n",
    "            return lines[-2] + '\\n'\n",
    "        return lines[-1]"
   ]
  },
  {
   "cell_type": "code",
   "execution_count": null,
   "metadata": {},
   "outputs": [],
   "source": [
    "result, log = %autotest AutograderTest_LastLine\n",
    "print(result.results)\n",
    "assert not result.results['passed']\n",
    "import re\n",
    "assert re.search(r'Did you use for loop as requested', str(result.results['error']))\n",
    "report(AutograderTest_LastLine, results=result.results)"
   ]
  },
  {
   "cell_type": "markdown",
   "metadata": {},
   "source": [
    "## 練習\n",
    "\n",
    "リストをもらって、そのイテレータを作り、最初の要素だけ取り出した後、\n",
    "そのイテレータを返す関数 `but_first(ls)` を定義してください。\n",
    "\n",
    "```\n",
    "# EXERCISE METADATA\n",
    "exercise_id: \"ButFirst\"\n",
    "```"
   ]
  },
  {
   "cell_type": "code",
   "execution_count": null,
   "metadata": {},
   "outputs": [],
   "source": [
    "%%solution\n",
    "def but_first(ls):\n",
    "    # BEGIN SOLUTION\n",
    "    it = iter(ls)\n",
    "    first = next(it)\n",
    "    return it\n",
    "    # END SOLUTION"
   ]
  },
  {
   "cell_type": "code",
   "execution_count": null,
   "metadata": {},
   "outputs": [],
   "source": [
    "%%inlinetest AutograderTest_ButFirst\n",
    "\n",
    "assert 'but_first' in globals(), \"Did you define the function but_first?\"\n",
    "assert str(but_first.__class__) == \"<class 'function'>\", f\"but_first should be a function. Found {but_first.__class__}.\"\n",
    "\n",
    "assert but_first([0]) is not None, \"Did you forget to return a value?\"\n",
    "assert type(but_first([0])) == type(iter([])), f\"Did you return an iterator? Found {type(but_first([0]))}\"\n",
    "assert next(but_first([0, 1])) != 0, \"Did you skip first element? Try but_first([0, 1])\"\n",
    "assert list(but_first([0, 1])) == [1], \"Did you iterate over all elements? Try but_first([0, 1])\"\n",
    "assert list(but_first([0, 1, 2, 3, 4])) == [1,2,3,4], \"Did you iterate over all elements? Try but_first([0, 1, 2, 3, 4])\""
   ]
  },
  {
   "cell_type": "code",
   "execution_count": null,
   "metadata": {},
   "outputs": [],
   "source": [
    "# Check the canonical solution\n",
    "result, log = %autotest AutograderTest_ButFirst\n",
    "assert result.results['passed']\n",
    "report(AutograderTest_ButFirst, results=result.results)"
   ]
  },
  {
   "cell_type": "code",
   "execution_count": null,
   "metadata": {},
   "outputs": [],
   "source": [
    "%%submission\n",
    "def but_first(ls):\n",
    "    return ls"
   ]
  },
  {
   "cell_type": "code",
   "execution_count": null,
   "metadata": {},
   "outputs": [],
   "source": [
    "result, log = %autotest AutograderTest_ButFirst\n",
    "print(result.results)\n",
    "assert not result.results['passed']\n",
    "import re\n",
    "assert re.search(r\"Did you return an iterator\", str(result.results['error']))\n",
    "report(AutograderTest_ButFirst, results=result.results)"
   ]
  },
  {
   "cell_type": "code",
   "execution_count": null,
   "metadata": {},
   "outputs": [],
   "source": [
    "%%submission\n",
    "def but_first(ls):\n",
    "    return ls[1:]"
   ]
  },
  {
   "cell_type": "code",
   "execution_count": null,
   "metadata": {},
   "outputs": [],
   "source": [
    "result, log = %autotest AutograderTest_ButFirst\n",
    "print(result.results)\n",
    "assert not result.results['passed']\n",
    "import re\n",
    "assert re.search(r\"Did you return an iterator\", str(result.results['error']))\n",
    "report(AutograderTest_ButFirst, results=result.results)"
   ]
  },
  {
   "cell_type": "code",
   "execution_count": null,
   "metadata": {},
   "outputs": [],
   "source": [
    "%%submission\n",
    "def but_first(ls):\n",
    "    return iter(ls[1:])"
   ]
  },
  {
   "cell_type": "code",
   "execution_count": null,
   "metadata": {},
   "outputs": [],
   "source": [
    "result, log = %autotest AutograderTest_ButFirst\n",
    "print(result.results)\n",
    "assert result.results['passed']\n",
    "report(AutograderTest_ButFirst, results=result.results)"
   ]
  },
  {
   "cell_type": "markdown",
   "metadata": {},
   "source": [
    "上のセルで解答を作成した後、以下のセルを実行し、実行結果が `True` になることを確認してください。"
   ]
  },
  {
   "cell_type": "code",
   "execution_count": null,
   "metadata": {
    "tags": [
     "raises-exception"
    ]
   },
   "outputs": [],
   "source": [
    "it = but_first([0,2,4,6,8])\n",
    "print(type(it) == type(iter([])))\n",
    "print(list(it) == [2,4,6,8])"
   ]
  },
  {
   "cell_type": "markdown",
   "metadata": {},
   "source": [
    "## 練習の解答"
   ]
  },
  {
   "cell_type": "code",
   "execution_count": null,
   "metadata": {},
   "outputs": [],
   "source": [
    "def last_line(name):\n",
    "    f = open(name, 'r')\n",
    "    for line in f:\n",
    "        pass\n",
    "    f.close()\n",
    "    return line"
   ]
  },
  {
   "cell_type": "code",
   "execution_count": null,
   "metadata": {},
   "outputs": [],
   "source": [
    "def but_first(ls):\n",
    "    it = iter(ls)\n",
    "    next(it)\n",
    "    return it"
   ]
  }
 ],
 "metadata": {
  "kernelspec": {
   "display_name": "Python 3",
   "language": "python",
   "name": "python3"
  },
  "language_info": {
   "codemirror_mode": {
    "name": "ipython",
    "version": 3
   },
   "file_extension": ".py",
   "mimetype": "text/x-python",
   "name": "python",
   "nbconvert_exporter": "python",
   "pygments_lexer": "ipython3",
   "version": "3.7.3"
  }
 },
 "nbformat": 4,
 "nbformat_minor": 2
}
